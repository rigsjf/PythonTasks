{
 "cells": [
  {
   "cell_type": "markdown",
   "metadata": {},
   "source": [
    "# Arquivos\n",
    "\n",
    "---\n",
    "Exercícios sugeridos da lista: 1, 2, 3, 4, 5"
   ]
  },
  {
   "cell_type": "markdown",
   "metadata": {},
   "source": [
    "Vamos refletir sobre os programas que fizemos até agora"
   ]
  },
  {
   "cell_type": "code",
   "execution_count": null,
   "metadata": {},
   "outputs": [],
   "source": [
    "nome = input('digite seu nome: ')\n",
    "\n",
    "print(nome)"
   ]
  },
  {
   "cell_type": "markdown",
   "metadata": {},
   "source": [
    "No código acima, as informações fornecidas pelo usuário têm como ser acessadas depois que o programa é fechado?\n",
    "\n",
    "Até agora nossos programas têm dependido do usuário dar entradas que gerarão saídas. Mas há situações em que é desejável **salvar** as entradas do usuário para uso posterior\n",
    "\n",
    "Exemplos:\n",
    "* mensagens do whatsapp\n",
    "* mensagens de e-mail\n",
    "* cadastro em uma loja\n",
    "* dados de um cliente\n",
    "* dados de uma tabela"
   ]
  },
  {
   "cell_type": "markdown",
   "metadata": {},
   "source": [
    "Computadores armazenam os dados dos programas em execução (variáveis, funções, retornos, etc.) na *memória RAM*; mas a memória RAM é **volátil**, ou seja: assim que o computador é desligado, ela é completamente esvaziada e, portanto, os dados do programa são perdidos.\n",
    "\n",
    "Mas como podemos **guardar** essas informações para uso posterior?"
   ]
  },
  {
   "cell_type": "markdown",
   "metadata": {},
   "source": [
    "## Persistência em Arquivo"
   ]
  },
  {
   "cell_type": "markdown",
   "metadata": {},
   "source": [
    "Ao salvar dados em um arquivo, garantimos que as informações ficarão salvas no *armazenamento* do computador, e portanto disponíveis para acesso posterior; o armazenamento não é esvaziado quando o computador é desligado."
   ]
  },
  {
   "cell_type": "markdown",
   "metadata": {},
   "source": [
    "### Abrindo arquivos"
   ]
  },
  {
   "cell_type": "markdown",
   "metadata": {},
   "source": [
    "Para salvarmos dados num arquivo, primeiramente precisaremos abrí-lo. Abrir, nesse caso, pode significar tanto abrir um arquivo existente quanto criar um novo.\n",
    "\n",
    "Para operarmos com arquivos, usaremos a função `open()`"
   ]
  },
  {
   "cell_type": "markdown",
   "metadata": {},
   "source": [
    "Vamos salvar a palavra entrada pelo usuário no programa acima em um arquivo, chamado `palavra.txt`"
   ]
  },
  {
   "cell_type": "markdown",
   "metadata": {},
   "source": [
    "**Importante:** sempre que *abrirmos* um arquivo, devemos *fechá-lo* posteriormente, com o método `close()`"
   ]
  },
  {
   "cell_type": "code",
   "execution_count": null,
   "metadata": {},
   "outputs": [],
   "source": [
    "arq = open('nome.txt')\n",
    "arq.close()"
   ]
  },
  {
   "cell_type": "markdown",
   "metadata": {},
   "source": [
    "### Escrevendo arquivos"
   ]
  },
  {
   "cell_type": "markdown",
   "metadata": {},
   "source": [
    "Abrimos o arquivo, mas além disso queremos **salvar** informações nele. Para isso, podemos usar um modo de operação da função `open()`, que na prática se traduz em um argumento"
   ]
  },
  {
   "cell_type": "markdown",
   "metadata": {},
   "source": [
    "| Operação | Argumento |\n",
    "|----------|-----------|\n",
    "| ler (*read*)* | r |\n",
    "| escrever (*write*) | w |\n",
    "| adicionar (*append*) | a |\n",
    "| atualizar (*update*) | + |\n",
    "\n",
    "\\* a operação de leitura é a padrão, ou seja, se não especificarmos o argumento o interpretador assumirá que queremos somente ler o arquivo"
   ]
  },
  {
   "cell_type": "markdown",
   "metadata": {},
   "source": [
    "A sintaxe que usaremos será a seguinte:\n",
    "\n",
    "`arquivo = open(nome_do_arquivo, operacao)`\n",
    "\n",
    "Lembre-se que os argumentos da tabela acima são strings!\n",
    "\n",
    "Ou seja, pra *abrirmos* o arquivo `palavra.txt` e *escrevermos* nele, usaremos a seguinte sintaxe:\n",
    "\n",
    "`arquivo = open(nome_do_arquivo, 'w')` ou \n",
    "\n",
    "`arquivo = open(nome_do_arquivo, \"w\")`"
   ]
  },
  {
   "cell_type": "code",
   "execution_count": null,
   "metadata": {},
   "outputs": [],
   "source": [
    "arq = open('nome.txt', 'w')\n",
    "arq.close()"
   ]
  },
  {
   "cell_type": "markdown",
   "metadata": {},
   "source": [
    "Isso nos permite criar o arquivo `palavra.txt`, mas o arquivo estará vazio\n",
    "\n",
    "Para, de fato, escrevermos no arquivo, usaremos o método `write()`.\n",
    "\n",
    "`arquivo_aberto.write(texto)`"
   ]
  },
  {
   "cell_type": "code",
   "execution_count": null,
   "metadata": {},
   "outputs": [],
   "source": [
    "nome = input('digite seu nome: ')\n",
    "\n",
    "arq = open('nome.txt', 'w')\n",
    "\n",
    "arq.write(nome)\n",
    "\n",
    "arq.close()\n",
    "\n",
    "print(nome)"
   ]
  },
  {
   "cell_type": "code",
   "execution_count": null,
   "metadata": {},
   "outputs": [],
   "source": [
    "outro_arq = open('nome.txt', 'w')\n",
    "\n",
    "outro_arq.write('eu fui alterado')\n",
    "\n",
    "outro_arq.close()"
   ]
  },
  {
   "cell_type": "code",
   "execution_count": null,
   "metadata": {},
   "outputs": [],
   "source": [
    "arq_append = open('nome.txt', 'a')\n",
    "\n",
    "arq_append.write('\\noi')\n",
    "\n",
    "arq_append.close()"
   ]
  },
  {
   "cell_type": "markdown",
   "metadata": {},
   "source": [
    "### Lendo Arquivos"
   ]
  },
  {
   "cell_type": "markdown",
   "metadata": {},
   "source": [
    "Agora que escrevemos nosso arquivo, podemos pegar os dados salvos de volta, com a função `open()` no modo de *leitura*.\n",
    "\n",
    "`arquivo = open(nome_do_arquivo, 'r')` ou\n",
    "\n",
    "`arquivo = open(nome_do_arquivo)`\n",
    "\n",
    "Como o modo de leitura é o **padrão** para a função `open()`, não precisamos explicitar o argumento `'r'` se não quisermos\n",
    "\n",
    "Assim como com o método `write()`, para a leitura usaremos o método `read()`\n",
    "\n",
    "`dados = arquivo_aberto.read()`"
   ]
  },
  {
   "cell_type": "code",
   "execution_count": null,
   "metadata": {},
   "outputs": [],
   "source": [
    "arquivo = open('nome.txt')\n",
    "\n",
    "print(arquivo.read())\n",
    "\n",
    "arquivo.close()"
   ]
  },
  {
   "cell_type": "markdown",
   "metadata": {},
   "source": [
    "#### Uma sintaxe mais conveniente"
   ]
  },
  {
   "cell_type": "markdown",
   "metadata": {},
   "source": [
    "Uma facilidade que o Python nos oferece para trabalhar com arquivos é a palavra reservada `with`, que usaremos da seguinte maneira:\n",
    "\n",
    "```\n",
    "with open(nome_do_arquivo, modo_de_operacao) as nome_conveniente:\n",
    "    operações...\n",
    "```\n",
    "\n",
    "Dessa maneira, assim que as operações no meio do código terminarem de serem executadas, o interpretador fechará o arquivo sem que precisemos intervir. \n",
    "\n",
    "Leia o código acima da seguinte maneira: \"enquanto o arquivo `nome_do_arquivo` estiver aberto no modo de operação `modo_de_operacao`, chame-o de `nome_conveniente` e faça as seguintes `operações`. Quando elas terminarem, feche o arquivo.\""
   ]
  },
  {
   "cell_type": "markdown",
   "metadata": {},
   "source": [
    "Assim, vamos reescrever nossos códigos dessa nova maneira:"
   ]
  },
  {
   "cell_type": "code",
   "execution_count": null,
   "metadata": {},
   "outputs": [],
   "source": [
    "nome = input('digite seu nome: ')\n",
    "\n",
    "with open('nome.txt', 'w') as arquivo:\n",
    "    arquivo.write(nome)"
   ]
  },
  {
   "cell_type": "code",
   "execution_count": null,
   "metadata": {},
   "outputs": [],
   "source": [
    "with open('nome.txt', encoding='UTF-8') as arquivo_com_nome:\n",
    "    print(arquivo_com_nome.read())"
   ]
  },
  {
   "cell_type": "markdown",
   "metadata": {},
   "source": [
    "#### Separando linhas de um arquivo"
   ]
  },
  {
   "cell_type": "markdown",
   "metadata": {},
   "source": [
    "O que acontece se imprimirmos o arquivo diretamente?"
   ]
  },
  {
   "cell_type": "code",
   "execution_count": null,
   "metadata": {},
   "outputs": [],
   "source": [
    "with open('haiku.txt') as haiku:\n",
    "    print(haiku)"
   ]
  },
  {
   "cell_type": "markdown",
   "metadata": {},
   "source": [
    "Ou seja: para obtermos os dados de um arquivo, vamos usar o método `read()`. "
   ]
  },
  {
   "cell_type": "code",
   "execution_count": null,
   "metadata": {},
   "outputs": [],
   "source": [
    "with open('haiku.txt') as haiku:\n",
    "    print(haiku.read())"
   ]
  },
  {
   "cell_type": "markdown",
   "metadata": {},
   "source": [
    "E se quisermos, por exemplo, contar quantas linhas um arquivo tem?"
   ]
  },
  {
   "cell_type": "code",
   "execution_count": null,
   "metadata": {},
   "outputs": [],
   "source": [
    "with open('haiku.txt') as haiku:\n",
    "    num_linhas = 0\n",
    "\n",
    "    for linha in haiku.read():\n",
    "        num_linhas += 1\n",
    "\n",
    "    print(num_linhas)"
   ]
  },
  {
   "cell_type": "markdown",
   "metadata": {},
   "source": [
    "Ou seja, quando usamos o `read()` o arquivo é lido *caractere por caractere*. Portanto, se precisarmos percorrer o arquivo *linha por linha*, precisamos mudar um pouco a estratégia.\n",
    "\n",
    "Aqui, temos duas opções:"
   ]
  },
  {
   "cell_type": "markdown",
   "metadata": {},
   "source": [
    "- o método `readlines()`"
   ]
  },
  {
   "cell_type": "code",
   "execution_count": null,
   "metadata": {},
   "outputs": [],
   "source": [
    "with open('haiku.txt') as haiku:\n",
    "    num_linhas = 0\n",
    "\n",
    "    for linha in haiku.readlines():\n",
    "        num_linhas += 1\n",
    "\n",
    "    print(num_linhas)"
   ]
  },
  {
   "cell_type": "markdown",
   "metadata": {},
   "source": [
    "- iterar sobre o arquivo"
   ]
  },
  {
   "cell_type": "code",
   "execution_count": null,
   "metadata": {},
   "outputs": [],
   "source": [
    "with open('haiku.txt') as haiku:\n",
    "    num_linhas = 0\n",
    "\n",
    "    for linha in haiku:\n",
    "        num_linhas += 1\n",
    "\n",
    "    print(num_linhas)"
   ]
  },
  {
   "cell_type": "markdown",
   "metadata": {},
   "source": [
    "#### Processando linhas"
   ]
  },
  {
   "cell_type": "markdown",
   "metadata": {},
   "source": [
    "E se só quisermos imprimir as linhas que cumprirem alguma condição? \n",
    "\n",
    "Exemplo: imprimir do arquivo `haiku.txt` somente as linhas que têm as letras 'sil', tanto em letras maiúsculas quanto minúsculas"
   ]
  },
  {
   "cell_type": "code",
   "execution_count": null,
   "metadata": {},
   "outputs": [],
   "source": [
    "with open('haiku.txt') as haiku:\n",
    "    for linha in haiku.readlines():\n",
    "        if 'sil' in linha.lower(): # como 'linha' é uma string...\n",
    "            print(linha)"
   ]
  },
  {
   "cell_type": "markdown",
   "metadata": {},
   "source": [
    "#### Criando um arquivo em outra pasta"
   ]
  },
  {
   "cell_type": "code",
   "execution_count": null,
   "metadata": {},
   "outputs": [],
   "source": [
    "# OBS 1: para o exemplo a seguir funcionar, \n",
    "# a pasta nova_pasta precisa existir na pasta atual\n",
    "\n",
    "# OBS 2: para usuário de Windows ao invés da barra '/'\n",
    "# é preciso usar a barra invertida '\\'\n",
    "# with open(\"nova_pasta\\arq.txt\") as arq:\n",
    "#         print(arq.readlines())\n",
    "\n",
    "# para usuários de Linux ou MacOS\n",
    "with open('nova_pasta/arq.txt', 'r') as arq:\n",
    "    dados = arq.read()\n",
    "\n",
    "dados = 'olá'\n",
    "\n",
    "with open('arq.txt', 'w') as arq:\n",
    "    arq.write(dados)"
   ]
  },
  {
   "cell_type": "markdown",
   "metadata": {},
   "source": [
    "### Exercício 1: manipulação de arquivo txt"
   ]
  },
  {
   "cell_type": "markdown",
   "metadata": {},
   "source": [
    "Escreva uma função em Python que leia o conteúdo de um arquivo dado pelo usuário e imprima cada uma de suas linhas."
   ]
  },
  {
   "cell_type": "code",
   "execution_count": null,
   "metadata": {},
   "outputs": [],
   "source": [
    "def imprime_linhas(arquivo):\n",
    "    with open(arquivo) as arq:\n",
    "        for linha in arq.readlines():\n",
    "            print(linha, end='')\n",
    "\n",
    "imprime_linhas('haiku.txt')\n",
    "\n",
    "# print('quebra de\\nlinha')\n",
    "# print('tabula\\tção')"
   ]
  },
  {
   "cell_type": "markdown",
   "metadata": {},
   "source": [
    "### Exercício 2: manipulação de arquivo txt"
   ]
  },
  {
   "cell_type": "markdown",
   "metadata": {},
   "source": [
    "Escreva um programa em Python que *adicione* texto a um arquivo já existente e imprima seu conteúdo"
   ]
  },
  {
   "cell_type": "code",
   "execution_count": null,
   "metadata": {},
   "outputs": [],
   "source": [
    "def adiciona_e_imprime(arquivo, texto):\n",
    "    with open(arquivo, 'a') as arq:\n",
    "        arq.write(texto)\n",
    "\n",
    "    with open(arquivo) as arq:\n",
    "        for linha in arq.readlines():\n",
    "            print(linha)\n",
    "\n",
    "adiciona_e_imprime('haiku.txt', '\\nHaikus não fazem sentido')"
   ]
  },
  {
   "cell_type": "code",
   "execution_count": null,
   "metadata": {},
   "outputs": [],
   "source": [
    "# variação do programa que só adiciona o texto\n",
    "# se o arquivo já não o tiver\n",
    "# ex.: só adiciona 'banana' se 'banana'\n",
    "# já não estiver escrito em algum lugar do arquivo\n",
    "with open('haiku.txt', 'a+') as haiku:\n",
    "    haiku.seek(0) # move o cursor pra posição 0 do arquivo\n",
    "    \n",
    "    if 'Haikus não fazem sentido' not in haiku.read():\n",
    "        haiku.write('\\nHaikus não fazem sentido')\n",
    "    \n",
    "with open('haiku.txt') as haiku:\n",
    "    print(haiku.read())"
   ]
  },
  {
   "cell_type": "code",
   "execution_count": null,
   "metadata": {},
   "outputs": [],
   "source": [
    "with open('haiku.txt', 'a') as arq:\n",
    "    arq.write('vivendo e aprendendo')\n",
    "    \n",
    "with open('haiku.txt') as haiku:\n",
    "    print(haiku.read())"
   ]
  },
  {
   "cell_type": "markdown",
   "metadata": {},
   "source": [
    "### Exercício 3: manipulação de arquivo txt"
   ]
  },
  {
   "cell_type": "markdown",
   "metadata": {},
   "source": [
    "Escreva uma função em Python que imprima as primeiras n linhas de um arquivo de texto. O valor n deve ser fornecido pelo usuário."
   ]
  },
  {
   "cell_type": "code",
   "execution_count": null,
   "metadata": {},
   "outputs": [],
   "source": [
    "# DESAFIO: solução mais elegante\n",
    "# aqui estamos pegando a lista retornada pelo método readlines()\n",
    "# feito isso, usamos o splice para imprimir do primeiro ao n-ésimo item,\n",
    "# ou seja, arq.readlines[:n] (poderia ser [0:n] também)\n",
    "# e por fim adicionamos o operador de desenrolar (*) \n",
    "# para ler cada item da lista individualmente\n",
    "def imprime_n_linhas_1(arquivo, n):\n",
    "    with open(arquivo) as arq:\n",
    "        print(*arq.readlines()[:n])\n",
    "\n",
    "# solução mais intuitiva\n",
    "def imprime_n_linhas_2(arquivo, n):\n",
    "    with open(arquivo) as arq:\n",
    "        contador = 0        \n",
    "        for linha in arq.readlines():\n",
    "            if contador < n:\n",
    "                print(linha)\n",
    "\n",
    "            contador += 1\n",
    "\n",
    "imprime_n_linhas_1('haiku.txt', 2)\n",
    "print('---')\n",
    "imprime_n_linhas_2('haiku.txt', 2)"
   ]
  },
  {
   "cell_type": "markdown",
   "metadata": {},
   "source": [
    "### Exercício de Fixação: Criptografia\n",
    "\n",
    "Seu objetivo com essa atividade é criar um programa capaz de criptografar textos. Isso tem vantagens no gerenciamento de senhas, por exemplo. Você deverá estruturar seu programa da seguinte maneira:\n",
    "\n",
    "Criar uma função que recebe um texto como parâmetro e retorna esse mesmo texto criptografado. A criptografia deve ocorrer conforme a seguinte regra:\n",
    "- Substituir 'a' por 'z'\n",
    "- Substituir 'b' por 'y'\n",
    "- Substituir 'c' por 'x'\n",
    "- E assim por diante...\n",
    "\n",
    "Criar uma função que lê o conteúdo de um arquivo e cria um segundo criptografado. Essa função deve receber dois parâmetros:\n",
    "- O primeiro é o nome do arquivo de entrada, servirá de entrada com os textos originais (ainda a serem criptografados);\n",
    "- O segundo é o nome do arquivo de saída, servirá de saída com os textos já criptografados."
   ]
  },
  {
   "cell_type": "code",
   "execution_count": null,
   "metadata": {},
   "outputs": [],
   "source": []
  },
  {
   "cell_type": "markdown",
   "metadata": {},
   "source": [
    "## Arquivos csv"
   ]
  },
  {
   "cell_type": "markdown",
   "metadata": {},
   "source": [
    "### Tabelas"
   ]
  },
  {
   "cell_type": "markdown",
   "metadata": {},
   "source": [
    "Uma estrutura de dados muito útil sobretudo para estudos estatísticos é a tabela. Há diversos formatos de arquivo que podemos usar para trabalhar com tabelas, como `.xls`, `.xlsx`, etc.\n",
    "\n",
    "No entanto, como podemos implementar uma tabela puramente em Python?"
   ]
  },
  {
   "cell_type": "code",
   "execution_count": 3,
   "metadata": {},
   "outputs": [],
   "source": [
    "import csv\n",
    "\n",
    "contatos_lista = [\n",
    "    ['Nome', 'Sobrenome', 'Email'],\n",
    "    ['Ricardo', 'Silva', 'ricardo@email.com'],\n",
    "    ['Renato', 'Arbex', 'renato@email.com']\n",
    "]\n",
    "\n",
    "with open('contatos.csv', 'w') as contatos:\n",
    "    contato_csv = csv.writer(contatos)\n",
    "    contato_csv.writerows(contatos_lista)\n"
   ]
  },
  {
   "cell_type": "markdown",
   "metadata": {},
   "source": [
    "Isso funciona bem, mas felizmente há maneiras mais práticas de utilizarmos tabelas em Python. "
   ]
  },
  {
   "cell_type": "markdown",
   "metadata": {},
   "source": [
    "### O formato csv"
   ]
  },
  {
   "cell_type": "markdown",
   "metadata": {},
   "source": [
    "Arquivos `.csv` (*comma-separated values*, ou seja, *valores separados por vírgula*) são arquivos que utilizados para guardar dados na forma de *tabela*. \n",
    "\n",
    "Sua sintaxe é simples e tem a seguinte forma:"
   ]
  },
  {
   "cell_type": "markdown",
   "metadata": {},
   "source": [
    "```\n",
    "nome,idade,cpf\n",
    "matheus,21,00933\n",
    "felipe,36,11234\n",
    "jonas,42,10287\n",
    "```"
   ]
  },
  {
   "cell_type": "markdown",
   "metadata": {},
   "source": [
    "**Observação 1:** embora o nome mencione a *vírgula* e a maioria dos arquivos a utilize para separar os valores, delimitadores como ponto-e-vírgula (\";\"), tabulações (\"\\t\") e espaços (\" \") também são aceitos; o que importa é manter cada linha da tabela em uma linha diferente"
   ]
  },
  {
   "cell_type": "markdown",
   "metadata": {},
   "source": [
    "**Observação 2:** todas as linhas **devem** ter o mesmo número de valores para que o arquivo seja válido"
   ]
  },
  {
   "cell_type": "markdown",
   "metadata": {},
   "source": [
    "Em Python, a biblioteca `pandas` é comumente utilizada para manipulação de arquivos `.csv`. No entanto, para os fins deste curso usaremos uma biblioteca mais simples, com o sugestivo nome de `csv`"
   ]
  },
  {
   "cell_type": "markdown",
   "metadata": {},
   "source": [
    "### Escrevendo arquivos csv"
   ]
  },
  {
   "cell_type": "markdown",
   "metadata": {},
   "source": [
    "Antes de começarmos a escrever precisamos abrir o arquivo que desejamos, assim como fizemos antes"
   ]
  },
  {
   "cell_type": "markdown",
   "metadata": {},
   "source": [
    "Para escrever no arquivo, utilizaremos o método `csv.writer()`, que retorna um objeto do tipo `csv.writer`, uma classe feita para escrever arquivos `csv`"
   ]
  },
  {
   "cell_type": "markdown",
   "metadata": {},
   "source": [
    "Assim, usaremos o método da seguinte maneira:\n",
    "```\n",
    "identificador = csv.writer(arquivo, delimiter='delimitador', lineterminator='terminador de linha')\n",
    "```\n",
    "sendo que `delimiter` e `linterminator` são, por padrão, `','` e `'\\n'`, respectivamente"
   ]
  },
  {
   "cell_type": "code",
   "execution_count": null,
   "metadata": {},
   "outputs": [],
   "source": []
  },
  {
   "cell_type": "markdown",
   "metadata": {},
   "source": [
    "### Lendo arquivos csv"
   ]
  },
  {
   "cell_type": "markdown",
   "metadata": {},
   "source": [
    "Lembrando de abrir o arquivo com o nome desejado, podemos usar o método `csv.reader()` para ler a tabela."
   ]
  },
  {
   "cell_type": "markdown",
   "metadata": {},
   "source": [
    "Semelhante ao método `writer`, o método retorna um objeto do tipo `csv.reader`, uma classe feita para ler arquivos `csv`"
   ]
  },
  {
   "cell_type": "markdown",
   "metadata": {},
   "source": [
    "Sua sintaxe é idêntica à do método `writer`:\n",
    "```\n",
    "identificador = csv.writer(arquivo, delimiter='delimitador', lineterminator='fim da linha')\n",
    "```"
   ]
  },
  {
   "cell_type": "code",
   "execution_count": null,
   "metadata": {},
   "outputs": [],
   "source": []
  },
  {
   "cell_type": "markdown",
   "metadata": {},
   "source": [
    "#### Imprimindo linhas de uma tabela"
   ]
  },
  {
   "cell_type": "markdown",
   "metadata": {},
   "source": [
    "* iterando sobre a tabela"
   ]
  },
  {
   "cell_type": "code",
   "execution_count": null,
   "metadata": {},
   "outputs": [],
   "source": []
  },
  {
   "cell_type": "markdown",
   "metadata": {},
   "source": [
    "* iterando sobre os dados lidos pelo módulo csv"
   ]
  },
  {
   "cell_type": "code",
   "execution_count": null,
   "metadata": {},
   "outputs": [],
   "source": []
  },
  {
   "cell_type": "markdown",
   "metadata": {},
   "source": [
    "##### Imprimindo uma coluna de uma linha"
   ]
  },
  {
   "cell_type": "code",
   "execution_count": null,
   "metadata": {},
   "outputs": [],
   "source": []
  },
  {
   "cell_type": "markdown",
   "metadata": {},
   "source": [
    "#### Imprimindo colunas de uma tabela"
   ]
  },
  {
   "cell_type": "markdown",
   "metadata": {},
   "source": [
    "**Aviso:** enquanto o módulo `csv` é útil para tarefas simples envolvendo tabelas, para a maioria das situações pode ser interessante utilizarmos a biblioteca `pandas`. Essa é uma das aplicações que é trivial usando `pandas`, mas um pouco mais \"braçal\" somente com o módulo `csv`"
   ]
  },
  {
   "cell_type": "markdown",
   "metadata": {},
   "source": [
    "### Exercício 1: manipulação de arquivo csv"
   ]
  },
  {
   "cell_type": "markdown",
   "metadata": {},
   "source": [
    "Crie um programa que lê um arquivo csv assumindo que a separação de valores é feita por tabulações (\\t) e imprima suas linhas"
   ]
  },
  {
   "cell_type": "code",
   "execution_count": null,
   "metadata": {},
   "outputs": [],
   "source": []
  },
  {
   "cell_type": "markdown",
   "metadata": {},
   "source": [
    "### Exercício 2: manipulação de arquivo csv"
   ]
  },
  {
   "cell_type": "markdown",
   "metadata": {},
   "source": [
    "Escreva uma função que receba dois parâmetros: um arquivo do tipo csv e o nome de uma coluna.\n",
    "* caso a coluna não exista no arquivo csv, a função deve retornar `False`\n",
    "* caso a coluna exista no arquivo csv, a função deve imprimir o conteúdo da coluna\n",
    "\n",
    "ex.: se o arquivo csv contiver a seguinte tabela:\n",
    "| Nome | Idade | CPF |\n",
    "|------|-------|-----|\n",
    "| Felipe | 25 | 009 |\n",
    "| Ricardo | 49 | 145 |\n",
    "\n",
    "* a função deve retornar `False` caso o usuário peça o conteúdo da coluna `RG`, por exemplo.\n",
    "* caso o usuário peça o conteúdo da coluna `Nome`, a função deve imprimir o seguinte:\n",
    "\n",
    "| Nome |\n",
    "| -----|\n",
    "| Felipe |\n",
    "| Ricardo |"
   ]
  },
  {
   "cell_type": "code",
   "execution_count": null,
   "metadata": {},
   "outputs": [],
   "source": []
  },
  {
   "cell_type": "markdown",
   "metadata": {},
   "source": []
  }
 ],
 "metadata": {
  "interpreter": {
   "hash": "e7370f93d1d0cde622a1f8e1c04877d8463912d04d973331ad4851f04de6915a"
  },
  "kernelspec": {
   "display_name": "Python 3.10.2 64-bit",
   "language": "python",
   "name": "python3"
  },
  "language_info": {
   "codemirror_mode": {
    "name": "ipython",
    "version": 3
   },
   "file_extension": ".py",
   "mimetype": "text/x-python",
   "name": "python",
   "nbconvert_exporter": "python",
   "pygments_lexer": "ipython3",
   "version": "3.10.1"
  },
  "orig_nbformat": 4
 },
 "nbformat": 4,
 "nbformat_minor": 2
}
