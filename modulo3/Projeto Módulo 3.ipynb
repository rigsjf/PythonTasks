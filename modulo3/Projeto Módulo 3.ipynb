{
 "cells": [
  {
   "cell_type": "markdown",
   "metadata": {},
   "source": [
    "## Projeto Módulo 3\n",
    "\n",
    "Você irá receber uma lista bi-dimensional com altura e largura não necessáriamente iguais contendo apenas 0's e 1's. Cada 1 representa um pedaço de rio, enquanto os 0's representam terra. Rios são compostos por 1's adjacentes horizontalmente ou verticalmente (mas não diagonalmente). O número de 1's adjacentes representa o tamanho do rio.\n",
    "\n",
    "Note que o rio pode fazer curvas, isto é, rios podem ter formato de L ou até mesmo de cruz e são considerados um rio só.\n",
    "\n",
    "Crie um algoritmo que receba esta lista bi-dimensional e retorne uma lista com os tamanhos dos rios dentro dessa estrutura, os tamanhos de rios dentro da lista resposta não precisam ter uma ordem específica.\n",
    "\n",
    "**Exemplo de entrada:**\n",
    "\n",
    "```python\n",
    "matrix = [\n",
    "    [1, 0, 0, 1, 0],\n",
    "    [1, 0, 1, 0, 0],\n",
    "    [0, 0, 1, 0, 1],\n",
    "    [1, 0, 1, 0, 1],\n",
    "    [1, 0, 1, 1, 0],\n",
    "]\n",
    "```\n",
    "\n",
    "**Saída esperada:**\n",
    "\n",
    "```python\n",
    "[1, 2, 2, 2, 5] # Note que os números poderiam estar em qualquer ordem dentro da lista\n",
    "```\n",
    "\n",
    "podemos visualizar os rios claramente na seguinte estrutura:\n",
    "\n",
    "```python\n",
    "[1,  ,  , 1,  ]\n",
    "[1,  , 1,  ,  ]\n",
    "[ ,  , 1,  , 1]\n",
    "[1,  , 1,  , 1]\n",
    "[1,  , 1, 1,  ]\n",
    "```"
   ]
  },
  {
   "cell_type": "code",
   "execution_count": null,
   "metadata": {},
   "outputs": [],
   "source": []
  }
 ],
 "metadata": {
  "kernelspec": {
   "display_name": "Python 3 (ipykernel)",
   "language": "python",
   "name": "python3"
  },
  "language_info": {
   "codemirror_mode": {
    "name": "ipython",
    "version": 3
   },
   "file_extension": ".py",
   "mimetype": "text/x-python",
   "name": "python",
   "nbconvert_exporter": "python",
   "pygments_lexer": "ipython3",
   "version": "3.9.7"
  }
 },
 "nbformat": 4,
 "nbformat_minor": 4
}
