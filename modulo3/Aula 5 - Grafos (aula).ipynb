{
 "cells": [
  {
   "cell_type": "markdown",
   "metadata": {},
   "source": [
    "### Aula 5 - Grafos"
   ]
  },
  {
   "cell_type": "markdown",
   "metadata": {},
   "source": [
    "Roteiro da Aula de Grafos\n",
    "\n",
    "Professor Renato Arbex - 09/03/2022 - 19h\n",
    "\n",
    "#### Agenda da Aula\n",
    "\n",
    "- Background\n",
    "- Contextualização\n",
    "- Conceito\n",
    "- Usos\n",
    "- Exemplo\n",
    "- Implementação\n",
    "- Percorrer\n",
    "- Exercício\n",
    "- Representações\n",
    "- Caminho mais rápido\n",
    "- Biblioteca\n",
    "- Exercício\n"
   ]
  },
  {
   "cell_type": "markdown",
   "metadata": {},
   "source": [
    "#### Contextualização / Conceito / Aplicações\n",
    "\n",
    "- Grafos são estruturas de dados que representam um **conjunto de conexões entre entidades**. Eles modelam como objetos ou eventos estão conectados entre si.\n",
    "\n",
    "- São estruturas de dados abstratas que possuem algoritmos específicos. \n",
    "\n",
    "- Um dos objetivos da modelagem com grafos é  **encontrar o caminho mais curto** entre essas entidades ou objetos, resolvidas por exemplo pelo o algoritmo de pesquisa em largura ou por outros algoritmos de caminho mínimo. \n",
    "\n",
    "- O número de **aplicações** é muito grande:\n",
    "\n",
    "-Algoritmo de IA que calcula o menor número de movimentos necessários em uma partida de xadrex para um xeque-mate.\n",
    "\n",
    "-Um corretor ortográfico, que calcula o menor número de edições para transformar uma palavra errada em uma real.\n",
    "\n",
    "-Encontrar o restaurante mais perto de você.\n",
    "\n",
    "-Buscar um trajeto em uma viagem entre um ponto turístico e outro.\n",
    "\n",
    "-Representar uma cidade para projetar um sistema de transporte público como uma rede de metrô e itinerários de ônibus.\n",
    "\n",
    "-Encontrar a conexão mais próxima para se conectar a uma pessoa desconhecida numa rede social, mas com a qual você tenha amigos em comum.\n"
   ]
  },
  {
   "cell_type": "markdown",
   "metadata": {},
   "source": [
    "#### Terminologia\n",
    "\n",
    "- Vértices: ou nós, itens de interesse na modelagem.\n",
    "- Arestas: conexões ou relações entre esses itens.\n",
    "\n",
    "Um vértice pode ligar a vários outros vértices.\n",
    "\n",
    "As arestas podem ter um único sentido (grafo direcionado) ou ambos os sentidos (não direcionado)\n",
    "\n",
    "As arestas podem conter um peso (weight) que representa uma distância, tempo ou algo que separa as entidades (grafo ponderado), ou seja, o custo para se percorrer de um vértice para outro.\n",
    "\n",
    "![Rede2](./a5f1.jpg)"
   ]
  },
  {
   "cell_type": "markdown",
   "metadata": {},
   "source": [
    "#### Exemplo\n",
    "\n",
    "- Após o término do curso de Python você pretende praticar seus conhecimentos de programação divulgando entre suas amizades e conhecidos se alguém tem algum projeto que gostaria de realizar ou automatizar. \n",
    "\n",
    "Assim temos duas questões a responder: \n",
    "1) existe uma conexão que tenha interesse em um projeto de automação em Python na minha rede? \n",
    "2) quem é a pessoa mais próxima com este interesse?\n",
    "\n",
    "Para isso, vamos primeiro procurar entre seus amigos.\n",
    "\n",
    "Fazer uma lista dos amigos próximos para pesquisar.\n",
    "\n",
    "Depois Perguntar a cada um deles se tem interesse em fazer um projeto.\n",
    "\n",
    "- Ana, Roberto e Sara"
   ]
  },
  {
   "cell_type": "markdown",
   "metadata": {},
   "source": [
    "![Rede2](./a5f2.jpg)"
   ]
  },
  {
   "cell_type": "markdown",
   "metadata": {},
   "source": [
    "Então você verificou que nenhum dos amigos tem interesse em fazer um projeto em Python, então é necessário pesquisar na sua rede de amigos, ou seja, agora entre os amigos(as) dos seus amigos(as)."
   ]
  },
  {
   "cell_type": "markdown",
   "metadata": {},
   "source": [
    "![Rede](./a5f3.jpg)"
   ]
  },
  {
   "cell_type": "markdown",
   "metadata": {},
   "source": [
    "Como fazer isso? Uma vez que você pesquisou uma pessoa da lista de seus amigos, todos os amigos(as) dela serão adicionadas à lista para pesquisa dos amigos(as) dele(a).\n",
    "\n",
    "Assim, sua rede inteira será pesquisada. Esse é o algoritmo da **pesquisa em largura** em ação em um **grafo**.\n",
    "\n",
    "Questões de implementação:\n",
    "\n",
    "- Como implementar? Relações \"Você\"-> Lista de Pessoas, qual estrutura usar?\n",
    "\n",
    "- **Se você procurar as pessoas na ordem em que foram adicionadas**, as conexões de primeiro grau serão verificadas antes das de segundo grau, então, você também encontra o caminho mais curto ligando você até uma pessoa com interesse no projeto! \n",
    "\n",
    "- Assim, que estrutura de dados vamos utilizar ordenar as pessoas para busca? "
   ]
  },
  {
   "cell_type": "markdown",
   "metadata": {},
   "source": [
    "### Busca em Largura"
   ]
  },
  {
   "cell_type": "code",
   "execution_count": null,
   "metadata": {},
   "outputs": [],
   "source": [
    "#Criar uma fila contendo todas as pessoas a serem verificadas\n",
    "#Retirar uma pessoa da fila\n",
    "#Confere se ela tem interesse no projeto\n",
    "#Repita até que a fila esteja vazia!"
   ]
  },
  {
   "cell_type": "code",
   "execution_count": 1,
   "metadata": {},
   "outputs": [],
   "source": [
    "\n",
    "#Implementação da pesquisa em largura\n",
    "def pessoa_tem_interesse(pessoa):\n",
    "    return 'i' in pessoa\n",
    "\n",
    "#Grafo\n",
    "grafo = {}\n",
    "grafo[\"voce\"] = [\"ana\", \"sara\", \"roberto\"]\n",
    "grafo[\"ana\"] = [\"diego\", \"ju\"]\n",
    "grafo[\"sara\"] = [\"ju\"]\n",
    "grafo[\"roberto\"] = [\"cristina\", \"tomas\"]\n",
    "grafo[\"diego\"] = []\n",
    "grafo[\"ju\"] = []\n",
    "grafo[\"tomas\"] = []\n",
    "grafo[\"cristina\"] = []\n",
    "\n",
    "buscadas = []\n",
    "\n",
    "from collections import deque\n",
    "\n",
    "def busca(grafo,inicio):\n",
    "    fila = deque()\n",
    "    fila += grafo[inicio]\n",
    "    print('Buscando a partir de:',inicio)\n",
    "\n",
    "    while fila: #igual a len(fila)>0\n",
    "        print('\\nFila atual:', fila)\n",
    "        pessoa = fila.popleft()\n",
    "        if pessoa not in buscadas: #só verifica se ainda não perguntou\n",
    "            if pessoa_tem_interesse(pessoa):\n",
    "                print(pessoa,'tem interesse!')\n",
    "            else:\n",
    "                print(pessoa,'não tem interesse! Mas tem indicações:', grafo[pessoa])\n",
    "             "
   ]
  },
  {
   "cell_type": "markdown",
   "metadata": {},
   "source": [
    "Complexidade da busca em largura: O(V+A)\n",
    "\n",
    "- Pesquisa em largura é usada para calcular o caminho mínimo para um grafo não ponderado (sem pesos).\n"
   ]
  },
  {
   "cell_type": "markdown",
   "metadata": {},
   "source": [
    "### Busca em Profundidade\n",
    "\n",
    "\n",
    "\n",
    "\n",
    "\n",
    "https://www.youtube.com/watch?v=NUgMa5coCoE"
   ]
  },
  {
   "cell_type": "code",
   "execution_count": 3,
   "metadata": {},
   "outputs": [
    {
     "name": "stdout",
     "output_type": "stream",
     "text": [
      "Buscando a partir de: ana\n",
      "\n",
      "Fila atual: deque(['diego', 'ju'])\n",
      "diego tem interesse!\n",
      "\n",
      "Fila atual: deque(['ju'])\n",
      "ju não tem interesse! Mas tem indicações: []\n"
     ]
    }
   ],
   "source": [
    "grafo = {}\n",
    "grafo['são paulo'] = ['santos', 'guarulho']\n",
    "grafo['guarulhos'] = ['mogi', 'rio']\n",
    "grafo['santos'] = ['mogi','parati']\n",
    "grafo['mogi'] = ['rio']\n",
    "grafo['santos'] = ['mogi'\n",
    "\n"
   ]
  },
  {
   "cell_type": "markdown",
   "metadata": {},
   "source": [
    "### Exercício:\n",
    "\n",
    "Considere o gráfico abaixo que representa as conexões entre cidades considerando a situação do sistema viário em um temporal que impediu a passagem em algumas estradas.\n",
    "\n",
    "Para todas as cidades representadas no grafo, utilize a busca em profundidade para apresentar quantas outras cidades podem ser alcançadas a partir dela.\n",
    "\n",
    "Bônus: mostrar os nomes das cidades que podem ser visitadas a partir de cada uma delas.\n",
    "\n",
    "Saída exemplo:\n",
    "\n",
    "cidade A, alcança 5 cidades.<br />\n",
    "&nbsp;&nbsp;&nbsp;&nbsp;(bonus)alcança: cidade A, cidade B... <br />\n",
    "cidade B, alcança 4 cidades.\n",
    "\n",
    "![Rede](./a5f4.jpg)"
   ]
  },
  {
   "cell_type": "code",
   "execution_count": 4,
   "metadata": {},
   "outputs": [
    {
     "data": {
      "text/plain": [
       "{'voce': 99,\n",
       " 'ana': 99,\n",
       " 'sara': 99,\n",
       " 'roberto': 99,\n",
       " 'diego': 99,\n",
       " 'ju': 99,\n",
       " 'tomas': 99,\n",
       " 'cristina': 99}"
      ]
     },
     "execution_count": 4,
     "metadata": {},
     "output_type": "execute_result"
    }
   ],
   "source": [
    "#Resolução:\n",
    "\n",
    "{nome: 99 for nome in grafo.keys()}"
   ]
  },
  {
   "cell_type": "markdown",
   "metadata": {},
   "source": [
    "Mas e para grafos com peso (distância entre cidades/tempo de viagem entre locais/separação entre entidades que é medida em alguma unidade?)\n",
    "\n",
    "Como calcular as distâncias/tempos/unidades de separação entre os vértices/entidades?\n",
    "\n",
    "Vamos ver as representações com pesos!"
   ]
  },
  {
   "cell_type": "markdown",
   "metadata": {},
   "source": [
    "### Representações"
   ]
  },
  {
   "cell_type": "markdown",
   "metadata": {},
   "source": [
    "Matriz de Adjacências\n",
    "\n",
    "Para criar um grafo como uma matriz de adjacências, definimos uma matriz M de dimensões n x n, sendo n a quantidade de vértices.\n",
    "Inicializamos a matriz com zeros, e \"marcamos\" M[u][v] com um valor diferente de zero caso exista uma aresta conectando o vértice u ao vértice v.\n",
    "\n",
    "![Img](./a5f5.jpg)"
   ]
  },
  {
   "cell_type": "code",
   "execution_count": null,
   "metadata": {},
   "outputs": [],
   "source": [
    "# Matriz de Adjacências\n",
    "\n"
   ]
  },
  {
   "cell_type": "markdown",
   "metadata": {},
   "source": [
    "#### Lista de Adjacências\n",
    "\n",
    "A matriz de adjacências funciona mas não é eficiente em termos de memória para um número grande de vértices.\n",
    "\n",
    "Uma alternativa que mitiga esse desperdício de espaço é a lista de adjacências. \n",
    "\n",
    "Nessa representação, cada vértice está associado a uma lista com seus vizinhos. \n",
    "\n",
    "Assim, não gastamos espaço representando a ausência de arestas.\n",
    "\n",
    "**Foi exatamente esta que utilizamos intuitivamente no exemplo inicial!**\n",
    "\n",
    "![Img](./a5f6.jpg)\n",
    "\n"
   ]
  },
  {
   "cell_type": "code",
   "execution_count": null,
   "metadata": {},
   "outputs": [],
   "source": [
    "# Lista de Adjacências\n",
    "\n"
   ]
  },
  {
   "cell_type": "markdown",
   "metadata": {},
   "source": [
    "### Menor caminho em Grafos\n",
    "\n",
    "Uma das aplicações mais comuns em grafos é o cálculo do menor caminho entre vértices.\n",
    "\n",
    "Essa aplicação permite, por exemplo, encontrar a rota mais rápida para um determinado trajeto, seja de carro ou de transporte público. \n",
    "\n",
    "Também permite encontrar o menor caminho em uma rede de computadores para conectar a internet da sua residência até um site do outro lado do mundo.\n",
    "\n",
    "Existem diferentes algoritmos para os diferentes problemas de menor caminho em grafos. Podem se tornar dispendiosos de tempo caso não otimizados.\n",
    "\n",
    "- _Algoritmo de Dijkstra_: resolve o problema de menor caminho de um nó até todos os outros da rede, mas não permite pesos negativos.<br/>\n",
    "Exemplo: tempo de viagem mais rápido sua casa até todos os bairros da sua cidade.\n",
    "\n",
    "- _Algoritmo Bellman-Ford_: resolve o problema mesmo problema, porém aceita pesos negativos.<br/>\n",
    "\n",
    "- _Algoritmo de busca A\\*_: resolve o problema mesmo problema, porém utiliza heurísticas (métodos específicos) para acelerar a busca.<br/>\n",
    "\n",
    "Hoje em dia os algoritmos mais rápidos de busca em rede podem calcular rotas em redes viárias continentais em frações de microsegundos, possibilitando serviços de rotas que facilitam nossa vida."
   ]
  },
  {
   "cell_type": "markdown",
   "metadata": {},
   "source": [
    "### Biblioteca Networkx\n",
    "\n",
    "Em Python, temos uma implementação de grafos na biblioteca networkx. Para importar e utilizar, basta fazer o import da biblioteca. Caso dê erro por não estar instalada, pode-se instalar através do conda (caso se esteja utilizando a distribuição Anaconda)\n",
    "\n",
    "-Abrir Anaconda Prompt (menu procurar do windows)\n",
    "-Rodar conda install -c conda-forge networkx\n",
    "\n",
    "Também pode ser instalada pelo pip \n",
    "-pip install networkx\n",
    "\n",
    "```\n",
    "import networkx as nx\n",
    "```\n",
    "\n",
    "Esta biblioteca possui implementações de vários algoritmos e já tem uma estrutura de dados adequada para trabalhar com os diversos tipos de grafos.\n",
    "\n",
    "A documentação é de qualidade e extensiva. <br/>\n",
    "https://networkx.org/documentation/stable/_downloads/networkx_reference.pdf"
   ]
  },
  {
   "cell_type": "code",
   "execution_count": null,
   "metadata": {},
   "outputs": [],
   "source": [
    "#Exemplo\n",
    "\n"
   ]
  },
  {
   "cell_type": "markdown",
   "metadata": {},
   "source": [
    "#### Exercício\n",
    "\n",
    "Calcular o menor caminho e a distância total percorrida (soma dos pesos) entre o início e o fim no grafo abaixo, utilizando a biblioteca networkx.\n",
    "\n",
    "Calcule e apresente também o tempo necessário para executar esses cálculos.\n",
    "\n",
    "![Img](./a5f7.jpg)"
   ]
  },
  {
   "cell_type": "code",
   "execution_count": null,
   "metadata": {},
   "outputs": [],
   "source": [
    "#Resolução\n",
    "\n",
    "\n"
   ]
  }
 ],
 "metadata": {
  "interpreter": {
   "hash": "d7e4b9d9eddfccfdee453f15b25f5922855525f6a27c8e1b35b6cd459114e297"
  },
  "kernelspec": {
   "display_name": "Python 3.8.10 ('geods')",
   "language": "python",
   "name": "python3"
  },
  "language_info": {
   "codemirror_mode": {
    "name": "ipython",
    "version": 3
   },
   "file_extension": ".py",
   "mimetype": "text/x-python",
   "name": "python",
   "nbconvert_exporter": "python",
   "pygments_lexer": "ipython3",
   "version": "3.10.1"
  },
  "orig_nbformat": 4
 },
 "nbformat": 4,
 "nbformat_minor": 2
}
