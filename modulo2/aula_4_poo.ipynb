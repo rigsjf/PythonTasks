{
 "cells": [
  {
   "cell_type": "markdown",
   "metadata": {},
   "source": [
    "# Programação orientada a objetos"
   ]
  },
  {
   "cell_type": "markdown",
   "metadata": {},
   "source": [
    "## Métodos mágicos\n",
    "\n",
    "Como o python entende que o sinal \"+\", quando aplicado à objetos da classe `str` deve **concatenar** as duas strings, ao invés de fazer alguma outra operação estranha de soma?\n",
    "\n",
    "Isso é feito a partir dos **métodos mágicos**\n",
    "\n",
    "Para ilustrar os usos desses métodos, vamos criar uma classe de horário:"
   ]
  },
  {
   "cell_type": "markdown",
   "metadata": {},
   "source": [
    "### Métodos aritméticos\n",
    "\n",
    "Como o \"+\" é entendido como concatenação entre objetos da classe `str`?\n",
    "\n",
    "Isso se faz através dos __métodos mágicos aritméticos__, que substituem os símbolos aritméticos pelas operações que forem definidas dentro da classe!\n",
    "\n",
    "Temos os seguintes métodos mágicos aritméticos:\n",
    "\n",
    "- \\__add\\__:  soma: +\n",
    "- \\__sub\\__:  subtração: -\n",
    "- \\__mul\\__:  multiplicação: *\n",
    "- \\__truediv\\__:  divisão: /\n",
    "- \\__floordiv\\__:  divisão inteira: //\n",
    "- \\__mod\\__:  resto de divisão: %\n",
    "- \\__pow\\__:  potência: **"
   ]
  },
  {
   "cell_type": "code",
   "execution_count": null,
   "metadata": {},
   "outputs": [],
   "source": []
  },
  {
   "cell_type": "code",
   "execution_count": null,
   "metadata": {},
   "outputs": [],
   "source": []
  },
  {
   "cell_type": "code",
   "execution_count": null,
   "metadata": {},
   "outputs": [],
   "source": []
  },
  {
   "cell_type": "markdown",
   "metadata": {},
   "source": [
    "### Métodos lógicos\n",
    "\n",
    "Da mesma forma que há metódos mágicos para operações aritméticas, há também para **operações lógicas!**\n",
    "\n",
    "Naturalmente, estes métodos retornaram True ou False.\n",
    "\n",
    "Os métodos lógicos são:\n",
    "\n",
    "- \\__gt\\__: maior que (greater than): >\n",
    "- \\__ge\\__: maior ou igual (greater or equal): >=\n",
    "- \\__lt\\__: menor que (less than): <\n",
    "- \\__le\\__: menor ou igual (less or equal): <=\n",
    "- \\__eq\\__: igual (equal): ==\n",
    "- \\__ne\\__: diferente (not equal): !=\n"
   ]
  },
  {
   "cell_type": "code",
   "execution_count": 5,
   "metadata": {},
   "outputs": [],
   "source": [
    "class Pessoa:\n",
    "    def __init__(self, nome, altura):\n",
    "        self.nome = nome\n",
    "        self.altura = altura\n",
    "\n",
    "    def __gt__(self, outra_pessoa):\n",
    "        return self.altura > outra_pessoa.altura\n"
   ]
  },
  {
   "cell_type": "code",
   "execution_count": 6,
   "metadata": {},
   "outputs": [],
   "source": [
    "pessoa_1 = Pessoa('Raphael', 1.95)\n",
    "pessoa_2 = Pessoa('Anderson', 1.85)"
   ]
  },
  {
   "cell_type": "code",
   "execution_count": 7,
   "metadata": {},
   "outputs": [
    {
     "data": {
      "text/plain": [
       "True"
      ]
     },
     "execution_count": 7,
     "metadata": {},
     "output_type": "execute_result"
    }
   ],
   "source": [
    "pessoa_1 > pessoa_2"
   ]
  },
  {
   "cell_type": "code",
   "execution_count": null,
   "metadata": {},
   "outputs": [],
   "source": [
    "class bombaCombustivel:\n",
    "    def __init__(self, tipo_combustivel, valor_litro, qtd_combustivel):\n",
    "        self.tipo_combustivel = tipo_combustivel\n",
    "        self.valor_litro = valor_litro\n",
    "        self.qtd_combustivel = qtd_combustivel\n",
    "\n",
    "    def abastecer_valor(self, valor):\n",
    "        \n",
    "        self.qtd_combustivel -= (valor / self.valor_litro)\n",
    "        return valor / self.valor_litro\n",
    "\n",
    "    def abastecer_litro(self, qtd):\n",
    "        return qtd * self.valor_litro\n",
    "\n",
    "    def altera_valor(self, novo_valor):\n",
    "        self.valor_litro = novo_valor\n",
    "    \n",
    "    def altera_tipo(self, novo_combustivel):\n",
    "        self.tipo_combustivel = novo_combustivel\n",
    "\n",
    "    "
   ]
  }
 ],
 "metadata": {
  "interpreter": {
   "hash": "9e1544ece40983b9dcb10e0aa1f5d0cdb8d9e539b9b8df5e9e5017ad7f05ebe2"
  },
  "kernelspec": {
   "display_name": "Python 3.9.2 64-bit",
   "language": "python",
   "name": "python3"
  },
  "language_info": {
   "codemirror_mode": {
    "name": "ipython",
    "version": 3
   },
   "file_extension": ".py",
   "mimetype": "text/x-python",
   "name": "python",
   "nbconvert_exporter": "python",
   "pygments_lexer": "ipython3",
   "version": "3.10.1"
  },
  "orig_nbformat": 4
 },
 "nbformat": 4,
 "nbformat_minor": 2
}
