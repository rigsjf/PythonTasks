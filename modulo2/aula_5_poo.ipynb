{
 "cells": [
  {
   "cell_type": "markdown",
   "metadata": {},
   "source": [
    "# Programação orientada a objetos: Herança e Polimorfismo"
   ]
  },
  {
   "cell_type": "markdown",
   "metadata": {},
   "source": [
    "____\n",
    "____\n",
    "____"
   ]
  },
  {
   "cell_type": "markdown",
   "metadata": {},
   "source": [
    "Imagine que você tenha várias classes com os mesmos atributos, os mesmos métodos e mesmos parâmetros. \n",
    "\n",
    "Reescrevê-los várias vezes é um desperdício de tempo! Além disso, se pecisarmos atualizar um método, precisaremos fazer a modificação múltiplas vezes. \n",
    "\n",
    "Para solucionar esta questão, trateremos dos conceitos de **herança** e **polimorfismo**."
   ]
  },
  {
   "cell_type": "markdown",
   "metadata": {},
   "source": [
    "### Herança\n",
    "\n",
    "É possível criar **classes filhas** que herdem atributos e métodos de uma **classe mãe** através de **herança**.\n",
    "\n",
    "Para herdar, colocamos o **nome da classe mãe entre parênteses** na frente do nome da classe filha em sua definição.\n",
    "\n",
    "Se necessário, podemos redefinir um método na classe filha."
   ]
  },
  {
   "cell_type": "code",
   "execution_count": 1,
   "metadata": {},
   "outputs": [],
   "source": [
    "class Animal:\n",
    "    def __init__ (self, nome, peso):\n",
    "        self.nome = nome\n",
    "\n",
    "        if peso < 10:\n",
    "            self.porte = 'P'\n",
    "        elif peso < 20:\n",
    "            self.porte = 'M'\n",
    "        else:\n",
    "            self.porte = 'G'\n",
    "\n",
    "    def falar(self):\n",
    "        print(f'{self.nome} está falando')\n",
    "    \n",
    "class Cachorro(Animal):\n",
    "    def __init__(self, nome, peso, raca):\n",
    "        super().__init__(nome, peso)\n",
    "        self.raca = raca\n",
    "    def latir(self):\n",
    "        print(f'{self.nome} está latindo')\n",
    "\n"
   ]
  },
  {
   "cell_type": "code",
   "execution_count": 2,
   "metadata": {},
   "outputs": [],
   "source": [
    "meu_cachorro = Cachorro('Pitico', 10, 'Raça')"
   ]
  },
  {
   "cell_type": "code",
   "execution_count": 4,
   "metadata": {},
   "outputs": [
    {
     "data": {
      "text/plain": [
       "{'nome': 'Pitico', 'porte': 'M', 'raca': 'Raça'}"
      ]
     },
     "execution_count": 4,
     "metadata": {},
     "output_type": "execute_result"
    }
   ],
   "source": [
    "meu_cachorro.__dict__"
   ]
  },
  {
   "cell_type": "code",
   "execution_count": null,
   "metadata": {},
   "outputs": [],
   "source": []
  },
  {
   "cell_type": "code",
   "execution_count": null,
   "metadata": {},
   "outputs": [],
   "source": []
  },
  {
   "cell_type": "markdown",
   "metadata": {},
   "source": [
    "Imagine agora que queremos herdar um método, com a possibilidade de alterá-lo.\n",
    "\n",
    "Para isso, usamos o método `super()`"
   ]
  },
  {
   "cell_type": "code",
   "execution_count": null,
   "metadata": {},
   "outputs": [],
   "source": []
  },
  {
   "cell_type": "code",
   "execution_count": null,
   "metadata": {},
   "outputs": [],
   "source": []
  },
  {
   "cell_type": "code",
   "execution_count": null,
   "metadata": {},
   "outputs": [],
   "source": []
  },
  {
   "cell_type": "markdown",
   "metadata": {},
   "source": [
    "### Exercício\n",
    "Você trabalha em um banco que possui dois tipos de conta: poupança e corrente. As contas poupança só permitem sacar valor disponíveis em saldo. As contas correntes permitem que o cliente tenham um limite de crédito e que o cliente façam saques deste valor, além do saldo.\n",
    "\n",
    "* Crie uma classe Conta que recebe os atributos\n",
    "    - Agência\n",
    "    - Conta\n",
    "    - Saldo\n",
    "    \n",
    "* Métodos:\n",
    "    - Depositar\n",
    "    - Printar um objeto da classe\n",
    "    \n",
    "\n",
    "\n",
    "* Crie uma classe ContaPoupanca, filha de Conta, com o método para sacar\n",
    "* Crie uma classe ContaCorrente, também filha de Conta, com o método para sacar e incluir o limite no método construtor"
   ]
  },
  {
   "cell_type": "code",
   "execution_count": 36,
   "metadata": {},
   "outputs": [],
   "source": [
    "class Conta:\n",
    "    def __init__(self, agencia, conta, saldo = 0):\n",
    "        self.agencia = agencia\n",
    "        self.conta = conta\n",
    "        self.saldo = saldo\n",
    "\n",
    "    def depositar(self, valor):\n",
    "        self.saldo += valor\n",
    "        print(self)\n",
    "\n",
    "    def __repr__(self):\n",
    "        return f'''\n",
    "        Agência: {self.agencia}\n",
    "\n",
    "        Conta: {self.conta}\n",
    "\n",
    "        Saldo: {self.saldo}\n",
    "        '''\n",
    "\n",
    "\n",
    "    \n",
    "        \n"
   ]
  },
  {
   "cell_type": "code",
   "execution_count": 22,
   "metadata": {},
   "outputs": [],
   "source": [
    "cibta_1 = Conta(123, 1234, 1000)"
   ]
  },
  {
   "cell_type": "code",
   "execution_count": 23,
   "metadata": {},
   "outputs": [
    {
     "name": "stdout",
     "output_type": "stream",
     "text": [
      "\n",
      "        Agência: 123\n",
      "\n",
      "        Conta: 1234\n",
      "\n",
      "        Saldo: 1000\n",
      "        \n"
     ]
    }
   ],
   "source": [
    "print(cibta_1)"
   ]
  },
  {
   "cell_type": "code",
   "execution_count": 24,
   "metadata": {},
   "outputs": [],
   "source": [
    "cibta_1.depositar(4000)"
   ]
  },
  {
   "cell_type": "code",
   "execution_count": 25,
   "metadata": {},
   "outputs": [
    {
     "name": "stdout",
     "output_type": "stream",
     "text": [
      "\n",
      "        Agência: 123\n",
      "\n",
      "        Conta: 1234\n",
      "\n",
      "        Saldo: 5000\n",
      "        \n"
     ]
    }
   ],
   "source": [
    "print(cibta_1)"
   ]
  },
  {
   "cell_type": "code",
   "execution_count": 15,
   "metadata": {},
   "outputs": [
    {
     "ename": "TypeError",
     "evalue": "'ContaPoupanca' object is not callable",
     "output_type": "error",
     "traceback": [
      "\u001b[1;31m---------------------------------------------------------------------------\u001b[0m",
      "\u001b[1;31mTypeError\u001b[0m                                 Traceback (most recent call last)",
      "\u001b[1;32mc:\\Users\\rigsj\\Downloads\\aula_5_poo.ipynb Cell 21'\u001b[0m in \u001b[0;36m<module>\u001b[1;34m\u001b[0m\n\u001b[1;32m----> <a href='vscode-notebook-cell:/c%3A/Users/rigsj/Downloads/aula_5_poo.ipynb#ch0000019?line=0'>1</a>\u001b[0m conta_poupanca \u001b[39m=\u001b[39m ContaPoupanca(\u001b[39m1244\u001b[39;49m, \u001b[39m135513\u001b[39;49m, \u001b[39m5000\u001b[39;49m)\n",
      "\u001b[1;31mTypeError\u001b[0m: 'ContaPoupanca' object is not callable"
     ]
    }
   ],
   "source": [
    "conta_poupanca = ContaPoupanca(1244, 135513, 5000)"
   ]
  },
  {
   "cell_type": "code",
   "execution_count": 61,
   "metadata": {},
   "outputs": [],
   "source": [
    "conta_corrente = ContaCorrente(3454, 56435, 500, 5000)"
   ]
  },
  {
   "cell_type": "code",
   "execution_count": 62,
   "metadata": {},
   "outputs": [
    {
     "name": "stdout",
     "output_type": "stream",
     "text": [
      "Dados da conta:\n",
      "        \n",
      "        Agência: 3454\n",
      "\n",
      "        Conta: 56435\n",
      "\n",
      "        Saldo: 500\n",
      "\n",
      "        Limite: 5000\n",
      "\n",
      "        Limite disponível: 5000\n",
      "        \n"
     ]
    }
   ],
   "source": [
    "print(conta_corrente)"
   ]
  },
  {
   "cell_type": "code",
   "execution_count": 63,
   "metadata": {},
   "outputs": [
    {
     "name": "stdout",
     "output_type": "stream",
     "text": [
      "Dados da conta:\n",
      "        \n",
      "        Agência: 3454\n",
      "\n",
      "        Conta: 56435\n",
      "\n",
      "        Saldo: 3000\n",
      "\n",
      "        Limite: 5000\n",
      "\n",
      "        Limite disponível: 5000\n",
      "        \n"
     ]
    }
   ],
   "source": [
    "conta_corrente.depositar(2500)"
   ]
  },
  {
   "cell_type": "code",
   "execution_count": 64,
   "metadata": {},
   "outputs": [
    {
     "name": "stdout",
     "output_type": "stream",
     "text": [
      "Dados da conta:\n",
      "        \n",
      "        Agência: 3454\n",
      "\n",
      "        Conta: 56435\n",
      "\n",
      "        Saldo: -2200\n",
      "\n",
      "        Limite: 5000\n",
      "\n",
      "        Limite disponível: 5000\n",
      "        \n"
     ]
    }
   ],
   "source": [
    "conta_corrente.sacar(5200)"
   ]
  },
  {
   "cell_type": "code",
   "execution_count": null,
   "metadata": {},
   "outputs": [],
   "source": [
    "conta_corrente.sacar()"
   ]
  },
  {
   "cell_type": "markdown",
   "metadata": {},
   "source": [
    "### Polimorfismo\n",
    "\n",
    "Do grego, **\"várias formas\"**. A ideia é que um objeto de uma certa classe pode se comportar como objeto de outras classes. \n",
    "\n",
    "Mais especificamente, **objetos de uma classe filha podem também ser tratados como se pertencessem à classe mãe**.\n"
   ]
  },
  {
   "cell_type": "code",
   "execution_count": null,
   "metadata": {},
   "outputs": [],
   "source": []
  },
  {
   "cell_type": "code",
   "execution_count": null,
   "metadata": {},
   "outputs": [],
   "source": []
  },
  {
   "cell_type": "code",
   "execution_count": null,
   "metadata": {},
   "outputs": [],
   "source": []
  },
  {
   "cell_type": "markdown",
   "metadata": {},
   "source": [
    "### Exercício\n",
    "Você trabalha em um restaurante que serve pratos e bebidas aos seus clientes. Todos os itens do menu possuem um título/nome e um preço.\n",
    "* Crie uma classe ItemMenu que recebe os atributos\n",
    "    - titulo\n",
    "    - preco\n",
    "    \n",
    "* Métodos:\n",
    "    - Printar um objeto da classe\n",
    "\n",
    "* Crie uma classe Prato, filha de ItemMenu, que possui os atributos porcao (int) e ingredientes (list) e atualize o método de representação\n",
    "\n",
    "* Crie uma classe Bebida, filha de ItemMenu, que possui os atributos alcoólica (bool) e quant_ml (float) e atualize o método de representação"
   ]
  },
  {
   "cell_type": "code",
   "execution_count": 2,
   "metadata": {},
   "outputs": [],
   "source": [
    "class ItemMenu():\n",
    "    def __init__(self, titulo, preco):\n",
    "        self.titulo = titulo\n",
    "        self.preco = preco\n",
    "    \n",
    "    def __repr__(self):\n",
    "        return '{} ------------------ R$ {:.2f}'.format(self.titulo, self.preco)\n",
    "\n"
   ]
  },
  {
   "cell_type": "code",
   "execution_count": 3,
   "metadata": {},
   "outputs": [],
   "source": [
    "class Prato(ItemMenu):\n",
    "    def __init__(self, titulo, preco, porcao, ingredientes):\n",
    "        super().__init__(titulo, preco)\n",
    "        self.porcao = porcao\n",
    "        self.ingredientes = ingredientes\n",
    "\n",
    "    def __repr__(self):\n",
    "        return f''' {super().__repr__}\n",
    "\n",
    "        Serve {self.porcao} pessoa(s)\n",
    "\n",
    "        Ingredientes: {', '.join(self.ingredientes)} '''"
   ]
  },
  {
   "cell_type": "code",
   "execution_count": 4,
   "metadata": {},
   "outputs": [
    {
     "name": "stdout",
     "output_type": "stream",
     "text": [
      "Strogonoff ------------------ R$ 30.00\n"
     ]
    }
   ],
   "source": [
    "item_generico = ItemMenu('Strogonoff', 30)\n",
    "print(item_generico)"
   ]
  },
  {
   "cell_type": "code",
   "execution_count": 5,
   "metadata": {},
   "outputs": [
    {
     "ename": "RecursionError",
     "evalue": "maximum recursion depth exceeded while getting the repr of an object",
     "output_type": "error",
     "traceback": [
      "\u001b[1;31m---------------------------------------------------------------------------\u001b[0m",
      "\u001b[1;31mRecursionError\u001b[0m                            Traceback (most recent call last)",
      "\u001b[1;32mc:\\Users\\rigsj\\Downloads\\aula_5_poo.ipynb Cell 34'\u001b[0m in \u001b[0;36m<module>\u001b[1;34m\u001b[0m\n\u001b[0;32m      <a href='vscode-notebook-cell:/c%3A/Users/rigsj/Downloads/aula_5_poo.ipynb#ch0000033?line=0'>1</a>\u001b[0m prato_1 \u001b[39m=\u001b[39m Prato(\u001b[39m'\u001b[39m\u001b[39mStrogonoff\u001b[39m\u001b[39m'\u001b[39m, \u001b[39m30\u001b[39m, \u001b[39m1\u001b[39m, [\u001b[39m'\u001b[39m\u001b[39mArroz\u001b[39m\u001b[39m'\u001b[39m,\u001b[39m'\u001b[39m\u001b[39mFrango\u001b[39m\u001b[39m'\u001b[39m,\u001b[39m'\u001b[39m\u001b[39mBatata Palha\u001b[39m\u001b[39m'\u001b[39m])\n\u001b[1;32m----> <a href='vscode-notebook-cell:/c%3A/Users/rigsj/Downloads/aula_5_poo.ipynb#ch0000033?line=1'>2</a>\u001b[0m \u001b[39mprint\u001b[39;49m(prato_1)\n",
      "\u001b[1;32mc:\\Users\\rigsj\\Downloads\\aula_5_poo.ipynb Cell 32'\u001b[0m in \u001b[0;36mPrato.__repr__\u001b[1;34m(self)\u001b[0m\n\u001b[0;32m      <a href='vscode-notebook-cell:/c%3A/Users/rigsj/Downloads/aula_5_poo.ipynb#ch0000031?line=6'>7</a>\u001b[0m \u001b[39mdef\u001b[39;00m \u001b[39m__repr__\u001b[39m(\u001b[39mself\u001b[39m):\n\u001b[1;32m----> <a href='vscode-notebook-cell:/c%3A/Users/rigsj/Downloads/aula_5_poo.ipynb#ch0000031?line=7'>8</a>\u001b[0m     \u001b[39mreturn\u001b[39;00m \u001b[39mf\u001b[39m\u001b[39m'''\u001b[39m\u001b[39m \u001b[39m\u001b[39m{\u001b[39;00m\u001b[39msuper\u001b[39m()\u001b[39m.\u001b[39m\u001b[39m__repr__\u001b[39m\u001b[39m}\u001b[39;00m\n\u001b[0;32m      <a href='vscode-notebook-cell:/c%3A/Users/rigsj/Downloads/aula_5_poo.ipynb#ch0000031?line=8'>9</a>\u001b[0m \n\u001b[0;32m     <a href='vscode-notebook-cell:/c%3A/Users/rigsj/Downloads/aula_5_poo.ipynb#ch0000031?line=9'>10</a>\u001b[0m \u001b[39m    Serve \u001b[39m\u001b[39m{\u001b[39;00m\u001b[39mself\u001b[39m\u001b[39m.\u001b[39mporcao\u001b[39m}\u001b[39;00m\u001b[39m pessoa(s)\u001b[39m\n\u001b[0;32m     <a href='vscode-notebook-cell:/c%3A/Users/rigsj/Downloads/aula_5_poo.ipynb#ch0000031?line=10'>11</a>\u001b[0m \n\u001b[0;32m     <a href='vscode-notebook-cell:/c%3A/Users/rigsj/Downloads/aula_5_poo.ipynb#ch0000031?line=11'>12</a>\u001b[0m \u001b[39m    Ingredientes: \u001b[39m\u001b[39m{\u001b[39;00m\u001b[39m'\u001b[39m\u001b[39m, \u001b[39m\u001b[39m'\u001b[39m\u001b[39m.\u001b[39mjoin(\u001b[39mself\u001b[39m\u001b[39m.\u001b[39mingredientes)\u001b[39m}\u001b[39;00m\u001b[39m \u001b[39m\u001b[39m'''\u001b[39m\n",
      "\u001b[1;32mc:\\Users\\rigsj\\Downloads\\aula_5_poo.ipynb Cell 32'\u001b[0m in \u001b[0;36mPrato.__repr__\u001b[1;34m(self)\u001b[0m\n\u001b[0;32m      <a href='vscode-notebook-cell:/c%3A/Users/rigsj/Downloads/aula_5_poo.ipynb#ch0000031?line=6'>7</a>\u001b[0m \u001b[39mdef\u001b[39;00m \u001b[39m__repr__\u001b[39m(\u001b[39mself\u001b[39m):\n\u001b[1;32m----> <a href='vscode-notebook-cell:/c%3A/Users/rigsj/Downloads/aula_5_poo.ipynb#ch0000031?line=7'>8</a>\u001b[0m     \u001b[39mreturn\u001b[39;00m \u001b[39mf\u001b[39m\u001b[39m'''\u001b[39m\u001b[39m \u001b[39m\u001b[39m{\u001b[39;00m\u001b[39msuper\u001b[39m()\u001b[39m.\u001b[39m\u001b[39m__repr__\u001b[39m\u001b[39m}\u001b[39;00m\n\u001b[0;32m      <a href='vscode-notebook-cell:/c%3A/Users/rigsj/Downloads/aula_5_poo.ipynb#ch0000031?line=8'>9</a>\u001b[0m \n\u001b[0;32m     <a href='vscode-notebook-cell:/c%3A/Users/rigsj/Downloads/aula_5_poo.ipynb#ch0000031?line=9'>10</a>\u001b[0m \u001b[39m    Serve \u001b[39m\u001b[39m{\u001b[39;00m\u001b[39mself\u001b[39m\u001b[39m.\u001b[39mporcao\u001b[39m}\u001b[39;00m\u001b[39m pessoa(s)\u001b[39m\n\u001b[0;32m     <a href='vscode-notebook-cell:/c%3A/Users/rigsj/Downloads/aula_5_poo.ipynb#ch0000031?line=10'>11</a>\u001b[0m \n\u001b[0;32m     <a href='vscode-notebook-cell:/c%3A/Users/rigsj/Downloads/aula_5_poo.ipynb#ch0000031?line=11'>12</a>\u001b[0m \u001b[39m    Ingredientes: \u001b[39m\u001b[39m{\u001b[39;00m\u001b[39m'\u001b[39m\u001b[39m, \u001b[39m\u001b[39m'\u001b[39m\u001b[39m.\u001b[39mjoin(\u001b[39mself\u001b[39m\u001b[39m.\u001b[39mingredientes)\u001b[39m}\u001b[39;00m\u001b[39m \u001b[39m\u001b[39m'''\u001b[39m\n",
      "    \u001b[1;31m[... skipping similar frames: Prato.__repr__ at line 8 (740 times)]\u001b[0m\n",
      "\u001b[1;32mc:\\Users\\rigsj\\Downloads\\aula_5_poo.ipynb Cell 32'\u001b[0m in \u001b[0;36mPrato.__repr__\u001b[1;34m(self)\u001b[0m\n\u001b[0;32m      <a href='vscode-notebook-cell:/c%3A/Users/rigsj/Downloads/aula_5_poo.ipynb#ch0000031?line=6'>7</a>\u001b[0m \u001b[39mdef\u001b[39;00m \u001b[39m__repr__\u001b[39m(\u001b[39mself\u001b[39m):\n\u001b[1;32m----> <a href='vscode-notebook-cell:/c%3A/Users/rigsj/Downloads/aula_5_poo.ipynb#ch0000031?line=7'>8</a>\u001b[0m     \u001b[39mreturn\u001b[39;00m \u001b[39mf\u001b[39m\u001b[39m'''\u001b[39m\u001b[39m \u001b[39m\u001b[39m{\u001b[39;00m\u001b[39msuper\u001b[39m()\u001b[39m.\u001b[39m\u001b[39m__repr__\u001b[39m\u001b[39m}\u001b[39;00m\n\u001b[0;32m      <a href='vscode-notebook-cell:/c%3A/Users/rigsj/Downloads/aula_5_poo.ipynb#ch0000031?line=8'>9</a>\u001b[0m \n\u001b[0;32m     <a href='vscode-notebook-cell:/c%3A/Users/rigsj/Downloads/aula_5_poo.ipynb#ch0000031?line=9'>10</a>\u001b[0m \u001b[39m    Serve \u001b[39m\u001b[39m{\u001b[39;00m\u001b[39mself\u001b[39m\u001b[39m.\u001b[39mporcao\u001b[39m}\u001b[39;00m\u001b[39m pessoa(s)\u001b[39m\n\u001b[0;32m     <a href='vscode-notebook-cell:/c%3A/Users/rigsj/Downloads/aula_5_poo.ipynb#ch0000031?line=10'>11</a>\u001b[0m \n\u001b[0;32m     <a href='vscode-notebook-cell:/c%3A/Users/rigsj/Downloads/aula_5_poo.ipynb#ch0000031?line=11'>12</a>\u001b[0m \u001b[39m    Ingredientes: \u001b[39m\u001b[39m{\u001b[39;00m\u001b[39m'\u001b[39m\u001b[39m, \u001b[39m\u001b[39m'\u001b[39m\u001b[39m.\u001b[39mjoin(\u001b[39mself\u001b[39m\u001b[39m.\u001b[39mingredientes)\u001b[39m}\u001b[39;00m\u001b[39m \u001b[39m\u001b[39m'''\u001b[39m\n",
      "\u001b[1;31mRecursionError\u001b[0m: maximum recursion depth exceeded while getting the repr of an object"
     ]
    }
   ],
   "source": [
    "prato_1 = Prato('Strogonoff', 30, 1, ['Arroz','Frango','Batata Palha'])\n",
    "print(prato_1)"
   ]
  },
  {
   "cell_type": "code",
   "execution_count": null,
   "metadata": {},
   "outputs": [],
   "source": []
  },
  {
   "cell_type": "code",
   "execution_count": null,
   "metadata": {},
   "outputs": [],
   "source": []
  },
  {
   "cell_type": "code",
   "execution_count": null,
   "metadata": {},
   "outputs": [],
   "source": []
  }
 ],
 "metadata": {
  "interpreter": {
   "hash": "9e1544ece40983b9dcb10e0aa1f5d0cdb8d9e539b9b8df5e9e5017ad7f05ebe2"
  },
  "kernelspec": {
   "display_name": "Python 3.9.2 64-bit",
   "language": "python",
   "name": "python3"
  },
  "language_info": {
   "codemirror_mode": {
    "name": "ipython",
    "version": 3
   },
   "file_extension": ".py",
   "mimetype": "text/x-python",
   "name": "python",
   "nbconvert_exporter": "python",
   "pygments_lexer": "ipython3",
   "version": "3.10.1"
  },
  "orig_nbformat": 4
 },
 "nbformat": 4,
 "nbformat_minor": 2
}
