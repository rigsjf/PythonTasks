{
 "cells": [
  {
   "cell_type": "markdown",
   "metadata": {},
   "source": [
    "Crie uma classe Moto com os atributos marca, modelo, cor e marcha_atual, maior_marcha e ligada. O atributo marcha indica em que marcha a moto encontra-se no momento, sendo represtando de forma inteira: 0 - neutro, 1 - primeira, 2 - segunda, etc. O atributo ligada é um booleano que indica se ela está ligada ou não.\n",
    "\n",
    "Crie um método ligar_moto que muda o atributo ligada caso ela esteja desligada. Verifique se a marcha está no neutro para ligá-la.\n",
    "\n",
    "Crie os métodos marcha_abaixo e marcha_acima para alterar o valor da marcha da moto. Verifique se a moto está ligada para executar os métodos."
   ]
  },
  {
   "cell_type": "code",
   "execution_count": 21,
   "metadata": {},
   "outputs": [],
   "source": [
    "class Moto:\n",
    "    def __init__(self,marca,modelo,cor,maior_marcha):\n",
    "        self.marca = marca\n",
    "        self.modelo = modelo\n",
    "        self.cor = cor\n",
    "        self.marcha_atual = 0\n",
    "        self.maior_marcha = maior_marcha\n",
    "        self.ligada = False\n",
    "\n",
    "    def ligar_moto (self):\n",
    "        if self.ligada == True:\n",
    "            print('A moto já está ligada!')\n",
    "        elif self.marcha_atual != 0:\n",
    "            print('Coloque a marcha no neutro!')\n",
    "            \n",
    "        else:\n",
    "            self.ligada = True\n",
    "            print('A moto foi ligada!')\n",
    "\n",
    "    def desligar_moto (self):\n",
    "            if self.ligada == False:\n",
    "                print('A moto já está desligada!')\n",
    "            elif self.marcha_atual != 0:\n",
    "                print('Coloque a marcha no neutro!')    \n",
    "            else:\n",
    "                self.ligada = False\n",
    "                print('A moto foi desligada!')\n",
    "\n",
    "    def marcha_abaixo (self):\n",
    "        if self.ligada == False:\n",
    "            print('A moto está desligada!')\n",
    "        elif self.marcha_atual == 0:\n",
    "            print('A moto está com a marcha neutro!')\n",
    "        else:\n",
    "            self.marcha_atual -=1\n",
    "\n",
    "    def marcha_acima(self):\n",
    "        if self.ligada == False:\n",
    "            print('A moto está desligada!')\n",
    "        elif self.marcha_atual == self.maior_marcha:\n",
    "            print('A moto está com a maior marcha!')\n",
    "        else:\n",
    "            self.marcha_atual +=1"
   ]
  },
  {
   "cell_type": "code",
   "execution_count": 4,
   "metadata": {},
   "outputs": [
    {
     "data": {
      "text/plain": [
       "{'marca': 'Honda',\n",
       " 'modelo': 'CBX',\n",
       " 'cor': 'Amarelo',\n",
       " 'marcha_atual': 0,\n",
       " 'maior_marcha': 3,\n",
       " 'ligada': False}"
      ]
     },
     "execution_count": 4,
     "metadata": {},
     "output_type": "execute_result"
    }
   ],
   "source": [
    "moto1 = Moto('Honda','CBX','Amarelo',3)\n",
    "moto1.__dict__"
   ]
  },
  {
   "cell_type": "code",
   "execution_count": 20,
   "metadata": {},
   "outputs": [
    {
     "name": "stdout",
     "output_type": "stream",
     "text": [
      "A moto foi desligada!\n"
     ]
    },
    {
     "data": {
      "text/plain": [
       "{'marca': 'Honda',\n",
       " 'modelo': 'CBX',\n",
       " 'cor': 'Amarelo',\n",
       " 'marcha_atual': 0,\n",
       " 'maior_marcha': 3,\n",
       " 'ligada': False}"
      ]
     },
     "execution_count": 20,
     "metadata": {},
     "output_type": "execute_result"
    }
   ],
   "source": [
    "#moto1.ligar_moto()\n",
    "moto1.desligar_moto()\n",
    "moto1.__dict__"
   ]
  },
  {
   "cell_type": "markdown",
   "metadata": {},
   "source": [
    "Crie uma classe Televisao com atributos ligado, numero_canais, canal_atual, volume, min_volume e max_volume. Os atributos min_volume e max_volume devem receber 0 e 100 respectivamente. Crie um metodo ligar_desligar que muda o estado atual da TV para o oposto.\n",
    "\n",
    "Crie os métodos abaixar_volume e aumentar_volume.\n",
    "\n",
    "Crie os métodos canal_abaixo e canal_acima. Caso esteja no último canal e aumente 1, o canal deve retornar para o menor canal. Caso esteja no primeiro canal e diminua 1, o canal deve retornar para o maior canal."
   ]
  },
  {
   "cell_type": "code",
   "execution_count": 25,
   "metadata": {},
   "outputs": [],
   "source": [
    "class Televisao:\n",
    "    def __init__ (self):\n",
    "        self.ligada = False\n",
    "        self.numero_canais = 10\n",
    "        self.canal_atual = 1\n",
    "        self.volume = 0\n",
    "        self.min_volume = 0\n",
    "        self.max_volume = 100\n",
    "    \n",
    "    def ligar_desligar(self):\n",
    "        if self.ligada == False:\n",
    "            print('A TV foi ligada!')\n",
    "            self.ligada = True\n",
    "        else:\n",
    "            print('A TV foi desligada!')\n",
    "            self.ligada = False\n",
    "\n",
    "    def abaixar_volume(self):\n",
    "        if self.ligada == False:\n",
    "            print('Ligue a TV!')\n",
    "        elif self.volume == 0:\n",
    "            print('A TV está no volume mínimo!')\n",
    "        else:\n",
    "            self.volume -= 1\n",
    "            print(f'Volume abaixado para: {self.volume}')\n",
    "\n",
    "    def aumentar_voume(self):\n",
    "        if self.ligada == False:\n",
    "            print('Ligue a TV!')\n",
    "        elif self.volume == 100:\n",
    "            print('A TV está no volume máximo!')\n",
    "        else:\n",
    "            self.volume += 1\n",
    "            print(f'Volume aumentado para: {self.volume}')\n",
    "\n",
    "    def canal_abaixo(self):\n",
    "        if self.ligada == False:\n",
    "            print('Ligue a TV!')\n",
    "        elif self.canal_atual == 1:\n",
    "            self.canal_atual = 10\n",
    "            print(f'Canal atual: {self.canal_atual}')\n",
    "        else:\n",
    "            self.canal_atual -= 1\n",
    "            print(f'Canal atual: {self.canal_atual}')\n",
    "\n",
    "    def canal_acima(self):\n",
    "        if self.ligada == False:\n",
    "            print('Ligue a TV!')\n",
    "        elif self.canal_atual == 10:\n",
    "            self.canal_atual = 1\n",
    "            print(f'Canal atual: {self.canal_atual}')\n",
    "        else:\n",
    "            self.canal_atual += 1\n",
    "            print(f'Canal atual: {self.canal_atual}')\n"
   ]
  },
  {
   "cell_type": "code",
   "execution_count": 26,
   "metadata": {},
   "outputs": [
    {
     "data": {
      "text/plain": [
       "{'ligada': False,\n",
       " 'numero_canais': 10,\n",
       " 'canal_atual': 1,\n",
       " 'volume': 0,\n",
       " 'min_volume': 0,\n",
       " 'max_volume': 100}"
      ]
     },
     "execution_count": 26,
     "metadata": {},
     "output_type": "execute_result"
    }
   ],
   "source": [
    "tv1 = Televisao()\n",
    "tv1.__dict__"
   ]
  },
  {
   "cell_type": "code",
   "execution_count": 86,
   "metadata": {},
   "outputs": [
    {
     "name": "stdout",
     "output_type": "stream",
     "text": [
      "A TV foi desligada!\n"
     ]
    },
    {
     "data": {
      "text/plain": [
       "{'ligada': False,\n",
       " 'numero_canais': 10,\n",
       " 'canal_atual': 2,\n",
       " 'volume': 100,\n",
       " 'min_volume': 0,\n",
       " 'max_volume': 100}"
      ]
     },
     "execution_count": 86,
     "metadata": {},
     "output_type": "execute_result"
    }
   ],
   "source": [
    "tv1.ligar_desligar()\n",
    "tv1.__dict__"
   ]
  },
  {
   "cell_type": "markdown",
   "metadata": {},
   "source": [
    "Crie uma classe Microondas, com os atributos ligado e porta_aberta. Os dois atributos devem ser booleanos.\n",
    "\n",
    "Crie um método ligar_desligar que deve alterar o atributo ligado para o oposto.\n",
    "\n",
    "Crie um método abri_fechar que deve alterar o atributo porta_aberta para o oposto.\n",
    "\n",
    "Crie um método esquentar que recebe quanto tempo o microondas deve funcionar. O método só deve ser executado se o microondas estiver ligado e com a tampa fechada."
   ]
  },
  {
   "cell_type": "code",
   "execution_count": 88,
   "metadata": {},
   "outputs": [],
   "source": [
    "class Microondas:\n",
    "    def __init__ (self):\n",
    "        self.ligado = False\n",
    "        self.porta_aberta = False\n",
    "        \n",
    "    \n",
    "    def ligar_desligar(self):\n",
    "        if self.ligado == False:\n",
    "            self.ligado = True\n",
    "            print('Microondas foi ligado!')\n",
    "        else:\n",
    "            self.ligado = False\n",
    "            print('Microondas foi desligado!')\n",
    "\n",
    "    def abrir_fechar(self):\n",
    "        if self.porta_aberta == False:\n",
    "            self.porta_aberta = True\n",
    "            print('A porta do Microondas foi aberta!')\n",
    "        else:\n",
    "            self.porta_aberta = False\n",
    "            print('A porta do Microondas foi fechada!')\n",
    "    def esquentar(self,tempo):\n",
    "        if self.ligado == False:\n",
    "            print('Microondas desligado!')\n",
    "        elif self.porta_aberta == False:\n",
    "            print('A porta está aberta!')\n",
    "        else:\n",
    "            print(f'Microondas ligado por {tempo} segundos!')\n"
   ]
  },
  {
   "cell_type": "code",
   "execution_count": 94,
   "metadata": {},
   "outputs": [
    {
     "data": {
      "text/plain": [
       "{'ligado': False, 'porta_aberta': False}"
      ]
     },
     "execution_count": 94,
     "metadata": {},
     "output_type": "execute_result"
    }
   ],
   "source": [
    "microwave = Microondas()\n",
    "microwave.__dict__"
   ]
  },
  {
   "cell_type": "code",
   "execution_count": 97,
   "metadata": {},
   "outputs": [
    {
     "name": "stdout",
     "output_type": "stream",
     "text": [
      "Microondas foi ligado!\n"
     ]
    },
    {
     "data": {
      "text/plain": [
       "{'ligado': True, 'porta_aberta': False}"
      ]
     },
     "execution_count": 97,
     "metadata": {},
     "output_type": "execute_result"
    }
   ],
   "source": [
    "microwave.ligar_desligar()\n",
    "microwave.__dict__"
   ]
  },
  {
   "cell_type": "markdown",
   "metadata": {},
   "source": [
    "Crie uma classe Bola cujos atributos são cor e raio. Crie um método que imprime a cor da bola. Crie um método para calcular a área dessa bola. Crie um método para calcular o volume da bola. Crie um objeto dessa classe e calcule a área e o volume, imprimindo ambos em seguida.\n",
    "\n",
    "Obs.:\n",
    "\n",
    "Área da esfera = 4*3.14*r*r;\n",
    "\n",
    "Volume da esfera = 4*3.14*r*r*r/3"
   ]
  },
  {
   "cell_type": "code",
   "execution_count": 98,
   "metadata": {},
   "outputs": [],
   "source": [
    "class Bola():\n",
    "    def __init__(self, cor, raio):\n",
    "        self.cor = cor\n",
    "        self.raio = raio\n",
    "\n",
    "    def calculaArea(self):\n",
    "        self.area = 4*3.14*self.raio*self.raio"
   ]
  },
  {
   "cell_type": "code",
   "execution_count": null,
   "metadata": {},
   "outputs": [],
   "source": []
  }
 ],
 "metadata": {
  "interpreter": {
   "hash": "07673b1cb01d8683bcce0696bf08d6edbfaf2fd1c6f3908d5f173f6a7ace4f9b"
  },
  "kernelspec": {
   "display_name": "Python 3.9.10 64-bit (windows store)",
   "language": "python",
   "name": "python3"
  },
  "language_info": {
   "codemirror_mode": {
    "name": "ipython",
    "version": 3
   },
   "file_extension": ".py",
   "mimetype": "text/x-python",
   "name": "python",
   "nbconvert_exporter": "python",
   "pygments_lexer": "ipython3",
   "version": "3.9.10"
  },
  "orig_nbformat": 4
 },
 "nbformat": 4,
 "nbformat_minor": 2
}
