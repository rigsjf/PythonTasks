{
 "cells": [
  {
   "cell_type": "markdown",
   "metadata": {},
   "source": [
    "# Árvores\n",
    "\n",
    "---"
   ]
  },
  {
   "cell_type": "markdown",
   "metadata": {},
   "source": [
    "Roteiro:\n",
    "* O que é uma árvore\n",
    "* Terminologia\n",
    "* Aplicações\n",
    "* Implementando uma árvore\n",
    "* Exercícios de árvores\n",
    "* Árvores Binárias\n",
    "* Algoritmo de Busca Binária"
   ]
  },
  {
   "cell_type": "markdown",
   "metadata": {},
   "source": [
    "## O que é uma árvore"
   ]
  },
  {
   "cell_type": "markdown",
   "metadata": {},
   "source": [
    "Agora que sabemos o que são grafos, podemos falar sobre um dos tipos mais comuns de grafos, as chamadas **árvores**."
   ]
  },
  {
   "cell_type": "markdown",
   "metadata": {},
   "source": [
    "Árvores seguem a mesma definição básica de grafos: são uma estrutura de dados definida por uma coleção de elementos, chamados *nós*, que têm relações entre si (*ramos*, *graus*)"
   ]
  },
  {
   "cell_type": "markdown",
   "metadata": {},
   "source": [
    "No entanto, árvores são aplicações mais específicas de grafos, e portanto têm propriedades próprias, sendo elas:\n",
    "* presença de um \"nó base\", chamado de *raiz*, que fica no **topo** da hierarquia\n",
    "* todos os nós seguintes são obrigatoriamente conectados à *raíz* por um **único caminho**\n",
    "* árvores podem apresentar *sub-árvores*, que também se comportam como *árvores* (estrutura recursiva!)\n",
    "* um nó sozinho também é considerado uma árvore\n",
    "* todo nó, exceto a *raiz*, tem exatamente **um** *nó pai*"
   ]
  },
  {
   "cell_type": "markdown",
   "metadata": {},
   "source": [
    "## Terminologia"
   ]
  },
  {
   "cell_type": "markdown",
   "metadata": {},
   "source": [
    "- *Raiz*: nó do topo da hierarquia, que origina a árvore\n",
    "- *Subárvore*: uma árvore \"interna\" à árvore original\n",
    "- *Nó pai*: nó que origina uma *subárvore*\n",
    "- *Nó filho*: nó que é originado por um *nó pai*\n",
    "- *Nó interno*: nó que não são é *folha* nem *raiz*\n",
    "- *Folha*: nó do final da hierarquia, ou seja, que não\n",
    "- *Altura*: distância entre a *raiz* e a *folha* mais afastada"
   ]
  },
  {
   "cell_type": "markdown",
   "metadata": {},
   "source": [
    "### Exemplo"
   ]
  },
  {
   "cell_type": "markdown",
   "metadata": {},
   "source": [
    "![Árvore](arvore.png)"
   ]
  },
  {
   "cell_type": "markdown",
   "metadata": {},
   "source": [
    "- O nó 2 é a *raiz* da árvore\n",
    "- O nó 7 é *pai* dos nós 2, 10 e 6\n",
    "- O nó 11 é *filho* do nó 6\n",
    "- Uma das subárvores que podemos formar é a originada pelo nó 5, que contém os nós 9 e 4\n",
    "- O nó 5 é uma *folha* da árvore"
   ]
  },
  {
   "cell_type": "markdown",
   "metadata": {},
   "source": [
    "### Exercício de Fixação"
   ]
  },
  {
   "cell_type": "markdown",
   "metadata": {},
   "source": [
    "Para a árvore representada abaixo, aponte:\n",
    "- qual dos nós é sua *raíz*\n",
    "- quais dos nós são *folhas*\n",
    "- qual a *altura* da árvore\n",
    "- uma das *sub-árvores* que pode ser originada"
   ]
  },
  {
   "cell_type": "markdown",
   "metadata": {},
   "source": [
    "![arvore_exercicio](arvore_exercicio.png)"
   ]
  },
  {
   "cell_type": "markdown",
   "metadata": {},
   "source": [
    "## Aplicações"
   ]
  },
  {
   "cell_type": "markdown",
   "metadata": {},
   "source": [
    "As árvores estão em todos os ambientes da computação! \n",
    "\n",
    "Sobretudo em Engenharia/Ciência de Dados são muito utilizadas para representar e operar sobre dados estatísticos\n",
    "\n",
    "Além disso, árvores são usadas em diversas áreas, como:\n",
    "* programação gráfica\n",
    "* modelagem 3D\n",
    "* compiladores\n",
    "* tantas outras coisas..."
   ]
  },
  {
   "cell_type": "markdown",
   "metadata": {},
   "source": [
    "Exemplo: gerenciador de janelas\n",
    "\n",
    "- Tela: nó raiz\n",
    "- Janela: nó filho da Tela\n",
    "- Diálogo da janela (ex.: \"Deseja realmente fechar?\"): nó filho da Janela"
   ]
  },
  {
   "cell_type": "markdown",
   "metadata": {},
   "source": [
    "## Implementando uma árvore"
   ]
  },
  {
   "cell_type": "markdown",
   "metadata": {},
   "source": [
    "Vamos representar uma árvore utilizando orientação a objetos!\n",
    "\n",
    "Além disso, podemos usar bibliotecas para lidar com árvores:\n",
    "- [anytree](https://pypi.org/project/anytree/)\n",
    "- [treelib](https://pypi.org/project/treelib/)"
   ]
  },
  {
   "cell_type": "code",
   "execution_count": null,
   "metadata": {},
   "outputs": [],
   "source": [
    "from treelib import Node, Tree\n",
    "\n",
    "arvore = Tree()\n",
    "\n",
    "arvore.create_node('Brasil', 'brasil', data=1110)\n",
    "arvore.create_node('MG', 'mg', data=100, parent='brasil')\n",
    "arvore.create_node('SP', 'sp', data=300, parent='brasil')\n",
    "\n",
    "arvore.create_node('SJC', 'sjc', data=30, parent='sp')\n",
    "arvore.create_node('Taubaté', 'taubate', data=3, parent='sjc')\n",
    "\n",
    "arvore.show()"
   ]
  },
  {
   "cell_type": "code",
   "execution_count": 30,
   "metadata": {},
   "outputs": [],
   "source": [
    "class No:\n",
    "    def __init__(self, id, valor, pai=None, filhos=[]):\n",
    "        self.id = id\n",
    "        self.valor = valor\n",
    "\n",
    "        self.pai = pai\n",
    "        self.filhos = filhos\n",
    "\n",
    "    def adiciona_pai(self, pai):\n",
    "        if self.pai is not None:\n",
    "            print(f'o nó já tem pai: {self.pai.id}')\n",
    "            return False\n",
    "        \n",
    "        self.pai = pai\n",
    "        pai.adiciona_filhos(self)\n",
    "        return pai\n",
    "\n",
    "    def adiciona_filhos(self, filhos):\n",
    "        for elem in filhos:\n",
    "            for filho in self.filhos:\n",
    "                if elem == filho:\n",
    "                    print(f'filho {elem.id} já adicionado')\n",
    "\n",
    "                else:\n",
    "                    self.filhos.append(elem)\n",
    "                    elem.adiciona_pai(self)\n",
    "\n",
    "class Arvore:\n",
    "    def __init__(self, raiz=None, intermediarios=[], folhas=[]):\n",
    "        self.raiz = raiz\n",
    "        self.intermediarios = intermediarios\n",
    "        self.folhas = folhas"
   ]
  },
  {
   "cell_type": "code",
   "execution_count": 31,
   "metadata": {},
   "outputs": [],
   "source": [
    "br = No('br', 1100) \n",
    "sp = No('sp', 300, pai=br)\n",
    "sjc = No('sjc', 30, pai=sp)\n",
    "tauba = No('taubaté', 3, pai=sjc)"
   ]
  },
  {
   "cell_type": "markdown",
   "metadata": {},
   "source": [
    "### Exercícios"
   ]
  },
  {
   "cell_type": "markdown",
   "metadata": {},
   "source": [
    "Utilizar a `treelib`!"
   ]
  },
  {
   "cell_type": "markdown",
   "metadata": {},
   "source": [
    "### Exercício 1"
   ]
  },
  {
   "cell_type": "markdown",
   "metadata": {},
   "source": [
    "Usando a implementação de árvore feita acima, crie uma função que recebe um argumento que representa o nó pai, `pai`, e uma árvore `arvore`, e imprime a quantidade de nós filhos de `pai` na árvore e seus valores; caso o nó seja uma folha, a função deve retornar 0"
   ]
  },
  {
   "cell_type": "code",
   "execution_count": null,
   "metadata": {},
   "outputs": [],
   "source": []
  },
  {
   "cell_type": "markdown",
   "metadata": {},
   "source": [
    "### Exercício 2"
   ]
  },
  {
   "cell_type": "markdown",
   "metadata": {},
   "source": [
    "Crie uma classe `Trabalhador` que recebe um nome e um cargo, sendo que os cargos podem ser `presidente`, `supervisor` e `funcionario`. A classe deve ter ainda dois atributos, `superior` e `subalterno`.\n",
    "\n",
    "Crie uma função `hierarquia` que recebe uma lista de trabalhadores e acerta suas hierarquias, ou seja, cria uma árvore na qual o `presidente` é a raíz, os `supervisor`es são nós intermediários e os `funcionário`s são folhas. Ao final, imprima os valores da árvore\n",
    "\n",
    "Exemplo:\n",
    "\n",
    "```\n",
    "pres = Trabalhador('frederico', 'presidente')\n",
    "sup = Trabalhador('tiago', 'supervisor')\n",
    "fun = Trabalhador('felipe', 'funcionario')\n",
    "\n",
    "trabalhadores = []\n",
    "trabalhadores.append(pres)\n",
    "trabalhadores.append(sup)\n",
    "trabalhadores.append(fun)\n",
    "\n",
    "hierarquia(trabalhadores)\n",
    "```\n",
    "\n",
    "Saída:\n",
    "```\n",
    "'frederico' -> 'tiago' -> 'felipe'\n",
    "```"
   ]
  },
  {
   "cell_type": "code",
   "execution_count": null,
   "metadata": {},
   "outputs": [],
   "source": []
  },
  {
   "cell_type": "markdown",
   "metadata": {},
   "source": [
    "## Árvores Binárias"
   ]
  },
  {
   "cell_type": "markdown",
   "metadata": {},
   "source": [
    "Depois de nos familiarizarmos com árvores, podemos começar a falar sobre **árvores binárias**"
   ]
  },
  {
   "cell_type": "markdown",
   "metadata": {},
   "source": [
    "Árvores binárias são a variedade de árvore mais utilizada da computação!\n",
    "\n",
    "Têm todas as características das árvores que já estudamos, mas com um detalhe:\n",
    "* Todos os nós têm, no máximo, **dois** filhos (ou seja, os nós só podem ter 0, 1 ou 2 filhos)"
   ]
  },
  {
   "cell_type": "markdown",
   "metadata": {},
   "source": [
    "### Exemplo"
   ]
  },
  {
   "cell_type": "markdown",
   "metadata": {},
   "source": [
    "![Árvore binária](arvore_binaria.png)"
   ]
  },
  {
   "cell_type": "markdown",
   "metadata": {},
   "source": [
    "### Aplicações"
   ]
  },
  {
   "cell_type": "markdown",
   "metadata": {},
   "source": [
    "Note que a maioria das aplicações de árvores genéricas, citadas mais acima, também podem utilizar árvores binárias\n",
    "\n",
    "Mais alguns usos para árvores binárias:\n",
    "* estrutura básica de dados nas planilhas Microsoft Excel\n",
    "* bancos de dados segmentados\n",
    "* particionamento de espaço binário (computação gráfica)"
   ]
  },
  {
   "cell_type": "markdown",
   "metadata": {},
   "source": [
    "Além disso, há um algoritmo que já vimos antes e é implementado através de árvores binárias!"
   ]
  },
  {
   "cell_type": "markdown",
   "metadata": {},
   "source": [
    "### Árvore Binária de Busca (Binary Search Tree)"
   ]
  },
  {
   "cell_type": "markdown",
   "metadata": {},
   "source": [
    "São árvores binárias especializadas, montadas de maneira que todos os filhos esquerdos de um nó têm valor menor que o próprio nó, e todos os filhos direitos de um nó têm valor maior que o próprio nó\n",
    "\n",
    "Ou seja, para um nó `C`:\n",
    "\n",
    "`C.esquerdo < C < C.direito`\n",
    "\n",
    "Veremos por que esse detalhe vai ser importante a seguir"
   ]
  },
  {
   "cell_type": "markdown",
   "metadata": {},
   "source": [
    "#### Exemplo"
   ]
  },
  {
   "cell_type": "markdown",
   "metadata": {},
   "source": [
    "![Árvore binária de busca](arvore_busca.png)"
   ]
  },
  {
   "cell_type": "markdown",
   "metadata": {},
   "source": []
  },
  {
   "cell_type": "markdown",
   "metadata": {},
   "source": []
  }
 ],
 "metadata": {
  "interpreter": {
   "hash": "e7370f93d1d0cde622a1f8e1c04877d8463912d04d973331ad4851f04de6915a"
  },
  "kernelspec": {
   "display_name": "Python 3.10.2 64-bit",
   "language": "python",
   "name": "python3"
  },
  "language_info": {
   "codemirror_mode": {
    "name": "ipython",
    "version": 3
   },
   "file_extension": ".py",
   "mimetype": "text/x-python",
   "name": "python",
   "nbconvert_exporter": "python",
   "pygments_lexer": "ipython3",
   "version": "3.10.2"
  },
  "orig_nbformat": 4
 },
 "nbformat": 4,
 "nbformat_minor": 2
}
