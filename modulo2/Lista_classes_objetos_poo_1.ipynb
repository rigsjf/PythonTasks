{
 "cells": [
  {
   "cell_type": "markdown",
   "metadata": {},
   "source": [
    "Enunciado\n",
    "Crie uma classe Bola cujos atributos são cor e raio. Crie um método que imprime a cor da bola. Crie um método para calcular a área dessa bola. Crie um método para calcular o volume da bola. Crie um objeto dessa classe e calcule a área e o volume, imprimindo ambos em seguida.\n",
    "\n",
    "Obs.:\n",
    "\n",
    "Área da esfera = 4*3.14*r*r;\n",
    "\n",
    "Volume da esfera = 4*3.14*r*r*r/3"
   ]
  },
  {
   "cell_type": "code",
   "execution_count": 2,
   "metadata": {},
   "outputs": [],
   "source": [
    "class Bola():\n",
    "    def __init__(self, cor, raio):\n",
    "        self.cor = cor\n",
    "        self.raio = raio\n",
    "\n",
    "    def calculaArea(self):\n",
    "        self.area = 4*3.14*self.raio*self.raio\n",
    "    \n",
    "    def calculaVolume(self):\n",
    "        self.volume = 4*3.14*self.raio*self.raio*self.raio/3"
   ]
  },
  {
   "cell_type": "code",
   "execution_count": 3,
   "metadata": {},
   "outputs": [
    {
     "data": {
      "text/plain": [
       "{'cor': 'Branca', 'raio': 7}"
      ]
     },
     "execution_count": 3,
     "metadata": {},
     "output_type": "execute_result"
    }
   ],
   "source": [
    "bola1 = Bola('Branca',7)\n",
    "bola1.__dict__"
   ]
  },
  {
   "cell_type": "code",
   "execution_count": 4,
   "metadata": {},
   "outputs": [
    {
     "data": {
      "text/plain": [
       "{'cor': 'Branca', 'raio': 7, 'volume': 1436.0266666666666}"
      ]
     },
     "execution_count": 4,
     "metadata": {},
     "output_type": "execute_result"
    }
   ],
   "source": [
    "bola1.calculaVolume()\n",
    "bola1.__dict__"
   ]
  },
  {
   "cell_type": "code",
   "execution_count": 5,
   "metadata": {},
   "outputs": [
    {
     "data": {
      "text/plain": [
       "{'cor': 'Branca', 'raio': 7, 'volume': 1436.0266666666666, 'area': 615.44}"
      ]
     },
     "execution_count": 5,
     "metadata": {},
     "output_type": "execute_result"
    }
   ],
   "source": [
    "bola1.calculaArea()\n",
    "bola1.__dict__"
   ]
  },
  {
   "cell_type": "markdown",
   "metadata": {},
   "source": [
    "Crie uma classe Retângulo cujos atributos são lado_a e lado_b. Crie um método para calcular a área desse retângulo. Crie um objeto dessa classe e calcule a área e a imprima em seguida."
   ]
  },
  {
   "cell_type": "code",
   "execution_count": 5,
   "metadata": {},
   "outputs": [],
   "source": [
    "class Retangulo():\n",
    "    def __init__(self, lado_a, lado_b):\n",
    "        self.lado_a = lado_a\n",
    "        self.lado_b = lado_b\n",
    "\n",
    "    def calculaArea(self):\n",
    "        self.area = self.lado_a * self.lado_b\n",
    "        print(f'A área do retângulo é {self.area}!')"
   ]
  },
  {
   "cell_type": "code",
   "execution_count": 6,
   "metadata": {},
   "outputs": [],
   "source": [
    "ret1 = Retangulo(2,4)"
   ]
  },
  {
   "cell_type": "code",
   "execution_count": 7,
   "metadata": {},
   "outputs": [
    {
     "name": "stdout",
     "output_type": "stream",
     "text": [
      "A área do retângulo é 8!\n"
     ]
    }
   ],
   "source": [
    "ret1.calculaArea()"
   ]
  },
  {
   "cell_type": "markdown",
   "metadata": {},
   "source": [
    "Crie uma classe Funcionario cujos atributos são nome e e-mail. Guarde as horas trabalhadas em um dicionário cujas chaves são o mês em questão e, em outro dicionário, guarde o salário por hora relativo ao mês em questão. Crie um método que retorna o salário mensal do funcionário."
   ]
  },
  {
   "cell_type": "code",
   "execution_count": 14,
   "metadata": {},
   "outputs": [],
   "source": [
    "class Funcionario:\n",
    "    def __init__(self,nome,email):\n",
    "        self.nome = nome\n",
    "        self.email = email\n",
    "    \n",
    "    def calcula_salario_mensal(self,planilha_trabalho,salario_hora):\n",
    "        meses = ['janeiro', 'fevereiro','marco', 'abril', 'maio', 'junho', 'julho', 'agosto','setembro','outubro','novembro','dezembro']\n",
    "        for i in range(len(meses)):\n",
    "            if planilha_trabalho.get(meses[i]):\n",
    "                if salario_hora.get(meses[i]):\n",
    "                    horas_trabalhadas = planilha_trabalho.get(meses[i])\n",
    "                    salario_hora_mes = salario_hora.get(meses[i])\n",
    "                    salario_mensal = horas_trabalhadas * salario_hora_mes\n",
    "                    print(f'Salário do mês {meses[i]} foi R$ {salario_mensal:.2f}!')\n",
    "                else: \n",
    "                    print(f'Salário de {meses[i]} não informado!')\n",
    "            else:\n",
    "                print(f'Mês {meses[i]} não trabalhado!')\n"
   ]
  },
  {
   "cell_type": "code",
   "execution_count": 15,
   "metadata": {},
   "outputs": [
    {
     "name": "stdout",
     "output_type": "stream",
     "text": [
      "Salário do mês janeiro foi R$ 17900.00!\n",
      "Salário do mês fevereiro foi R$ 16290.00!\n",
      "Salário do mês marco foi R$ 19215.00!\n",
      "Mês abril não trabalhado!\n",
      "Mês maio não trabalhado!\n",
      "Mês junho não trabalhado!\n",
      "Mês julho não trabalhado!\n",
      "Mês agosto não trabalhado!\n",
      "Mês setembro não trabalhado!\n",
      "Mês outubro não trabalhado!\n",
      "Mês novembro não trabalhado!\n",
      "Mês dezembro não trabalhado!\n"
     ]
    }
   ],
   "source": [
    "planilha_trabalho = {\n",
    "    'janeiro' : 200,\n",
    "    'fevereiro' : 180,\n",
    "    'marco' : 210\n",
    "}\n",
    "\n",
    "salario_hora = {\n",
    "    'janeiro' : 89.5,\n",
    "    'fevereiro' : 90.5,\n",
    "    'marco' : 91.5\n",
    "}\n",
    "\n",
    "ricardo = Funcionario('Ricardo Silva','ricardo@email.com')\n",
    "ricardo.__dict__\n",
    "ricardo.calcula_salario_mensal(planilha_trabalho,salario_hora)"
   ]
  },
  {
   "cell_type": "markdown",
   "metadata": {},
   "source": [
    "Crie uma classe Televisor cujos atributos são:\n",
    "\n",
    "a. fabricante;\n",
    "b. modelo;\n",
    "c. canal atual;\n",
    "d. lista de canais; e\n",
    "e. volume.\n",
    "\n",
    "Faça métodos para aumentar/diminuir volume, trocar o canal e sintonizar um novo canal, que adiciona um novo canal à lista de canais (somente se esse canal não estiver nessa lista). No atributo lista de canais, devem estar armazenados todos os canais já sintonizados dessa TV.\n",
    "\n",
    "Obs.: O volume não pode ser menor que zero e maior que cem; só se pode trocar para um canal que já esteja na lista de canais."
   ]
  },
  {
   "cell_type": "code",
   "execution_count": 37,
   "metadata": {},
   "outputs": [],
   "source": [
    "class Televisor:\n",
    "    def __init__ (self,fabricante,modelo):\n",
    "        self.fabricante = fabricante\n",
    "        self.modelo = modelo\n",
    "        self.canal_atual = 1\n",
    "        self.lista_de_canais = {1 : 'globo', 2 : 'bandeirantes', 3 : 'sbt', 4 : 'record', 5 : 'tv_cultura', 7 : 'rede_vida', 10: 'cancao_nova'}\n",
    "        self.volume = 0\n",
    "\n",
    "    def aumenta_volume(self):\n",
    "        if self.volume + 5 > 100:\n",
    "            self.volume = 100\n",
    "        else:\n",
    "            self.volume += 5\n",
    "\n",
    "    def abaixa_volume(self):\n",
    "        if self.volume - 5 < 0:\n",
    "            self.volume = 0\n",
    "        else:\n",
    "            self.volume -= 5\n",
    "\n",
    "    def troca_canal(self,canal):\n",
    "        for key in self.lista_de_canais.keys():\n",
    "            if canal == key:\n",
    "                self.canal_atual = canal\n",
    "    \n",
    "    def sintoniza_canal(self,canal,nome):\n",
    "        self.lista_de_canais.setdefault(canal, nome)\n",
    "\n",
    "    def get_fabricante(self):\n",
    "        return self.fabricante\n",
    "\n",
    "    def get_modelo(self):\n",
    "        return self.modelo\n",
    "\n",
    "    def get_volume(self):\n",
    "        return self.volume\n",
    "\n",
    "    def set_volume(self,volume):\n",
    "        if self.volume < volume:\n",
    "            self.abaixa_volume()\n",
    "        else:\n",
    "            self.aumenta_volume()\n",
    "\n",
    "    def get_canal(self):\n",
    "        return self.canal_atual\n",
    "\n",
    "    def set_canal(self,canal):\n",
    "        self.troca_canal(self,canal)\n",
    "\n",
    "    def set_sintonia(self,canal,nome):\n",
    "        self.sintoniza_canal(self,canal,nome)\n",
    "    \n",
    "    def get_lista_de_canais(self):\n",
    "        return self.lista_de_canais\n",
    "        \n"
   ]
  },
  {
   "cell_type": "code",
   "execution_count": 38,
   "metadata": {},
   "outputs": [
    {
     "data": {
      "text/plain": [
       "{'fabricante': 'Sony',\n",
       " 'modelo': 'STVBPQR45\"',\n",
       " 'canal_atual': 1,\n",
       " 'lista_de_canais': {1: 'globo',\n",
       "  2: 'bandeirantes',\n",
       "  3: 'sbt',\n",
       "  4: 'record',\n",
       "  5: 'tv_cultura',\n",
       "  7: 'rede_vida',\n",
       "  10: 'cancao_nova'},\n",
       " 'volume': 0}"
      ]
     },
     "execution_count": 38,
     "metadata": {},
     "output_type": "execute_result"
    }
   ],
   "source": [
    "sony = Televisor('Sony','STVBPQR45\"')\n",
    "sony.__dict__"
   ]
  },
  {
   "cell_type": "code",
   "execution_count": 54,
   "metadata": {},
   "outputs": [
    {
     "data": {
      "text/plain": [
       "{'fabricante': 'Sony',\n",
       " 'modelo': 'STVBPQR45\"',\n",
       " 'canal_atual': 1,\n",
       " 'lista_de_canais': {1: 'globo',\n",
       "  2: 'bandeirantes',\n",
       "  3: 'sbt',\n",
       "  4: 'record',\n",
       "  5: 'tv_cultura',\n",
       "  7: 'rede_vida',\n",
       "  10: 'cancao_nova',\n",
       "  6: 'rede_tv'},\n",
       " 'volume': 0}"
      ]
     },
     "execution_count": 54,
     "metadata": {},
     "output_type": "execute_result"
    }
   ],
   "source": [
    "sony.sintoniza_canal(6,'rede_tv')\n",
    "sony.__dict__"
   ]
  },
  {
   "cell_type": "markdown",
   "metadata": {},
   "source": [
    "Crie uma classe ControleRemoto cujo atributo é televisão (isso é, recebe um objeto da classe do exercício 4). Crie métodos para aumentar/diminuir volume, trocar o canal e sintonizar um novo canal, que adiciona um novo canal à lista de canais (somente se esse canal não estiver nessa lista)."
   ]
  },
  {
   "cell_type": "code",
   "execution_count": 39,
   "metadata": {},
   "outputs": [],
   "source": [
    "class ControleRemoto:\n",
    "    def __init__(self,Televisor):\n",
    "        self.televisao = Televisor\n",
    "\n",
    "    def aumenta_volume(self):\n",
    "        self.televisao.aumenta_volume()\n",
    "        print(f'Volume: {self.televisao.get_volume()}')\n",
    "    \n",
    "    def abaixa_volume(self):\n",
    "        self.televisao.abaixa_volume()\n",
    "        print(f'Volume: {self.televisao.get_volume()}')\n",
    "\n",
    "    def troca_canal(self,canal):\n",
    "        self.televisao.troca_canal(canal)\n",
    "        print(f'Canal: {self.televisao.get_canal()}')\n",
    "    \n",
    "    def sintoniza_canal(self,canal,nome):\n",
    "        self.televisao.sintoniza_canal(canal, nome)\n",
    "        print(self.televisao.get_lista_de_canais())\n",
    "\n",
    "    def __repr__(self):\n",
    "        modelo = self.televisao.get_modelo()\n",
    "        fabricante = self.televisao.get_fabricante()\n",
    "        representacao = 'Televisor ' + modelo + ', ' + fabricante + '.'\n",
    "        return representacao"
   ]
  },
  {
   "cell_type": "code",
   "execution_count": 40,
   "metadata": {},
   "outputs": [
    {
     "name": "stdout",
     "output_type": "stream",
     "text": [
      "{1: 'globo', 2: 'bandeirantes', 3: 'sbt', 4: 'record', 5: 'tv_cultura', 7: 'rede_vida', 10: 'cancao_nova', 'sony': 8}\n"
     ]
    }
   ],
   "source": [
    "controle1 = ControleRemoto(sony)\n",
    "controle1.sintoniza_canal('sony',8)\n"
   ]
  },
  {
   "cell_type": "markdown",
   "metadata": {},
   "source": [
    "O módulo time possui a função time.sleep(x), que faz seu programa “dormir” por x segundos. Utilizando essa função, crie uma classe Cronômetro e faça um programa que cronometre o tempo."
   ]
  },
  {
   "cell_type": "code",
   "execution_count": 81,
   "metadata": {},
   "outputs": [],
   "source": [
    "class Cronometro:\n",
    "    def __init__(self):\n",
    "        self.tempo_inicial = 0\n"
   ]
  },
  {
   "cell_type": "code",
   "execution_count": 82,
   "metadata": {},
   "outputs": [
    {
     "data": {
      "text/plain": [
       "mappingproxy({'__module__': '__main__',\n",
       "              '__init__': <function __main__.Cronometro.__init__(self)>,\n",
       "              '__dict__': <attribute '__dict__' of 'Cronometro' objects>,\n",
       "              '__weakref__': <attribute '__weakref__' of 'Cronometro' objects>,\n",
       "              '__doc__': None})"
      ]
     },
     "execution_count": 82,
     "metadata": {},
     "output_type": "execute_result"
    }
   ],
   "source": [
    "crono345 = Cronometro\n",
    "crono345.__dict__"
   ]
  },
  {
   "cell_type": "code",
   "execution_count": null,
   "metadata": {},
   "outputs": [],
   "source": []
  }
 ],
 "metadata": {
  "interpreter": {
   "hash": "a8c1520f453d7cff471ea5e0d33f58822f289c9ba004cd8db46aceed877cb5de"
  },
  "kernelspec": {
   "display_name": "Python 3.10.1 64-bit",
   "language": "python",
   "name": "python3"
  },
  "language_info": {
   "codemirror_mode": {
    "name": "ipython",
    "version": 3
   },
   "file_extension": ".py",
   "mimetype": "text/x-python",
   "name": "python",
   "nbconvert_exporter": "python",
   "pygments_lexer": "ipython3",
   "version": "3.10.1"
  },
  "orig_nbformat": 4
 },
 "nbformat": 4,
 "nbformat_minor": 2
}
