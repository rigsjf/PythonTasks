{
 "cells": [
  {
   "cell_type": "markdown",
   "metadata": {},
   "source": [
    "# Introdução Programação orientada a objetos\n",
    "\n",
    "Na aula de hoje, vamos explorar os seguintes tópicos em Python:\n",
    "\n",
    "\n",
    "- 1) Programação Orientada a Objetos;\n",
    "- 2) Classes, Atributos, Objetos e Métodos;\n",
    "- 3) Atributos e métodos estáticos;\n",
    "- 4) Métodos Mágicos;"
   ]
  },
  {
   "cell_type": "markdown",
   "metadata": {},
   "source": [
    "____\n",
    "____\n",
    "____"
   ]
  },
  {
   "cell_type": "markdown",
   "metadata": {},
   "source": [
    "## 1) Programação Orientada a Objetos\n",
    "\n",
    "O Python, como outras linguagens, é classificada como uma **linguagem de programação orientada a objetos (POO)** (outros exemplos: Java, C++, etc). \n",
    "\n",
    "Esta classificação é uma dos chamados \"paradigmas de programação\". Isso porque uma linguagem de POO é fundamentalmente diferente de linguagens de outros paradigmas.\n",
    "\n",
    "O grande objetivo da POO é a **reutilização de código**.\n",
    "\n",
    "Os programas devem ser **modularizados**, de modo que diferentes pessoas possam implementar módulos diferentes e juntá-los ao final, e reaporveitar modulos diferentes.\n",
    "\n",
    "Dentro de POO, tudo isso é feito de acordo com as seguintes **entidades**:\n",
    "\n",
    "- Classes\n",
    "\n",
    "> As classes são os \"moldes\" dos objetos, as entidades abstratas. Elas contêm as informações e os comportamentos que os objetos terão. Todos os objetos pertencentes a uma mesma classe terão características em comum. **Ex: Pessoa**\n",
    "\n",
    "- Objetos\n",
    "\n",
    "> Os objetos são as instâncias concretas das classes, que são abstratas. Os objetos contêm as características comuns à classe, mas cada um tem suas particularidades. **Ex: você!**\n",
    "\n",
    "\n",
    "- Atributos\n",
    "\n",
    "> Cada objeto particular de uma mesma classe tem valores diferentes para as variáveis internas da classe. Essas \"variáveis do objeto\" chamamos de atributos. **Ex: a cor do seu cabelo**\n",
    "\n",
    "- Métodos\n",
    "\n",
    "> Métodos são funções dentro da classe, que não podem ser executadas arbitrariamente, mas deverão ser chamadas necessariamente pelos objetos. Os métodos podem utilizar os atributos e até mesmo alterá-los. **Ex: você pintar seu cabelo para mudar a cor** "
   ]
  },
  {
   "cell_type": "markdown",
   "metadata": {},
   "source": [
    "Em POO, há **4 princípios de boas práticas** para a criação das entidades:\n",
    "\n",
    "- **Encapsulamento**: cada classe deve conter todas as informações necessárias para seu funcionamento bem como todos os métodos necessários para alterar essas informações.\n",
    "\n",
    "- **Abstração**: as classes devem apresentar interfaces simples para o uso por outros desenvolvedores e para a interação com outras classes. Todos os detalhes complicados de seu funcionamento devem estar \"escondidos\" dentro de métodos simples de usar, com parâmetros e retornos bem definidos. \n",
    "\n",
    "- **Herança**: se várias classes terão atributos e métodos em comum, não devemos ter que redigitá-los várias vezes. Ao invés disso, criamos uma classe com esses atributos comuns e as outras classes irão herdá-los.\n",
    "        \n",
    "- **Polimorfismo**: objetos de diferentes classes herdeiras de uma mesma classe mãe podem ser tratados genericamente como objetos pertencentes à classe mãe.\n",
    "\n",
    "Vamos agora a exemplos específicos para ilustrar e concretizar todos os conceitos discutidos acima!"
   ]
  },
  {
   "cell_type": "code",
   "execution_count": null,
   "metadata": {},
   "outputs": [],
   "source": []
  },
  {
   "cell_type": "markdown",
   "metadata": {},
   "source": [
    "_____\n",
    "_____\n",
    "_____"
   ]
  },
  {
   "cell_type": "markdown",
   "metadata": {},
   "source": [
    "## 2) Classes, Atributos, Objetos e Métodos\n",
    "\n",
    "\n",
    "### Criando uma classe\n",
    "\n",
    "A criação de classes é feita segundo a seguinte estrutura:\n",
    "\n",
    "```python\n",
    "class nome_da_classe:\n",
    "    \n",
    "    # método construtor\n",
    "    def __init__(self, atributos):\n",
    "        \n",
    "        # definição dos atributos\n",
    "        self.atributos = atributos\n",
    "        \n",
    "    # definição de outros métodos\n",
    "    def metodo(self, parametros):\n",
    "        operacoes\n",
    "```\n",
    "\n",
    "O **método construtor** é onde inicializamos alguns atributos que os objetos da classe terão!\n",
    "\n",
    "Os argumentos deste método são **obrigatórios** para a definição do objeto!\n",
    "\n",
    "- Esse método é opcional, mas é uma boa prática sempre defini-lo!\n",
    "- Sempre que um objeto é criado, este método é chamado, automaticamente"
   ]
  },
  {
   "cell_type": "markdown",
   "metadata": {},
   "source": [
    "O **\"self\"** sempre será o primeiro parâmetro dos métodos de uma classe, e ele é necessário para **fazer referência à classe**\n",
    "\n",
    "Assim, em geral, sempre usaremos dentro dos métodos alguma operação que **faça uso dos atributos da classe**, que é referenciada através do `self`."
   ]
  },
  {
   "cell_type": "code",
   "execution_count": 29,
   "metadata": {},
   "outputs": [
    {
     "data": {
      "text/plain": [
       "{'nome': 'Ricardo',\n",
       " 'idade': 45,\n",
       " 'sexo': 'M',\n",
       " 'altura': 1.72,\n",
       " 'peso': 96,\n",
       " 'imc': 32}"
      ]
     },
     "execution_count": 29,
     "metadata": {},
     "output_type": "execute_result"
    }
   ],
   "source": [
    "class Pessoa:\n",
    "    def __init__(self, nome, idade, sexo, altura, peso):\n",
    "        self.nome = nome\n",
    "        self.idade = idade\n",
    "        self.sexo = sexo\n",
    "        self.altura = altura\n",
    "        self.peso = peso\n",
    "\n",
    "    def calcula_imc(self):\n",
    "        self.imc = round(self.peso / (self.altura)**2)\n",
    "        # return self.imc\n",
    "            \n",
    "pessoa_1 = Pessoa('Ricardo', 45, 'M', 1.72, 96)\n",
    "\n",
    "pessoa_1.calcula_imc()\n",
    "\n",
    "pessoa_1.__dict__\n",
    "\n",
    "\n"
   ]
  },
  {
   "cell_type": "markdown",
   "metadata": {},
   "source": [
    "### Criação de objeto: instanciando uma classe\n",
    "\n",
    "Para criarmos um objeto (instância concreta da classe abstrata), nós fazemos o processo de **instanciação**, que nada mais é do que **chamar a classe**, com os argumentos definidos no método construtor"
   ]
  },
  {
   "cell_type": "code",
   "execution_count": null,
   "metadata": {},
   "outputs": [],
   "source": []
  },
  {
   "cell_type": "markdown",
   "metadata": {},
   "source": [
    "Se chamarmos a variável com o objeto, aparece apenas o endereço respectivo ao objeto:"
   ]
  },
  {
   "cell_type": "markdown",
   "metadata": {},
   "source": [
    "Mas podemos acessar cada um dos atributos deste objeto, que são aqueles definidos na classe. \n",
    "\n",
    "Para isso, seguimos a sintaxe\n",
    "\n",
    "```python\n",
    "nome_do_objeto.nome_do_atributo\n",
    "```"
   ]
  },
  {
   "cell_type": "markdown",
   "metadata": {},
   "source": [
    "Os atributos são mutáveis! Para mudá-los, basta redefinir novos valores:"
   ]
  },
  {
   "cell_type": "code",
   "execution_count": null,
   "metadata": {},
   "outputs": [],
   "source": []
  },
  {
   "cell_type": "markdown",
   "metadata": {},
   "source": [
    "Podemos, também, adicionar novos atributos que não sejam **obrigatoriamente definidos na instanciação da classe**. Para isso, os inicializamos na classe como vazios:"
   ]
  },
  {
   "cell_type": "code",
   "execution_count": 18,
   "metadata": {},
   "outputs": [
    {
     "data": {
      "text/plain": [
       "['In',\n",
       " 'Out',\n",
       " '_',\n",
       " '_11',\n",
       " '_12',\n",
       " '_14',\n",
       " '_15',\n",
       " '_17',\n",
       " '__',\n",
       " '___',\n",
       " '__builtin__',\n",
       " '__builtins__',\n",
       " '__doc__',\n",
       " '__loader__',\n",
       " '__name__',\n",
       " '__package__',\n",
       " '__spec__',\n",
       " '_dh',\n",
       " '_i',\n",
       " '_i1',\n",
       " '_i10',\n",
       " '_i11',\n",
       " '_i12',\n",
       " '_i13',\n",
       " '_i14',\n",
       " '_i15',\n",
       " '_i16',\n",
       " '_i17',\n",
       " '_i18',\n",
       " '_i2',\n",
       " '_i3',\n",
       " '_i4',\n",
       " '_i5',\n",
       " '_i6',\n",
       " '_i7',\n",
       " '_i8',\n",
       " '_i9',\n",
       " '_ih',\n",
       " '_ii',\n",
       " '_iii',\n",
       " '_oh',\n",
       " 'debugpy',\n",
       " 'exit',\n",
       " 'get_ipython',\n",
       " 'ipykernel',\n",
       " 'os',\n",
       " 'pessoa',\n",
       " 'pessoa_1',\n",
       " 'pessoa_2',\n",
       " 'quit',\n",
       " 'sys']"
      ]
     },
     "execution_count": 18,
     "metadata": {},
     "output_type": "execute_result"
    }
   ],
   "source": [
    "dir()"
   ]
  },
  {
   "cell_type": "code",
   "execution_count": null,
   "metadata": {},
   "outputs": [],
   "source": []
  },
  {
   "cell_type": "code",
   "execution_count": 19,
   "metadata": {},
   "outputs": [
    {
     "ename": "SyntaxError",
     "evalue": "invalid syntax (1376856797.py, line 1)",
     "output_type": "error",
     "traceback": [
      "\u001b[1;36m  Input \u001b[1;32mIn [19]\u001b[1;36m\u001b[0m\n\u001b[1;33m    del\u001b[0m\n\u001b[1;37m        ^\u001b[0m\n\u001b[1;31mSyntaxError\u001b[0m\u001b[1;31m:\u001b[0m invalid syntax\n"
     ]
    }
   ],
   "source": [
    "del "
   ]
  },
  {
   "cell_type": "code",
   "execution_count": null,
   "metadata": {},
   "outputs": [],
   "source": [
    "dir()"
   ]
  },
  {
   "cell_type": "markdown",
   "metadata": {},
   "source": [
    "### Métodos da classe: definindo e chamando\n",
    "\n",
    "Os métodos são **funções específicas de uma classe**, que só podem ser usadas após a criação de um objeto instância da classe.\n",
    "\n",
    "Assim, definimos os métodos dentro da classe, fazendo sempre referência à classe e seus atributos através do parâmetro self:"
   ]
  },
  {
   "cell_type": "code",
   "execution_count": null,
   "metadata": {},
   "outputs": [],
   "source": []
  },
  {
   "cell_type": "markdown",
   "metadata": {},
   "source": [
    "Chamando o método, após instanciar a classe.\n",
    "\n",
    "Note, que o primeiro argumento do método, o \"self\", **é ignorado**! Ele é apenas usado para referenciair os atributos da classe!"
   ]
  },
  {
   "cell_type": "code",
   "execution_count": null,
   "metadata": {},
   "outputs": [],
   "source": []
  },
  {
   "cell_type": "markdown",
   "metadata": {},
   "source": [
    "Vamos criar um método que altera diretamente um atributo:"
   ]
  },
  {
   "cell_type": "code",
   "execution_count": null,
   "metadata": {},
   "outputs": [],
   "source": []
  },
  {
   "cell_type": "markdown",
   "metadata": {},
   "source": [
    "A este ponto, conseguimos reconhecer que já fizemos muito o uso de métodos e objetos sem termos nos dado conta de sua existência!\n",
    "\n",
    "Por exemplo, para strings, usamos métodos como `.upper()`, `.lower()`, `.replace()`, etc.\n",
    "\n",
    "\n",
    "Isso mostra que `str` e `list` são estruturas de classe! E, realmente, elas são! Nos bastidores do Python, muita coisa é feita com classes, sem que ao menos percebamos! E esse é uma das grandes vantagens desses métodos!"
   ]
  },
  {
   "cell_type": "code",
   "execution_count": null,
   "metadata": {},
   "outputs": [],
   "source": [
    "print(type('ola'))\n",
    "'ola'.upper()"
   ]
  },
  {
   "cell_type": "code",
   "execution_count": null,
   "metadata": {},
   "outputs": [],
   "source": [
    "dir('ola')"
   ]
  },
  {
   "cell_type": "markdown",
   "metadata": {},
   "source": [
    "_____\n",
    "_____\n",
    "_____"
   ]
  },
  {
   "cell_type": "markdown",
   "metadata": {},
   "source": [
    "## Atributos e métodos estáticos\n",
    "\n",
    "Se quisermos criar atributos e métodos que pertençam **à classe**, e não exatamente a um objeto instanciado desta, usamos suas versões **estáticas**\n",
    "\n",
    "- Para criar um atributo estático, basta **criar uma variável (atribuindo um valor inicial a ela) dentro da classe**, mas **fora de qualquer um de seus métodos**;\n",
    "- Para criar um método estático, use antes de sua criação **@staticmethod**"
   ]
  },
  {
   "cell_type": "code",
   "execution_count": null,
   "metadata": {},
   "outputs": [],
   "source": []
  },
  {
   "cell_type": "code",
   "execution_count": null,
   "metadata": {},
   "outputs": [],
   "source": []
  },
  {
   "cell_type": "code",
   "execution_count": null,
   "metadata": {},
   "outputs": [],
   "source": []
  },
  {
   "cell_type": "markdown",
   "metadata": {},
   "source": [
    "__Atributos estáticos podem ser acessados tanto pela classe quanto por algum objeto da classe__"
   ]
  },
  {
   "cell_type": "code",
   "execution_count": null,
   "metadata": {},
   "outputs": [],
   "source": []
  },
  {
   "cell_type": "code",
   "execution_count": null,
   "metadata": {
    "scrolled": true
   },
   "outputs": [],
   "source": []
  },
  {
   "cell_type": "code",
   "execution_count": null,
   "metadata": {},
   "outputs": [],
   "source": []
  },
  {
   "cell_type": "code",
   "execution_count": null,
   "metadata": {},
   "outputs": [],
   "source": []
  },
  {
   "cell_type": "code",
   "execution_count": null,
   "metadata": {},
   "outputs": [],
   "source": []
  },
  {
   "cell_type": "code",
   "execution_count": null,
   "metadata": {},
   "outputs": [],
   "source": []
  },
  {
   "cell_type": "markdown",
   "metadata": {},
   "source": [
    "___\n",
    "___\n",
    "___"
   ]
  },
  {
   "cell_type": "markdown",
   "metadata": {},
   "source": [
    "## Métodos mágicos\n",
    "\n",
    "Como o python entende que o sinal \"+\", quando aplicado à objetos da classe `str` deve **concatenar** as duas strings, ao invés de fazer alguma outra operação estranha de soma?\n",
    "\n",
    "Isso é feito a partir dos **métodos mágicos**\n",
    "\n",
    "Para ilustrar os usos desses métodos, vamos criar uma classe de horário:"
   ]
  },
  {
   "cell_type": "code",
   "execution_count": null,
   "metadata": {},
   "outputs": [],
   "source": [
    "dir('a')"
   ]
  },
  {
   "cell_type": "code",
   "execution_count": null,
   "metadata": {},
   "outputs": [],
   "source": [
    "'a' + 'b'"
   ]
  },
  {
   "cell_type": "code",
   "execution_count": null,
   "metadata": {
    "scrolled": true
   },
   "outputs": [],
   "source": [
    "'a'.__add__('b')"
   ]
  },
  {
   "cell_type": "code",
   "execution_count": null,
   "metadata": {
    "scrolled": true
   },
   "outputs": [],
   "source": [
    "list([1]).__add__([2])"
   ]
  },
  {
   "cell_type": "code",
   "execution_count": null,
   "metadata": {},
   "outputs": [],
   "source": [
    "[1] + [2]"
   ]
  },
  {
   "cell_type": "markdown",
   "metadata": {},
   "source": [
    "### Método de representação\n",
    "\n",
    "O método `__repr__` é um método mágico que permite dar um \"print\" diretamente no objeto, segundo o formato estabelecido!\n",
    "\n",
    "Sem definir este método na classe, o print mostra apenas o endereço do método:"
   ]
  },
  {
   "cell_type": "markdown",
   "metadata": {},
   "source": [
    "Mas, se redefinirmos a classe com o método de representação:"
   ]
  },
  {
   "cell_type": "code",
   "execution_count": null,
   "metadata": {},
   "outputs": [],
   "source": []
  },
  {
   "cell_type": "markdown",
   "metadata": {},
   "source": [
    "### Métodos aritméticos\n",
    "\n",
    "Como o \"+\" é entendido como concatenação entre objetos da classe `str`?\n",
    "\n",
    "Isso se faz através dos __métodos mágicos aritméticos__, que substituem os símbolos aritméticos pelas operações que forem definidas dentro da classe!\n",
    "\n",
    "Temos os seguintes métodos mágicos aritméticos:\n",
    "\n",
    "- \\__add\\__:  soma: +\n",
    "- \\__sub\\__:  subtração: -\n",
    "- \\__mul\\__:  multiplicação: *\n",
    "- \\__truediv\\__:  divisão: /\n",
    "- \\__floordiv\\__:  divisão inteira: //\n",
    "- \\__mod\\__:  resto de divisão: %\n",
    "- \\__pow\\__:  potência: **\n",
    "\n",
    "Vamos, a seguir, definir um método de soma de horas na nossa classe, que vai ser chamado pelo operador aritmético \"+\" (ou seja, será o método `__add__`)"
   ]
  },
  {
   "cell_type": "code",
   "execution_count": null,
   "metadata": {},
   "outputs": [],
   "source": []
  },
  {
   "cell_type": "code",
   "execution_count": null,
   "metadata": {
    "scrolled": true
   },
   "outputs": [],
   "source": []
  },
  {
   "cell_type": "code",
   "execution_count": null,
   "metadata": {},
   "outputs": [],
   "source": []
  },
  {
   "cell_type": "code",
   "execution_count": null,
   "metadata": {},
   "outputs": [],
   "source": []
  },
  {
   "cell_type": "code",
   "execution_count": null,
   "metadata": {
    "scrolled": true
   },
   "outputs": [],
   "source": []
  },
  {
   "cell_type": "code",
   "execution_count": null,
   "metadata": {},
   "outputs": [],
   "source": []
  },
  {
   "cell_type": "code",
   "execution_count": null,
   "metadata": {},
   "outputs": [],
   "source": []
  },
  {
   "cell_type": "code",
   "execution_count": null,
   "metadata": {
    "scrolled": false
   },
   "outputs": [],
   "source": []
  },
  {
   "cell_type": "markdown",
   "metadata": {},
   "source": [
    "### Métodos lógicos\n",
    "\n",
    "Da mesma forma que há metódos mágicos para operações aritméticas, há também para **operações lógicas!**\n",
    "\n",
    "Naturalmente, estes métodos retornaram True ou False.\n",
    "\n",
    "Os métodos lógicos são:\n",
    "\n",
    "- \\__gt\\__: maior que (greater than): >\n",
    "- \\__ge\\__: maior ou igual (greater or equal): >=\n",
    "- \\__lt\\__: menor que (less than): <\n",
    "- \\__le\\__: menor ou igual (less or equal): <=\n",
    "- \\__eq\\__: igual (equal): ==\n",
    "- \\__ne\\__: diferente (not equal): !=\n",
    "\n",
    "\n",
    "Como fazer um método para comparar dois horários?\n"
   ]
  },
  {
   "cell_type": "code",
   "execution_count": null,
   "metadata": {},
   "outputs": [],
   "source": [
    "hora1 > hora2"
   ]
  },
  {
   "cell_type": "code",
   "execution_count": null,
   "metadata": {},
   "outputs": [],
   "source": []
  },
  {
   "cell_type": "code",
   "execution_count": null,
   "metadata": {},
   "outputs": [],
   "source": []
  },
  {
   "cell_type": "code",
   "execution_count": null,
   "metadata": {},
   "outputs": [],
   "source": []
  },
  {
   "cell_type": "code",
   "execution_count": null,
   "metadata": {},
   "outputs": [],
   "source": []
  },
  {
   "cell_type": "code",
   "execution_count": null,
   "metadata": {},
   "outputs": [],
   "source": [
    "sorted([Hora(10), Hora(9), Hora(11)])"
   ]
  },
  {
   "cell_type": "markdown",
   "metadata": {},
   "source": [
    "# dict"
   ]
  },
  {
   "cell_type": "code",
   "execution_count": null,
   "metadata": {},
   "outputs": [],
   "source": []
  },
  {
   "cell_type": "code",
   "execution_count": null,
   "metadata": {},
   "outputs": [],
   "source": []
  },
  {
   "cell_type": "code",
   "execution_count": null,
   "metadata": {},
   "outputs": [],
   "source": []
  }
 ],
 "metadata": {
  "kernelspec": {
   "display_name": "Python 3",
   "language": "python",
   "name": "python3"
  },
  "language_info": {
   "codemirror_mode": {
    "name": "ipython",
    "version": 3
   },
   "file_extension": ".py",
   "mimetype": "text/x-python",
   "name": "python",
   "nbconvert_exporter": "python",
   "pygments_lexer": "ipython3",
   "version": "3.10.1"
  }
 },
 "nbformat": 4,
 "nbformat_minor": 4
}
