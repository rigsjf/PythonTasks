{
 "cells": [
  {
   "cell_type": "code",
   "execution_count": 2,
   "metadata": {},
   "outputs": [],
   "source": [
    "class Bola:\n",
    "    def __init__(self, cor, raio):\n",
    "        self.cor = cor\n",
    "        self.raio = raio\n",
    "\n",
    "    def calculaArea(self):\n",
    "        self.area = 4*3.14*self.raio*self.raio\n"
   ]
  },
  {
   "cell_type": "code",
   "execution_count": null,
   "metadata": {},
   "outputs": [],
   "source": [
    "bola_1 = Bola('branca',12)\n",
    "bola_1.__dict__"
   ]
  },
  {
   "cell_type": "markdown",
   "metadata": {},
   "source": [
    "Enunciado\n",
    "Crie uma classe Quadrado com o atributo lado. Os métodos calcular_area e calcular_perimetro devem criar os atributos lado e perímetro, respectivamente."
   ]
  },
  {
   "cell_type": "code",
   "execution_count": 3,
   "metadata": {},
   "outputs": [],
   "source": [
    "class Quadrado:\n",
    "    def __init__(self, lado):\n",
    "        self.lado = lado\n",
    "\n",
    "    def calcular_area(self):\n",
    "        self.area = self.lado ** 2\n",
    "    \n",
    "    def calcular_perimetro(self):\n",
    "        self.perimetro = self.lado * 4\n"
   ]
  },
  {
   "cell_type": "code",
   "execution_count": 7,
   "metadata": {},
   "outputs": [
    {
     "data": {
      "text/plain": [
       "{'lado': 4, 'area': 16, 'perimetro': 16}"
      ]
     },
     "execution_count": 7,
     "metadata": {},
     "output_type": "execute_result"
    }
   ],
   "source": [
    "quadrado1 = Quadrado(4)\n",
    "quadrado1.calcular_area()\n",
    "quadrado1.calcular_perimetro()\n",
    "quadrado1.__dict__"
   ]
  },
  {
   "cell_type": "markdown",
   "metadata": {},
   "source": [
    "Enunciado\n",
    "Crie uma classe Moto com os atributos marca, modelo, cor e marcha_atual, maior_marcha e ligada. O atributo marcha indica em que marcha a moto encontra-se no momento, sendo represtando de forma inteira: 0 - neutro, 1 - primeira, 2 - segunda, etc. O atributo ligada é um booleano que indica se ela está ligada ou não.\n",
    "\n",
    "Crie um método ligar_moto que muda o atributo ligada caso ela esteja desligada. Verifique se a marcha está no neutro para ligá-la.\n",
    "\n",
    "Crie os métodos marcha_abaixo e marcha_acima para alterar o valor da marcha da moto. Verifique se a moto está ligada para executar os métodos."
   ]
  },
  {
   "cell_type": "code",
   "execution_count": null,
   "metadata": {},
   "outputs": [],
   "source": []
  }
 ],
 "metadata": {
  "interpreter": {
   "hash": "a8c1520f453d7cff471ea5e0d33f58822f289c9ba004cd8db46aceed877cb5de"
  },
  "kernelspec": {
   "display_name": "Python 3.10.1 64-bit",
   "language": "python",
   "name": "python3"
  },
  "language_info": {
   "codemirror_mode": {
    "name": "ipython",
    "version": 3
   },
   "file_extension": ".py",
   "mimetype": "text/x-python",
   "name": "python",
   "nbconvert_exporter": "python",
   "pygments_lexer": "ipython3",
   "version": "3.10.1"
  },
  "orig_nbformat": 4
 },
 "nbformat": 4,
 "nbformat_minor": 2
}
