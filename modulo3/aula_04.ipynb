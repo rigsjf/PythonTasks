{
 "cells": [
  {
   "cell_type": "markdown",
   "metadata": {},
   "source": [
    "# Complexidade: exemplos\n",
    "\n",
    "---\n",
    "\n",
    "**Spoiler:** veremos esses algoritmos mais pra frente no módulo, por isso esses exemplos não entrarão em detalhes do funcionamento de cada um :)"
   ]
  },
  {
   "cell_type": "markdown",
   "metadata": {},
   "source": [
    "## Constante - O(1)"
   ]
  },
  {
   "cell_type": "markdown",
   "metadata": {},
   "source": [
    "O tempo de execução do algoritmo **não é** impactado pelo tamanho da entrada"
   ]
  },
  {
   "cell_type": "markdown",
   "metadata": {},
   "source": [
    "No geral, são operações simples e envolvem acessar elementos diretamente, sem necessidade de iterações"
   ]
  },
  {
   "cell_type": "markdown",
   "metadata": {},
   "source": [
    "Ex 1.: algoritmo que imprime o primeiro e último elemento de uma lista acessando diretamente seus índices"
   ]
  },
  {
   "cell_type": "code",
   "execution_count": null,
   "metadata": {},
   "outputs": [],
   "source": [
    "def imprime_primeiro_e_ultimo(lista):\n",
    "    print(f'primeiro elemento: {lista[0]}')\n",
    "    print(f'último elemento: {lista[-1]}')\n",
    "\n",
    "compras = ['leite', 'azeite', 'tomate', 'manjericão']\n",
    "\n",
    "imprime_primeiro_e_ultimo(compras)"
   ]
  },
  {
   "cell_type": "markdown",
   "metadata": {},
   "source": [
    "Ex 2.: todas as operações em dicionários!"
   ]
  },
  {
   "cell_type": "code",
   "execution_count": null,
   "metadata": {},
   "outputs": [],
   "source": [
    "cesta = {\n",
    "    'maçã': 1,\n",
    "    'banana': 2,\n",
    "    'kiwi': 2,\n",
    "    'sanduíche': 2\n",
    "}\n",
    "\n",
    "# acessando item\n",
    "cesta['maçã']\n",
    "\n",
    "# buscando item\n",
    "def busca_item(dicio, item):\n",
    "    if item in dicio:\n",
    "        return True\n",
    "\n",
    "    return False\n",
    "\n",
    "busca_item(cesta, 'kiwi')\n",
    "\n",
    "# adicionando item\n",
    "cesta['leite fermentado'] = 3\n",
    "\n",
    "# removendo item\n",
    "cesta.pop('kiwi')"
   ]
  },
  {
   "cell_type": "markdown",
   "metadata": {},
   "source": [
    "## Logarítmica - O(log(n))"
   ]
  },
  {
   "cell_type": "markdown",
   "metadata": {},
   "source": [
    "O tempo de execução aumenta logaritmicamente de acordo com o número de entradas"
   ]
  },
  {
   "cell_type": "markdown",
   "metadata": {},
   "source": [
    "Ex.: pesquisa binária "
   ]
  },
  {
   "cell_type": "code",
   "execution_count": null,
   "metadata": {},
   "outputs": [],
   "source": [
    "def pesquisa_binaria(l, item):\n",
    "    if len(l) == 0:\n",
    "        return False\n",
    "\n",
    "    meio = len(l)//2\n",
    "\n",
    "    if l[meio] == item:\n",
    "        return True \n",
    "    if item > l[meio]:\n",
    "        return pesquisa_binaria(l[meio+1:], item)\n",
    "    else:\n",
    "        return pesquisa_binaria(l[:meio], item)\n",
    "\n",
    "numeros = [1, 2, 3, 4, 5, 6, 7, 8, 9, 10]\n",
    "\n",
    "item_procurado = 7\n",
    "\n",
    "print(pesquisa_binaria(numeros, item_procurado))\n",
    "\n",
    "item_procurado = -4\n",
    "\n",
    "print(pesquisa_binaria(numeros, item_procurado))"
   ]
  },
  {
   "cell_type": "markdown",
   "metadata": {},
   "source": [
    "## Linear - O(n)"
   ]
  },
  {
   "cell_type": "markdown",
   "metadata": {},
   "source": [
    "O tempo de execução aumenta de maneira linear de acordo com o número de entradas"
   ]
  },
  {
   "cell_type": "markdown",
   "metadata": {},
   "source": [
    "Ex.: algoritmo de pesquisa simples"
   ]
  },
  {
   "cell_type": "code",
   "execution_count": null,
   "metadata": {},
   "outputs": [],
   "source": [
    "def pesquisa_simples(lista, item):\n",
    "    for elem in lista:\n",
    "        if elem == item:\n",
    "            return True\n",
    "    \n",
    "    return False\n",
    "\n",
    "frutas = ['maçã', 'banana', 'mamão']\n",
    "\n",
    "fruta_procurada = 'maçã'\n",
    "\n",
    "print(pesquisa_simples(frutas, fruta_procurada))\n",
    "\n",
    "fruta_procurada = 'kiwi'\n",
    "\n",
    "print(pesquisa_simples(frutas, fruta_procurada))"
   ]
  },
  {
   "cell_type": "markdown",
   "metadata": {},
   "source": [
    "## Logarítmica - O(n*log(n))"
   ]
  },
  {
   "cell_type": "markdown",
   "metadata": {},
   "source": [
    "O tempo de execução aumenta de maneira logarítmica, relativamente mais lento que `O(log(n))` por conta do número de entradas `n` multiplicando"
   ]
  },
  {
   "cell_type": "markdown",
   "metadata": {},
   "source": [
    "Ex.: algoritmo rápido de ordenação (quicksort)"
   ]
  },
  {
   "cell_type": "code",
   "execution_count": null,
   "metadata": {},
   "outputs": [],
   "source": [
    "# função de ordenação\n",
    "def ordena(lista, menor, maior):\n",
    "   i = menor - 1\n",
    "   pivo = lista[maior] # elemento pivô \n",
    "   for j in range(menor , maior):\n",
    "      # se o elemento atual for menor que o pivô, aumente i\n",
    "      if lista[j] <= pivo:\n",
    "         i += 1\n",
    "         lista[i],lista[j] = lista[j],lista[i]\n",
    "   lista[i+1],lista[maior] = lista[maior],lista[i+1]\n",
    "   return ( i+1 )\n",
    "\n",
    "# algoritmo de quicksort propriamente dito\n",
    "def quick_sort(lista,menor,maior):\n",
    "   if menor < maior:\n",
    "      pi = ordena(lista,menor,maior)\n",
    "      # ordena cada metade da lista\n",
    "      quick_sort(lista, menor, pi-1)\n",
    "      quick_sort(lista, pi+1, maior)\n",
    "\n",
    "numeros = [10, 5, 4, 36, 100, 2, -4, 8]\n",
    "menor = 0\n",
    "maior = len(numeros) - 1\n",
    "\n",
    "quick_sort(numeros, menor, maior)\n",
    "\n",
    "print(numeros)"
   ]
  },
  {
   "cell_type": "markdown",
   "metadata": {},
   "source": [
    "## Polinomial (ou quadrática ) - O(n**2)"
   ]
  },
  {
   "cell_type": "markdown",
   "metadata": {},
   "source": [
    "O tempo de execução aumenta seguindo uma função quadrada em função do número de entradas"
   ]
  },
  {
   "cell_type": "markdown",
   "metadata": {},
   "source": [
    "Ex.: somar elementos numa matriz (lista bi-dimensional, ou tabela)"
   ]
  },
  {
   "cell_type": "code",
   "execution_count": null,
   "metadata": {},
   "outputs": [],
   "source": [
    "def soma_da_matriz(matriz):\n",
    "    soma = 0\n",
    "\n",
    "    for linha in matriz:\n",
    "        for elem in linha:\n",
    "            soma += elem\n",
    "\n",
    "    return soma\n",
    "\n",
    "matriz = [\n",
    "    [1,2,3],\n",
    "    [4,5,6],\n",
    "    [7,8,9]\n",
    "]\n",
    "\n",
    "print(f'a soma dos elementos da matriz é {soma_da_matriz(matriz)}')"
   ]
  },
  {
   "cell_type": "markdown",
   "metadata": {},
   "source": [
    "## Exponencial - O(2**n)"
   ]
  },
  {
   "cell_type": "markdown",
   "metadata": {},
   "source": [
    "O tempo de execução aumenta de maneira exponencial segundo o número de entradas"
   ]
  },
  {
   "cell_type": "markdown",
   "metadata": {},
   "source": [
    "Ex.: algoritmo que calcula o número de fibonacci para um valor"
   ]
  },
  {
   "cell_type": "code",
   "execution_count": null,
   "metadata": {},
   "outputs": [],
   "source": [
    "def fibonacci(numero):\n",
    "    if numero <= 1:\n",
    "        return numero\n",
    "    \n",
    "    return fibonacci(numero - 1) + fibonacci(numero - 2)\n",
    "\n",
    "for num in range(1, 10):\n",
    "    print(fibonacci(num))"
   ]
  },
  {
   "cell_type": "markdown",
   "metadata": {},
   "source": [
    "## Fatorial - O(n!)"
   ]
  },
  {
   "cell_type": "markdown",
   "metadata": {},
   "source": [
    "O tempo de execução aumenta seguindo uma função fatorial\n",
    "\n",
    "*Nota*: caso não se lembre, a função fatorial funciona da seguinte maneira:\n",
    "n! = n * (n - 1) * (n - 2) * ... * 1\n",
    "\n",
    "Exemplo:\n",
    "5! (lido como \"5 fatorial\") = 5 * 4 * 3 * 2 * 1\n",
    "\n",
    "Note que também podemos escrever a expressão acima como:\n",
    "5! = 5 * 4!"
   ]
  },
  {
   "cell_type": "markdown",
   "metadata": {},
   "source": [
    "Ex.: uma função para calcular o fatorial de um número"
   ]
  },
  {
   "cell_type": "code",
   "execution_count": null,
   "metadata": {},
   "outputs": [],
   "source": [
    "def fatorial(num):\n",
    "    if num == 1:\n",
    "        return num\n",
    "\n",
    "    else:\n",
    "        return num * fatorial(num - 1)\n",
    "\n",
    "fatorial(5)"
   ]
  },
  {
   "cell_type": "markdown",
   "metadata": {},
   "source": [
    "# Complexidade de estruturas de dados\n",
    "\n",
    "---"
   ]
  },
  {
   "cell_type": "markdown",
   "metadata": {},
   "source": [
    "Agora que conhecemos a complexidade na análise de algoritmos, podemos expandir nossos conhecimentos para analisar *estruturas de dados*\n",
    "\n",
    "Estruturas de dados são maneiras de organizar informação para que possa ser acessada e modificada de maneiras eficiente"
   ]
  },
  {
   "cell_type": "markdown",
   "metadata": {},
   "source": [
    "Para a análise da complexidade de uma estrutura de dados, vamos verificar a eficiência de quatro operações comuns a todas as estruturas que estudaremos:\n",
    "- Acesso\n",
    "- Busca\n",
    "- Inserção\n",
    "- Remoção"
   ]
  },
  {
   "cell_type": "markdown",
   "metadata": {},
   "source": [
    "## Filas e Pilhas"
   ]
  },
  {
   "cell_type": "markdown",
   "metadata": {},
   "source": [
    "### Filas"
   ]
  },
  {
   "cell_type": "markdown",
   "metadata": {},
   "source": [
    "Estrutura de dados linear que representa as filas da vida real\n",
    "\n",
    "Exemplos de filas:\n",
    "* fila de banco\n",
    "* fila de lotérica\n",
    "* ordem de fala do Google Meet\n",
    "* histórico "
   ]
  },
  {
   "cell_type": "markdown",
   "metadata": {},
   "source": [
    "#### Características"
   ]
  },
  {
   "cell_type": "markdown",
   "metadata": {},
   "source": [
    "* O algoritmo que define uma fila é o chamado **First In First Out (FIFO)**, ou **o primeiro a chegar é o primeiro a sair**"
   ]
  },
  {
   "cell_type": "markdown",
   "metadata": {},
   "source": [
    "* Suas operações principais são:\n",
    "    - `enqueue`: adiciona um item ao **final** da fila (*inserção*)\n",
    "    - `dequeue`: remove o **primeiro** item da fila (*remoção*)\n",
    "    - `front` ou `peek` ou `head`: retorna o **primeiro** item da fila (*acesso*)\n",
    "    - `back` ou `tail`: retorna o **último** item da fila (*acesso*)"
   ]
  },
  {
   "cell_type": "markdown",
   "metadata": {},
   "source": [
    "**Prática:** vamos implementar uma fila em Python"
   ]
  },
  {
   "cell_type": "markdown",
   "metadata": {},
   "source": [
    "De maneira geral, além das operações principais uma fila comumente apresenta as seguintes:\n",
    "- `is_empty()`: retorna `True` se a fila estiver vazia; `False` caso o contrário \n",
    "- `size()`: retorna o tamanho da fila"
   ]
  },
  {
   "cell_type": "code",
   "execution_count": null,
   "metadata": {},
   "outputs": [],
   "source": [
    "class Fila:\n",
    "    def __init__(self):\n",
    "        self.elementos = []\n",
    "\n",
    "    def enqueue(self, item):\n",
    "        self.elementos.append(item)\n",
    "\n",
    "    def dequeue(self):\n",
    "        self.elementos.pop(0)\n",
    "\n",
    "    def front(self):\n",
    "        return self.elementos[0]\n",
    "\n",
    "    def back(self):\n",
    "        return self.elementos[-1]\n",
    "\n",
    "    def is_empty(self):\n",
    "        if len(self.elementos) == 0:\n",
    "            return True\n",
    "\n",
    "        return False\n",
    "\n",
    "    def size(self):\n",
    "        return len(self.elementos)\n",
    "\n",
    "    def __repr__(self):\n",
    "        return str(self.elementos)\n",
    "\n",
    "fila_de_banco = Fila()\n",
    "\n",
    "# print(fila_de_banco.is_empty())\n",
    "print(fila_de_banco)\n",
    "\n",
    "alunos = ['Alison', 'Eliane', 'Guilherme', 'Paulo']\n",
    "\n",
    "fila_de_banco.enqueue(alunos[0])\n",
    "\n",
    "print(fila_de_banco)\n",
    "\n",
    "# print(fila_de_banco.size())\n",
    "\n",
    "fila_de_banco.enqueue(alunos[1])\n",
    "fila_de_banco.enqueue(alunos[2])\n",
    "fila_de_banco.enqueue(alunos[3])\n",
    "\n",
    "print(fila_de_banco)\n",
    "\n",
    "fila_de_banco.dequeue()\n",
    "\n",
    "print(fila_de_banco)\n",
    "\n",
    "print(fila_de_banco.front())\n",
    "print(fila_de_banco.back())\n",
    "\n",
    "print(fila_de_banco.size())"
   ]
  },
  {
   "cell_type": "markdown",
   "metadata": {},
   "source": [
    "### Métodos gerais"
   ]
  },
  {
   "cell_type": "code",
   "execution_count": null,
   "metadata": {},
   "outputs": [],
   "source": [
    "fila = [\n",
    "    'alison',\n",
    "    'eliane',\n",
    "    'guilherme'\n",
    "    # 'robson'\n",
    "]\n",
    "\n",
    "# dúvida: qual a complexidade do algoritmo abaixo?\n",
    "# O(n)\n",
    "def enqueue(fila, item):\n",
    "    fila.append('a') # pra aumentar o tamanho da lista\n",
    "    i = 0\n",
    "    while i < len(fila):\n",
    "        if i == len(fila) - 1:\n",
    "            fila[i] = item\n",
    "            #fila[len(fila)] = item\n",
    "            #fila[len(fila)] += list(item)\n",
    "        i += 1\n",
    "\n",
    "# complexidade: O(n)\n",
    "def dequeue(fila):\n",
    "    i = len(fila) - 1\n",
    "    while i >= 0:\n",
    "        if i == 0:\n",
    "            #fila.pop(0) # tirando o elemento da primeira posição...\n",
    "            aux = fila[-1]\n",
    "            fila[i] = fila[1]\n",
    "            fila[i+1] = fila[2]\n",
    "            fila[i+2] = aux\n",
    "            fila.pop()\n",
    "        i -= 1\n",
    "\n",
    "enqueue(fila, 'robson')\n",
    "\n",
    "print(fila)\n",
    "\n",
    "dequeue(fila)\n",
    "\n",
    "print(fila)"
   ]
  },
  {
   "cell_type": "code",
   "execution_count": null,
   "metadata": {},
   "outputs": [],
   "source": [
    "import collections\n",
    "\n",
    "fila = collections.deque()\n",
    "\n",
    "fila.append('Alison')\n",
    "fila.append('Eliane')\n",
    "fila.append('Guilherme')\n",
    "\n",
    "print(len(fila))\n",
    "print(fila)\n",
    "\n",
    "fila.popleft()\n",
    "\n",
    "print(fila)"
   ]
  },
  {
   "cell_type": "markdown",
   "metadata": {},
   "source": [
    "### Pilhas"
   ]
  },
  {
   "cell_type": "markdown",
   "metadata": {},
   "source": [
    "Assim como com as filas, as pilhas são uma maneira abstrata de representar pilhas da vida real!\n",
    "\n",
    "Exemplos de pilhas:\n",
    "* operações numa calculadora\n",
    "* pilha de livros\n",
    "* pilha de roupa suja\n",
    "* pilha de tarefas pra fazer\n",
    "* baralho (pilha de cartas)"
   ]
  },
  {
   "cell_type": "markdown",
   "metadata": {},
   "source": [
    "#### Características"
   ]
  },
  {
   "cell_type": "markdown",
   "metadata": {},
   "source": [
    "* O algoritmo que define as pilhas é o chamado **Last In First Out (LIFO)**, ou **o último a chegar é o primeiro a sair**"
   ]
  },
  {
   "cell_type": "markdown",
   "metadata": {},
   "source": [
    "* Suas operações principais são:\n",
    "    - `push`: adiciona um item ao **topo** da pilha (*inserção*)\n",
    "    - `pop`: remove o item que está no **topo** da pilha (*remoção*)\n",
    "    - `top`: retorna o item no **topo** da pilha (*acesso*)\n",
    "    - `bottom`: retorna o item **abaixo** da pilha (*acesso*)"
   ]
  },
  {
   "cell_type": "markdown",
   "metadata": {},
   "source": [
    "**Prática:** vamos implementar uma fila em Python"
   ]
  },
  {
   "cell_type": "markdown",
   "metadata": {},
   "source": [
    "Assim como com filas, também utilizaremos os métodos `is_empty()` e `size()`"
   ]
  },
  {
   "cell_type": "code",
   "execution_count": null,
   "metadata": {},
   "outputs": [],
   "source": [
    "class Pilha:\n",
    "    def __init__(self):\n",
    "        self.elementos = []\n",
    "\n",
    "    def push(self, item):\n",
    "        self.elementos.append(item)\n",
    "        # self.elementos.insert(0, item) se a fila for da direita pra esquerda\n",
    "\n",
    "    def pop(self):\n",
    "        self.elementos.pop()\n",
    "\n",
    "    def top(self):\n",
    "        return self.elementos[-1]\n",
    "\n",
    "    def bottom(self):\n",
    "        return self.elementos[0]\n",
    "\n",
    "    def is_empty(self):\n",
    "        if len(self.elementos) == 0:\n",
    "            return True\n",
    "        return False\n",
    "\n",
    "    def size(self):\n",
    "        return len(self.elementos)\n",
    "\n",
    "pilha = Pilha()\n",
    "\n",
    "pilha.push('rosi')\n",
    "pilha.push('renato')\n",
    "pilha.push('matheus')\n",
    "\n",
    "print(pilha.elementos)\n",
    "\n",
    "pilha.pop()\n",
    "\n",
    "print(pilha.elementos)\n",
    "\n",
    "print(pilha.top())\n",
    "print(pilha.bottom())"
   ]
  },
  {
   "cell_type": "code",
   "execution_count": null,
   "metadata": {},
   "outputs": [],
   "source": [
    "import queue\n",
    "\n",
    "pilha = queue.LifoQueue()\n",
    "\n",
    "pilha.put('renato')\n",
    "pilha.put('kenya')\n",
    "pilha.put('matheus')\n",
    "\n",
    "print(list(pilha.queue))\n",
    "\n",
    "pilha.get()\n",
    "\n",
    "print(list(pilha.queue))"
   ]
  },
  {
   "cell_type": "markdown",
   "metadata": {},
   "source": [
    "### Tabela de análise de complexidade"
   ]
  },
  {
   "cell_type": "markdown",
   "metadata": {},
   "source": [
    "Além das estruturas de dados que veremos a partir de agora, já conhecemos algumas dos módulos anteriores:\n",
    "- listas\n",
    "- dicionários\n",
    "\n",
    "Abaixo temos a análise de complexidade dessas estruturas e das que estudamos na aula de hoje"
   ]
  },
  {
   "cell_type": "markdown",
   "metadata": {},
   "source": [
    "| Estrutura | Acesso | Busca | Inserção | Remoção |\n",
    "|-----------|--------|-------|----------|---------|\n",
    "| Lista | O(1) | O(n) | O(n) | O(n) |\n",
    "| Dicionário | O(1) | O(1) | O(1) | O(1) |\n",
    "| Fila | O(1) | O(n) | O(n) | O(n) |\n",
    "| Pilha | O(1) | O(n) | O(n) | O(n)"
   ]
  },
  {
   "cell_type": "markdown",
   "metadata": {},
   "source": [
    "**Nota:** há implementações de filas e pilhas mais eficientes, usando outras estruturas de dados; as complexidades acima são válidas por termos usados **listas**"
   ]
  },
  {
   "cell_type": "code",
   "execution_count": null,
   "metadata": {},
   "outputs": [],
   "source": [
    "lista = [1, 2, 3]\n",
    "\n",
    "lista[0] # O(1)\n",
    "\n",
    "def busca(lista, item): # O(n)\n",
    "    for elem in lista:\n",
    "        if elem == item:\n",
    "            return True\n",
    "    return False\n",
    "\n",
    "lista.append(4) # O(n)\n",
    "\n",
    "print(lista)\n",
    "\n",
    "lista.pop() # O(n)\n",
    "\n",
    "print(lista)"
   ]
  },
  {
   "cell_type": "markdown",
   "metadata": {},
   "source": []
  }
 ],
 "metadata": {
  "interpreter": {
   "hash": "e7370f93d1d0cde622a1f8e1c04877d8463912d04d973331ad4851f04de6915a"
  },
  "kernelspec": {
   "display_name": "Python 3.10.2 64-bit",
   "language": "python",
   "name": "python3"
  },
  "language_info": {
   "codemirror_mode": {
    "name": "ipython",
    "version": 3
   },
   "file_extension": ".py",
   "mimetype": "text/x-python",
   "name": "python",
   "nbconvert_exporter": "python",
   "pygments_lexer": "ipython3",
   "version": "3.10.2"
  },
  "orig_nbformat": 4
 },
 "nbformat": 4,
 "nbformat_minor": 2
}
