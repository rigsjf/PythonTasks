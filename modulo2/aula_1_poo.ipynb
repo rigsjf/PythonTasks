{
 "cells": [
  {
   "cell_type": "markdown",
   "metadata": {},
   "source": [
    "# Introdução Programação orientada a objetos\n",
    "\n",
    "Na aula de hoje, vamos explorar os seguintes tópicos em Python:\n",
    "\n",
    "\n",
    "- 1) Programação Orientada a Objetos;\n",
    "- 2) Classes, Atributos, Objetos e Métodos;\n",
    "- 3) Atributos e métodos estáticos;\n",
    "- 4) Métodos Mágicos;"
   ]
  },
  {
   "cell_type": "markdown",
   "metadata": {},
   "source": [
    "____\n",
    "____\n",
    "____"
   ]
  },
  {
   "cell_type": "markdown",
   "metadata": {},
   "source": [
    "## 1) Programação Orientada a Objetos\n",
    "\n",
    "O Python, como outras linguagens, é classificada como uma **linguagem de programação orientada a objetos (POO)** (outros exemplos: Java, C++, etc). \n",
    "\n",
    "Esta classificação é uma dos chamados \"paradigmas de programação\". Isso porque uma linguagem de POO é fundamentalmente diferente de linguagens de outros paradigmas (https://blog.betrybe.com/tecnologia/paradigmas-de-programacao/).\n",
    "\n",
    "O grande objetivo da POO é a **reutilização de código**.\n",
    "\n",
    "Os programas devem ser **modularizados**, de modo que diferentes pessoas possam implementar módulos diferentes e juntá-los ao final, e reaporveitar modulos diferentes.\n",
    "\n",
    "Dentro de POO, tudo isso é feito de acordo com as seguintes **entidades**:\n",
    "\n",
    "- Classes\n",
    "\n",
    "> As classes são os \"moldes\" dos objetos, as entidades abstratas. Elas contêm as informações e os comportamentos que os objetos terão. Todos os objetos pertencentes a uma mesma classe terão características em comum. **Ex: Pessoa**\n",
    "\n",
    "- Objetos\n",
    "\n",
    "> Os objetos são as instâncias concretas das classes, que são abstratas. Os objetos contêm as características comuns à classe, mas cada um tem suas particularidades. **Ex: você!**\n",
    "\n",
    "\n",
    "- Atributos\n",
    "\n",
    "> Cada objeto particular de uma mesma classe tem valores diferentes para as variáveis internas da classe. Essas \"variáveis do objeto\" chamamos de atributos. **Ex: a cor do seu cabelo**\n",
    "\n",
    "- Métodos\n",
    "\n",
    "> Métodos são funções dentro da classe, que não podem ser executadas arbitrariamente, mas deverão ser chamadas necessariamente pelos objetos. Os métodos podem utilizar os atributos e até mesmo alterá-los. **Ex: você pintar seu cabelo para mudar a cor** "
   ]
  },
  {
   "cell_type": "markdown",
   "metadata": {},
   "source": [
    "Em POO, há **4 princípios de boas práticas** para a criação das entidades:\n",
    "\n",
    "- **Encapsulamento**: cada classe deve conter todas as informações necessárias para seu funcionamento bem como todos os métodos necessários para alterar essas informações.\n",
    "\n",
    "- **Abstração**: as classes devem apresentar interfaces simples para o uso por outros desenvolvedores e para a interação com outras classes. Todos os detalhes complicados de seu funcionamento devem estar \"escondidos\" dentro de métodos simples de usar, com parâmetros e retornos bem definidos. \n",
    "\n",
    "- **Herança**: se várias classes terão atributos e métodos em comum, não devemos ter que redigitá-los várias vezes. Ao invés disso, criamos uma classe com esses atributos comuns e as outras classes irão herdá-los.\n",
    "        \n",
    "- **Polimorfismo**: objetos de diferentes classes herdeiras de uma mesma classe mãe podem ser tratados genericamente como objetos pertencentes à classe mãe.\n",
    "\n",
    "Vamos agora a exemplos específicos para ilustrar e concretizar todos os conceitos discutidos acima!"
   ]
  },
  {
   "cell_type": "markdown",
   "metadata": {},
   "source": [
    "Exemplo:\n",
    "\n",
    "Classe: Carro\n",
    "\n",
    "Objetos: Gol, EcoSport, Logan\n",
    "\n",
    "Atributos: marca, quantidade de portas, possui ar-condicionado, cor, ano\n",
    "\n",
    "Métodos: Ligar, passar marcha, acelerar, freiar, estacionar"
   ]
  },
  {
   "cell_type": "markdown",
   "metadata": {},
   "source": [
    "_____\n",
    "_____\n",
    "_____"
   ]
  },
  {
   "cell_type": "markdown",
   "metadata": {},
   "source": [
    "## 2) Classes, Atributos, Objetos e Métodos\n",
    "\n",
    "\n",
    "### Criando uma classe\n",
    "\n",
    "A criação de classes é feita segundo a seguinte estrutura:\n",
    "\n",
    "```python\n",
    "class nome_da_classe:\n",
    "    \n",
    "    # método construtor\n",
    "    def __init__(self, atributos):\n",
    "        \n",
    "        # definição dos atributos\n",
    "        self.atributos = atributos\n",
    "        \n",
    "    # definição de outros métodos\n",
    "    def metodo(self, parametros):\n",
    "        operacoes\n",
    "```\n",
    "\n",
    "O **método construtor** é onde inicializamos alguns atributos que os objetos da classe terão!\n",
    "\n",
    "Os argumentos deste método são **obrigatórios** para a definição do objeto!\n",
    "\n",
    "- Esse método é opcional, mas é uma boa prática sempre defini-lo!\n",
    "- Sempre que um objeto é criado, este método é chamado, automaticamente"
   ]
  },
  {
   "cell_type": "markdown",
   "metadata": {},
   "source": [
    "O **\"self\"** sempre será o primeiro parâmetro dos métodos de uma classe, e ele é necessário para **fazer referência à classe**\n",
    "\n",
    "Assim, em geral, sempre usaremos dentro dos métodos alguma operação que **faça uso dos atributos da classe**, que é referenciada através do `self`."
   ]
  },
  {
   "cell_type": "code",
   "execution_count": 2,
   "metadata": {},
   "outputs": [],
   "source": [
    "class pessoa:\n",
    "    def __init__(self, nome, idade, sexo, altura):\n",
    "        self.nome = nome\n",
    "        self.idade = idade \n",
    "        self.sexo = sexo\n",
    "        self.altura = altura\n"
   ]
  },
  {
   "cell_type": "markdown",
   "metadata": {},
   "source": [
    "### Criação de objeto: instanciando uma classe\n",
    "\n",
    "Para criarmos um objeto (instância concreta da classe abstrata), nós fazemos o processo de **instanciação**, que nada mais é do que **chamar a classe**, com os argumentos definidos no método construtor"
   ]
  },
  {
   "cell_type": "code",
   "execution_count": 3,
   "metadata": {},
   "outputs": [],
   "source": [
    "# Quando criamos um objeto de uma classe, estamos instanciando um novo objeto\n",
    "pessoa_1 = pessoa('Octávio', 28, 'M', 1.84)\n",
    "pessoa_2 = pessoa(sexo = 'F', altura = 1.75, nome = 'Maria', idade = 35)"
   ]
  },
  {
   "cell_type": "code",
   "execution_count": 4,
   "metadata": {},
   "outputs": [
    {
     "data": {
      "text/plain": [
       "{'nome': 'Octávio', 'idade': 28, 'sexo': 'M', 'altura': 1.84}"
      ]
     },
     "execution_count": 4,
     "metadata": {},
     "output_type": "execute_result"
    }
   ],
   "source": [
    "# O método __dict__ exibe os atributos de um objeto e seus valores\n",
    "pessoa_1.__dict__"
   ]
  },
  {
   "cell_type": "code",
   "execution_count": 7,
   "metadata": {},
   "outputs": [],
   "source": [
    "class pessoa:\n",
    "    def __init__(self, nome, idade, sexo, altura):\n",
    "        # Podemos fazer manipulações a partir dos dados inseridos na criação do objeto e,\n",
    "        # assim, criar os atributos\n",
    "        self.nome = nome.capitalize()\n",
    "        if idade < 18:\n",
    "            self.idade = 0\n",
    "        else:\n",
    "            self.idade = idade \n",
    "        self.sexo = sexo.upper()\n",
    "        self.altura = altura"
   ]
  },
  {
   "cell_type": "code",
   "execution_count": 8,
   "metadata": {},
   "outputs": [
    {
     "data": {
      "text/plain": [
       "{'nome': 'Octávio', 'idade': 25, 'sexo': 'M', 'altura': 1.84}"
      ]
     },
     "execution_count": 8,
     "metadata": {},
     "output_type": "execute_result"
    }
   ],
   "source": [
    "pessoa_3 = pessoa('ocTáviO', 25, 'm', 1.84)\n",
    "pessoa_3.__dict__"
   ]
  },
  {
   "cell_type": "markdown",
   "metadata": {},
   "source": [
    "Se chamarmos a variável com o objeto, aparece apenas o endereço respectivo ao objeto:"
   ]
  },
  {
   "cell_type": "markdown",
   "metadata": {},
   "source": [
    "Mas podemos acessar cada um dos atributos deste objeto, que são aqueles definidos na classe. \n",
    "\n",
    "Para isso, seguimos a sintaxe\n",
    "\n",
    "```python\n",
    "nome_do_objeto.nome_do_atributo\n",
    "```"
   ]
  },
  {
   "cell_type": "code",
   "execution_count": 9,
   "metadata": {},
   "outputs": [
    {
     "data": {
      "text/plain": [
       "28"
      ]
     },
     "execution_count": 9,
     "metadata": {},
     "output_type": "execute_result"
    }
   ],
   "source": [
    "pessoa_1.idade"
   ]
  },
  {
   "cell_type": "code",
   "execution_count": 10,
   "metadata": {},
   "outputs": [
    {
     "data": {
      "text/plain": [
       "'Octávio'"
      ]
     },
     "execution_count": 10,
     "metadata": {},
     "output_type": "execute_result"
    }
   ],
   "source": [
    "pessoa_1.nome"
   ]
  },
  {
   "cell_type": "markdown",
   "metadata": {},
   "source": [
    "Os atributos são mutáveis! Para mudá-los, basta redefinir novos valores:"
   ]
  },
  {
   "cell_type": "code",
   "execution_count": 11,
   "metadata": {},
   "outputs": [
    {
     "data": {
      "text/plain": [
       "{'nome': 'João', 'idade': 28, 'sexo': 'M', 'altura': 1.84}"
      ]
     },
     "execution_count": 11,
     "metadata": {},
     "output_type": "execute_result"
    }
   ],
   "source": [
    "pessoa_1.nome = 'João' # cuidado\n",
    "pessoa_1.__dict__"
   ]
  },
  {
   "cell_type": "code",
   "execution_count": 12,
   "metadata": {},
   "outputs": [
    {
     "data": {
      "text/plain": [
       "{'nome': 'João', 'idade': 28, 'sexo': 'M', 'altura': 1.84, 'peso': 84}"
      ]
     },
     "execution_count": 12,
     "metadata": {},
     "output_type": "execute_result"
    }
   ],
   "source": [
    "pessoa_1.peso = 84 # mais cuidado ainda\n",
    "pessoa_1.__dict__\n"
   ]
  },
  {
   "cell_type": "code",
   "execution_count": 13,
   "metadata": {},
   "outputs": [
    {
     "data": {
      "text/plain": [
       "{'nome': 'Maria', 'idade': 35, 'sexo': 'F', 'altura': 1.75, 'peso': 85}"
      ]
     },
     "execution_count": 13,
     "metadata": {},
     "output_type": "execute_result"
    }
   ],
   "source": [
    "# Podemos também criar novos atributos\n",
    "pessoa_2.peso = 85 # mais cuidado ainda\n",
    "pessoa_2.__dict__"
   ]
  },
  {
   "cell_type": "code",
   "execution_count": 14,
   "metadata": {},
   "outputs": [
    {
     "data": {
      "text/plain": [
       "{'nome': 'João', 'idade': 28, 'sexo': 'M', 'altura': 1.84}"
      ]
     },
     "execution_count": 14,
     "metadata": {},
     "output_type": "execute_result"
    }
   ],
   "source": [
    "# Removendo um atributo criado anteriormente\n",
    "del pessoa_1.peso\n",
    "pessoa_1.__dict__"
   ]
  },
  {
   "cell_type": "markdown",
   "metadata": {},
   "source": [
    "### Métodos da classe: definindo e chamando\n",
    "\n",
    "Os métodos são **funções específicas de uma classe**, que só podem ser usadas após a criação de um objeto instância da classe.\n",
    "\n",
    "Assim, definimos os métodos dentro da classe, fazendo sempre referência à classe e seus atributos através do parâmetro self:"
   ]
  },
  {
   "cell_type": "code",
   "execution_count": 107,
   "metadata": {},
   "outputs": [
    {
     "data": {
      "text/plain": [
       "{'nome': 'Octávio',\n",
       " 'idade': 28,\n",
       " 'sexo': 'M',\n",
       " 'altura': 1.84,\n",
       " 'peso': 85,\n",
       " 'imc': 25.11}"
      ]
     },
     "execution_count": 107,
     "metadata": {},
     "output_type": "execute_result"
    }
   ],
   "source": [
    "class pessoa:\n",
    "    def __init__(self, nome, idade, sexo, altura, peso):\n",
    "        self.nome = nome\n",
    "        self.idade = idade \n",
    "        self.sexo = sexo\n",
    "        self.altura = altura\n",
    "        self.peso = peso\n",
    "\n",
    "    def calcula_imc(self):\n",
    "        self.imc = round(self.peso / (self.altura)**2, 2)\n",
    "        # return self.imc\n",
    "\n",
    "    def confirma_idade(self, ano_nascimento):\n",
    "        if 2022 - ano_nascimento == self.idade:\n",
    "            return True\n",
    "        else:\n",
    "            return False\n",
    "\n",
    "pessoa_1 = pessoa('Octávio', 28, 'M', 1.84, 85)\n",
    "# pessoa_1.__dict__ \n",
    "\n",
    "pessoa_1.calcula_imc()\n",
    "pessoa_1.__dict__ "
   ]
  },
  {
   "cell_type": "code",
   "execution_count": 108,
   "metadata": {},
   "outputs": [
    {
     "data": {
      "text/plain": [
       "25.11"
      ]
     },
     "execution_count": 108,
     "metadata": {},
     "output_type": "execute_result"
    }
   ],
   "source": [
    "pessoa_1.imc"
   ]
  },
  {
   "cell_type": "code",
   "execution_count": 113,
   "metadata": {},
   "outputs": [
    {
     "data": {
      "text/plain": [
       "False"
      ]
     },
     "execution_count": 113,
     "metadata": {},
     "output_type": "execute_result"
    }
   ],
   "source": [
    "check_idade = pessoa_1.confirma_idade(1995)\n",
    "check_idade"
   ]
  },
  {
   "cell_type": "code",
   "execution_count": 110,
   "metadata": {},
   "outputs": [
    {
     "data": {
      "text/plain": [
       "{'nome': 'Octávio',\n",
       " 'idade': 28,\n",
       " 'sexo': 'M',\n",
       " 'altura': 1.84,\n",
       " 'peso': 85,\n",
       " 'imc': 25.11}"
      ]
     },
     "execution_count": 110,
     "metadata": {},
     "output_type": "execute_result"
    }
   ],
   "source": [
    "pessoa_1.__dict__"
   ]
  },
  {
   "cell_type": "code",
   "execution_count": 125,
   "metadata": {},
   "outputs": [],
   "source": [
    "class pessoa:\n",
    "    def __init__(self, nome, idade, sexo, altura, peso, estado_civil):\n",
    "        self.nome = nome\n",
    "        self.idade = idade \n",
    "        self.sexo = sexo\n",
    "        self.altura = altura\n",
    "        self.peso = peso\n",
    "        self.estado_civil = estado_civil\n",
    "\n",
    "    def calcula_imc(self):\n",
    "        self.imc = round(self.peso / (self.altura)**2, 2)\n",
    "        # return self.imc\n",
    "\n",
    "    def confirma_idade(self, ano_nascimento):\n",
    "        if 2022 - ano_nascimento == self.idade:\n",
    "            return True\n",
    "        else:\n",
    "            return False\n",
    "\n",
    "    def altera_estado_civil(self, novo_estado, conjuge = None):\n",
    "        if self.estado_civil == 'Solteiro' and novo_estado in ['Casado', 'Noivo']:\n",
    "            self.estado_civil = novo_estado\n",
    "            self.conjuge = conjuge\n",
    "        elif self.estado_civil in ['Casado', 'Noivo'] and novo_estado == 'Divorciado':\n",
    "            self.estado_civil = novo_estado\n",
    "            self.conjuge = None\n"
   ]
  },
  {
   "cell_type": "code",
   "execution_count": 118,
   "metadata": {},
   "outputs": [
    {
     "data": {
      "text/plain": [
       "{'nome': 'Octávio',\n",
       " 'idade': 28,\n",
       " 'sexo': 'M',\n",
       " 'altura': 1.84,\n",
       " 'peso': 85,\n",
       " 'estado_civil': 'Casado',\n",
       " 'conjuge': 'Maria'}"
      ]
     },
     "execution_count": 118,
     "metadata": {},
     "output_type": "execute_result"
    }
   ],
   "source": [
    "pessoa_1 = pessoa('Octávio', 28, 'M', 1.84, 85, 'Solteiro')\n",
    "pessoa_1.altera_estado_civil('Casado', 'Maria')\n",
    "pessoa_1.__dict__ "
   ]
  },
  {
   "cell_type": "code",
   "execution_count": 123,
   "metadata": {},
   "outputs": [
    {
     "data": {
      "text/plain": [
       "{'nome': 'Octávio',\n",
       " 'idade': 28,\n",
       " 'sexo': 'M',\n",
       " 'altura': 1.84,\n",
       " 'peso': 85,\n",
       " 'estado_civil': 'Noivo',\n",
       " 'conjuge': 'Maria'}"
      ]
     },
     "execution_count": 123,
     "metadata": {},
     "output_type": "execute_result"
    }
   ],
   "source": [
    "pessoa_1 = pessoa('Octávio', 28, 'M', 1.84, 85, 'Solteiro')\n",
    "pessoa_1.altera_estado_civil('Noivo', 'Maria')\n",
    "pessoa_1.__dict__"
   ]
  },
  {
   "cell_type": "code",
   "execution_count": 124,
   "metadata": {},
   "outputs": [
    {
     "data": {
      "text/plain": [
       "{'nome': 'Octávio',\n",
       " 'idade': 28,\n",
       " 'sexo': 'M',\n",
       " 'altura': 1.84,\n",
       " 'peso': 85,\n",
       " 'estado_civil': 'Solteiro'}"
      ]
     },
     "execution_count": 124,
     "metadata": {},
     "output_type": "execute_result"
    }
   ],
   "source": [
    "pessoa_1 = pessoa('Octávio', 28, 'M', 1.84, 85, 'Solteiro')\n",
    "pessoa_1.altera_estado_civil('Solteiro', 'Maria')\n",
    "pessoa_1.__dict__"
   ]
  },
  {
   "cell_type": "code",
   "execution_count": 130,
   "metadata": {},
   "outputs": [
    {
     "data": {
      "text/plain": [
       "{'nome': 'Octávio',\n",
       " 'idade': 28,\n",
       " 'sexo': 'M',\n",
       " 'altura': 1.84,\n",
       " 'peso': 85,\n",
       " 'estado_civil': 'Divorciado',\n",
       " 'conjuge': None}"
      ]
     },
     "execution_count": 130,
     "metadata": {},
     "output_type": "execute_result"
    }
   ],
   "source": [
    "pessoa_1 = pessoa('Octávio', 28, 'M', 1.84, 85, 'Solteiro')\n",
    "pessoa_1.altera_estado_civil('Casado', 'Maria')\n",
    "pessoa_1.altera_estado_civil('Divorciado', 'Maria')\n",
    "pessoa_1.__dict__"
   ]
  },
  {
   "cell_type": "code",
   "execution_count": 131,
   "metadata": {},
   "outputs": [
    {
     "data": {
      "text/plain": [
       "{'nome': 'Pedro',\n",
       " 'idade': 49,\n",
       " 'sexo': 'M',\n",
       " 'altura': 1.6,\n",
       " 'peso': 57.6,\n",
       " 'estado_civil': 'Solteiro'}"
      ]
     },
     "execution_count": 131,
     "metadata": {},
     "output_type": "execute_result"
    }
   ],
   "source": [
    "nome = input('Digite seu nome: ')\n",
    "idade = int(input('Digite sua idade: '))\n",
    "sexo = input('Digite seu sexo: ')\n",
    "altura = float(input('Digite sua altura: '))\n",
    "peso = float(input('Digite seu peso: '))\n",
    "estado_civil = input('Digite seu estado civil: ')\n",
    "pessoa_4 = pessoa(nome, idade, sexo, altura, peso, estado_civil)\n",
    "pessoa_4.__dict__"
   ]
  },
  {
   "cell_type": "code",
   "execution_count": 101,
   "metadata": {},
   "outputs": [
    {
     "name": "stdout",
     "output_type": "stream",
     "text": [
      "3.14\n"
     ]
    }
   ],
   "source": [
    "# Comentário sobre a função round que alguns não conheciam\n",
    "numero = 3.1415\n",
    "numero_com_round = round(numero, 2)\n",
    "print(numero_com_round)"
   ]
  }
 ],
 "metadata": {
  "kernelspec": {
   "display_name": "Python 3",
   "language": "python",
   "name": "python3"
  },
  "language_info": {
   "codemirror_mode": {
    "name": "ipython",
    "version": 3
   },
   "file_extension": ".py",
   "mimetype": "text/x-python",
   "name": "python",
   "nbconvert_exporter": "python",
   "pygments_lexer": "ipython3",
   "version": "3.9.2"
  }
 },
 "nbformat": 4,
 "nbformat_minor": 4
}
