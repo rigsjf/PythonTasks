{
 "cells": [
  {
   "cell_type": "markdown",
   "metadata": {},
   "source": [
    "# Programação orientada a objetos"
   ]
  },
  {
   "cell_type": "markdown",
   "metadata": {},
   "source": [
    "## Atributos e métodos estáticos\n",
    "\n",
    "Se quisermos criar atributos e métodos que pertençam **à classe**, e não exatamente a um objeto instanciado desta, usamos suas versões **estáticas**\n",
    "\n",
    "- Para criar um atributo estático, basta **criar uma variável (atribuindo um valor inicial a ela) dentro da classe**, mas **fora de qualquer um de seus métodos**;\n",
    "- Para criar um método estático, use antes de sua criação **@staticmethod**"
   ]
  },
  {
   "cell_type": "markdown",
   "metadata": {},
   "source": [
    "### Exercício\n",
    "Crie uma classe ``Pizza`` em que os objetos possuem o atributo sabor e tamanho (P, M ou G).\n",
    "\n",
    "Crie um método para calcular a área da pizza utlizando os seguintes valores de raio:\n",
    "- P: 5 cm\n",
    "- M: 10 cm\n",
    "- G: 15 cm"
   ]
  },
  {
   "cell_type": "code",
   "execution_count": 3,
   "metadata": {},
   "outputs": [],
   "source": [
    "import math\n",
    "class Pizza:\n",
    "    # Método construtor que recebe os atributos sabor e tamanho da pizza\n",
    "    def __init__(self, sabor, tamanho):\n",
    "        self.sabor = sabor\n",
    "        self.tamanho = tamanho\n",
    "\n",
    "    def calcula_area(self, raio):\n",
    "        # Calcula a área de uma circunferência\n",
    "        return math.pi * (raio ** 2)\n",
    "\n",
    "    def area_pizza(self):\n",
    "        # Para cada tamanho, executa o método criado anteriormente com um valor de raio\n",
    "        if self.tamanho == 'P':\n",
    "            self.area = self.calcula_area(5)\n",
    "        elif self.tamanho == 'M':\n",
    "            self.area = self.calcula_area(10)\n",
    "        else:\n",
    "            self.area = self.calcula_area(15)\n",
    "\n",
    "    "
   ]
  },
  {
   "cell_type": "code",
   "execution_count": 4,
   "metadata": {},
   "outputs": [
    {
     "data": {
      "text/plain": [
       "{'sabor': 'Calabresa', 'tamanho': 'G'}"
      ]
     },
     "execution_count": 4,
     "metadata": {},
     "output_type": "execute_result"
    }
   ],
   "source": [
    "pizza_1 = Pizza('Calabresa', 'G')\n",
    "pizza_1.__dict__"
   ]
  },
  {
   "cell_type": "code",
   "execution_count": 5,
   "metadata": {},
   "outputs": [],
   "source": [
    "pizza_1.area_pizza()"
   ]
  },
  {
   "cell_type": "code",
   "execution_count": 8,
   "metadata": {},
   "outputs": [
    {
     "data": {
      "text/plain": [
       "706.8583470577034"
      ]
     },
     "execution_count": 8,
     "metadata": {},
     "output_type": "execute_result"
    }
   ],
   "source": [
    "pizza_1.area"
   ]
  },
  {
   "cell_type": "code",
   "execution_count": 9,
   "metadata": {},
   "outputs": [
    {
     "data": {
      "text/plain": [
       "{'sabor': 'Calabresa', 'tamanho': 'G', 'area': 706.8583470577034}"
      ]
     },
     "execution_count": 9,
     "metadata": {},
     "output_type": "execute_result"
    }
   ],
   "source": [
    "pizza_1.__dict__"
   ]
  },
  {
   "cell_type": "markdown",
   "metadata": {},
   "source": [
    "Transformando o método calcula_area em estático:"
   ]
  },
  {
   "cell_type": "code",
   "execution_count": 24,
   "metadata": {},
   "outputs": [],
   "source": [
    "import math\n",
    "class Pizza:\n",
    "    # Método construtor que recebe os atributos sabor e tamanho da pizza\n",
    "    def __init__(self, sabor, tamanho):\n",
    "        self.sabor = sabor\n",
    "        self.tamanho = tamanho\n",
    "    \n",
    "    def area_pizza(self):\n",
    "        # Para cada tamanho, executa o método criado anteriormente com um valor de raio\n",
    "        if self.tamanho == 'P':\n",
    "            self.area = self.calcula_area(5)\n",
    "        elif self.tamanho == 'M':\n",
    "            self.area = self.calcula_area(10)\n",
    "        else:\n",
    "            self.area = self.calcula_area(15)\n",
    "\n",
    "    # O método calcula_area agora é estático: apesar de pertencer a classe Pizza,\n",
    "    # pode ser usado por objetos que não sejam da classe.\n",
    "    @staticmethod\n",
    "    def calcula_area(raio):\n",
    "        # Calcula a área de uma circunferência\n",
    "        return math.pi * (raio ** 2)"
   ]
  },
  {
   "cell_type": "code",
   "execution_count": 21,
   "metadata": {},
   "outputs": [
    {
     "data": {
      "text/plain": [
       "{'sabor': 'Frango', 'tamanho': 'P'}"
      ]
     },
     "execution_count": 21,
     "metadata": {},
     "output_type": "execute_result"
    }
   ],
   "source": [
    "pizza_2 = Pizza('Frango', 'P')\n",
    "pizza_2.__dict__"
   ]
  },
  {
   "cell_type": "code",
   "execution_count": 22,
   "metadata": {},
   "outputs": [
    {
     "data": {
      "text/plain": [
       "{'sabor': 'Frango', 'tamanho': 'P', 'area': 78.53981633974483}"
      ]
     },
     "execution_count": 22,
     "metadata": {},
     "output_type": "execute_result"
    }
   ],
   "source": [
    "pizza_2.area_pizza()\n",
    "pizza_2.__dict__"
   ]
  },
  {
   "cell_type": "code",
   "execution_count": 23,
   "metadata": {},
   "outputs": [
    {
     "data": {
      "text/plain": [
       "1661.9025137490005"
      ]
     },
     "execution_count": 23,
     "metadata": {},
     "output_type": "execute_result"
    }
   ],
   "source": [
    "raio_roda = 23\n",
    "area_roda = Pizza.calcula_area(raio_roda)\n",
    "area_roda"
   ]
  },
  {
   "cell_type": "code",
   "execution_count": 19,
   "metadata": {},
   "outputs": [
    {
     "data": {
      "text/plain": [
       "1661.9025137490005"
      ]
     },
     "execution_count": 19,
     "metadata": {},
     "output_type": "execute_result"
    }
   ],
   "source": [
    "23*23*math.pi"
   ]
  },
  {
   "cell_type": "markdown",
   "metadata": {},
   "source": [
    "### Exercício\n",
    "Crie uma classe ``Agenda`` em que cada objeto pode armazenar 10 pessoas e seja capaz de realizar as seguintes operações:\n",
    "\n",
    "- adiciona_pessoa - Adiciona uma pessoa na agenda. Recebe o nome, o telefone e o endereço\n",
    "- remove_pessoa - Remove uma pessoa se ela estiver na agenda. Recebe o nome.\n",
    "- busca_pessoa - Informa em que posição da agenda está a pessoa se ela estiver na agenda. Recebe o nome.\n",
    "- imprime_agenda - Imprime os dados de todas as pessoas da agenda\n",
    "- imprime_pessoa - Imprime os dados da pessoa que está na posição i da agenda. Recebe a posição.\n"
   ]
  },
  {
   "cell_type": "code",
   "execution_count": 189,
   "metadata": {},
   "outputs": [],
   "source": [
    "class Agenda:\n",
    "    max_contatos = 5\n",
    "\n",
    "    def __init__(self):\n",
    "        # Cria uma lista vazia que vai ser preenchida conforme os métodos forem sendo chamados\n",
    "        self.lista_contatos = []\n",
    "        self.total_contatos = 0\n",
    "\n",
    "    def adiciona_pessoa(self, nome, telefone, endereco):\n",
    "        if self.total_contatos < self.max_contatos:\n",
    "            # Cria um dicionario auxiliar para cada contato que está sendo adicionado\n",
    "            dict_aux = {'Nome': nome,\n",
    "                        'Telefone': telefone,\n",
    "                        'Endereco': endereco}\n",
    "            self.lista_contatos.append(dict_aux)\n",
    "            self.total_contatos += 1\n",
    "        else:\n",
    "            print('A agenda está cheia! Remova um contato antes')\n",
    "\n",
    "    def remove_pessoa(self, nome):\n",
    "        # Remove todas as pessoas que tenham o nome igual ao pesquisado\n",
    "        # Poderíamos ter melhorado e criado uma regra de desempate.\n",
    "        lista_aux = []\n",
    "        for contato in self.lista_contatos:\n",
    "            if contato['Nome'] != nome:\n",
    "                lista_aux.append(contato)\n",
    "            else:\n",
    "                self.total_contatos -= 1\n",
    "        self.lista_contatos = lista_aux\n",
    "\n",
    "    def busca_contato(self, nome):\n",
    "        # Busca o nome digitado na lista de contatos\n",
    "        lista_posicoes = []\n",
    "        for indice, contato in enumerate(self.lista_contatos):\n",
    "            if contato['Nome'] == nome:\n",
    "                lista_posicoes.append(indice)\n",
    "        \n",
    "        # Se só encontrou 1, retorna o valor, se 0 retorna uma mensagem e\n",
    "        # se encontrou mais de 1, retorna uma lista\n",
    "        if len(lista_posicoes) == 1:\n",
    "            return lista_posicoes[0]\n",
    "        elif len(lista_posicoes) == 0:\n",
    "            return 'Contato não encontrado'\n",
    "        else:\n",
    "            return lista_posicoes\n",
    "    # Imprime as informações da posição pesquisada\n",
    "    def imprime_pessoa(self, posicao):\n",
    "        if posicao < 0 or posicao >= len(self.lista_contatos):\n",
    "            print('Índice inexistente')\n",
    "        else:\n",
    "            print(f'Os dados do contato na posicao {posicao} são:')\n",
    "            print(f\"Nome: {self.lista_contatos[posicao]['Nome']}\")\n",
    "            print(f\"Telefone: {self.lista_contatos[posicao]['Telefone']}\")\n",
    "            print(f\"Endereço: {self.lista_contatos[posicao]['Endereco']}\")\n",
    "    \n",
    "    # Cria o método representativo quando alguem printa um objeto da classe\n",
    "    def __repr__(self):\n",
    "        texto = ''\n",
    "        for indice, contato in enumerate(self.lista_contatos):\n",
    "            texto += 'Contato ' + str(indice) + ':\\n'\n",
    "            texto += '\\t- Nome: ' + contato['Nome'] + '\\n'\n",
    "            texto += '\\t- Telefone: ' + str(contato['Telefone']) + '\\n'\n",
    "            texto += '\\t- Endereço: ' + contato['Endereco'] + '\\n'\n",
    "        return texto"
   ]
  },
  {
   "cell_type": "code",
   "execution_count": 1,
   "metadata": {},
   "outputs": [
    {
     "name": "stdout",
     "output_type": "stream",
     "text": [
      "0 a\n",
      "1 b\n",
      "2 c\n"
     ]
    }
   ],
   "source": [
    "# Comentário sobre a função enumerate\n",
    "lista = ['a', 'b', 'c']\n",
    "\n",
    "for (indice, elemento) in enumerate(lista):\n",
    "    print(indice, elemento)\n",
    "\n",
    "# [(0, 'a'), (1, 'b'), (2, 'c')]"
   ]
  },
  {
   "cell_type": "code",
   "execution_count": 183,
   "metadata": {},
   "outputs": [],
   "source": [
    "# Criando o objeto (instância) minha_agenda da classe Agenda\n",
    "minha_agenda = Agenda()\n",
    "minha_agenda.adiciona_pessoa('Eliane', 1234, 'Rua das Pedras, 123')\n",
    "minha_agenda.adiciona_pessoa('Anderson', 4321, 'Rua Bonita, 123')\n",
    "minha_agenda.adiciona_pessoa('Paulo', 9999, 'Rua Bonita, 1111')\n",
    "minha_agenda.adiciona_pessoa('Anderson', 5555, 'Rua Bonita, 987')"
   ]
  },
  {
   "cell_type": "code",
   "execution_count": 184,
   "metadata": {},
   "outputs": [
    {
     "data": {
      "text/plain": [
       "[{'Nome': 'Eliane', 'Telefone': 1234, 'Endereco': 'Rua das Pedras, 123'},\n",
       " {'Nome': 'Anderson', 'Telefone': 4321, 'Endereco': 'Rua Bonita, 123'},\n",
       " {'Nome': 'Paulo', 'Telefone': 9999, 'Endereco': 'Rua Bonita, 1111'},\n",
       " {'Nome': 'Anderson', 'Telefone': 5555, 'Endereco': 'Rua Bonita, 987'}]"
      ]
     },
     "execution_count": 184,
     "metadata": {},
     "output_type": "execute_result"
    }
   ],
   "source": [
    "minha_agenda.lista_contatos"
   ]
  },
  {
   "cell_type": "code",
   "execution_count": 185,
   "metadata": {},
   "outputs": [
    {
     "data": {
      "text/plain": [
       "4"
      ]
     },
     "execution_count": 185,
     "metadata": {},
     "output_type": "execute_result"
    }
   ],
   "source": [
    "minha_agenda.total_contatos"
   ]
  },
  {
   "cell_type": "code",
   "execution_count": 186,
   "metadata": {},
   "outputs": [
    {
     "data": {
      "text/plain": [
       "2"
      ]
     },
     "execution_count": 186,
     "metadata": {},
     "output_type": "execute_result"
    }
   ],
   "source": [
    "posicao = minha_agenda.busca_contato('Paulo')\n",
    "posicao"
   ]
  },
  {
   "cell_type": "code",
   "execution_count": 187,
   "metadata": {},
   "outputs": [
    {
     "name": "stdout",
     "output_type": "stream",
     "text": [
      "Os dados do contato na posicao 3 são:\n",
      "Nome: Anderson\n",
      "Telefone: 5555\n",
      "Endereço: Rua Bonita, 987\n"
     ]
    }
   ],
   "source": [
    "minha_agenda.imprime_pessoa(3)"
   ]
  },
  {
   "cell_type": "code",
   "execution_count": 188,
   "metadata": {},
   "outputs": [
    {
     "name": "stdout",
     "output_type": "stream",
     "text": [
      "Contato 1:\n",
      "\t- Nome: Eliane\n",
      "\t- Telefone: 1234\n",
      "\t- Endereço: Rua das Pedras, 123\n",
      "Contato 2:\n",
      "\t- Nome: Anderson\n",
      "\t- Telefone: 4321\n",
      "\t- Endereço: Rua Bonita, 123\n",
      "Contato 3:\n",
      "\t- Nome: Paulo\n",
      "\t- Telefone: 9999\n",
      "\t- Endereço: Rua Bonita, 1111\n",
      "Contato 4:\n",
      "\t- Nome: Anderson\n",
      "\t- Telefone: 5555\n",
      "\t- Endereço: Rua Bonita, 987\n",
      "\n"
     ]
    }
   ],
   "source": [
    "print(minha_agenda)"
   ]
  },
  {
   "cell_type": "code",
   "execution_count": 121,
   "metadata": {},
   "outputs": [
    {
     "data": {
      "text/plain": [
       "2"
      ]
     },
     "execution_count": 121,
     "metadata": {},
     "output_type": "execute_result"
    }
   ],
   "source": [
    "minha_agenda.total_contatos"
   ]
  },
  {
   "cell_type": "code",
   "execution_count": 122,
   "metadata": {},
   "outputs": [
    {
     "name": "stdout",
     "output_type": "stream",
     "text": [
      "A agenda está cheia! Remova um contato antes\n"
     ]
    }
   ],
   "source": [
    "minha_agenda.adiciona_pessoa('Paulo', 9999, 'Rua Bonita, 456')"
   ]
  },
  {
   "cell_type": "code",
   "execution_count": 123,
   "metadata": {},
   "outputs": [],
   "source": [
    "minha_agenda.remove_pessoa('Eliane')"
   ]
  },
  {
   "cell_type": "code",
   "execution_count": 124,
   "metadata": {},
   "outputs": [
    {
     "data": {
      "text/plain": [
       "[]"
      ]
     },
     "execution_count": 124,
     "metadata": {},
     "output_type": "execute_result"
    }
   ],
   "source": [
    "minha_agenda.lista_contatos"
   ]
  },
  {
   "cell_type": "code",
   "execution_count": 125,
   "metadata": {},
   "outputs": [
    {
     "data": {
      "text/plain": [
       "0"
      ]
     },
     "execution_count": 125,
     "metadata": {},
     "output_type": "execute_result"
    }
   ],
   "source": [
    "minha_agenda.total_contatos"
   ]
  },
  {
   "cell_type": "code",
   "execution_count": null,
   "metadata": {},
   "outputs": [],
   "source": []
  },
  {
   "cell_type": "code",
   "execution_count": null,
   "metadata": {},
   "outputs": [],
   "source": []
  },
  {
   "cell_type": "code",
   "execution_count": null,
   "metadata": {},
   "outputs": [],
   "source": []
  },
  {
   "cell_type": "markdown",
   "metadata": {},
   "source": [
    "Os códigos abaixo foram os que eu estava testando para remover todos os elementos iguais de uma lista"
   ]
  },
  {
   "cell_type": "code",
   "execution_count": 93,
   "metadata": {},
   "outputs": [],
   "source": [
    "lista = ['a', 'b', 'c', 'a', 'a', 'd']"
   ]
  },
  {
   "cell_type": "code",
   "execution_count": 97,
   "metadata": {},
   "outputs": [
    {
     "name": "stdout",
     "output_type": "stream",
     "text": [
      "['b', 'c', 'd']\n"
     ]
    }
   ],
   "source": [
    "aux = 0\n",
    "lista_aux = lista.copy()\n",
    "for i in range(len(lista)):\n",
    "    if lista[i] == 'a':\n",
    "        lista_aux.pop(aux)\n",
    "    else:\n",
    "        aux += 1\n",
    "print(lista_aux)"
   ]
  },
  {
   "cell_type": "code",
   "execution_count": 98,
   "metadata": {},
   "outputs": [
    {
     "data": {
      "text/plain": [
       "['b', 'c', 'd']"
      ]
     },
     "execution_count": 98,
     "metadata": {},
     "output_type": "execute_result"
    }
   ],
   "source": [
    "lista = ['a', 'b', 'c', 'a', 'a', 'd']\n",
    "while 'a' in lista:\n",
    "    lista.remove('a')\n",
    "lista"
   ]
  },
  {
   "cell_type": "code",
   "execution_count": 102,
   "metadata": {},
   "outputs": [],
   "source": [
    "lista = [{'nome': 'a'}, {'nome': 'b'}, {'nome': 'a'}]"
   ]
  },
  {
   "cell_type": "code",
   "execution_count": 103,
   "metadata": {},
   "outputs": [
    {
     "name": "stdout",
     "output_type": "stream",
     "text": [
      "[{'nome': 'b'}]\n"
     ]
    }
   ],
   "source": [
    "aux = 0\n",
    "lista_aux = lista.copy()\n",
    "for i in range(len(lista)):\n",
    "    if lista[i]['nome'] == 'a':\n",
    "        lista_aux.pop(aux)\n",
    "    else:\n",
    "        aux += 1\n",
    "print(lista_aux)"
   ]
  }
 ],
 "metadata": {
  "interpreter": {
   "hash": "9e1544ece40983b9dcb10e0aa1f5d0cdb8d9e539b9b8df5e9e5017ad7f05ebe2"
  },
  "kernelspec": {
   "display_name": "Python 3.9.2 64-bit",
   "language": "python",
   "name": "python3"
  },
  "language_info": {
   "codemirror_mode": {
    "name": "ipython",
    "version": 3
   },
   "file_extension": ".py",
   "mimetype": "text/x-python",
   "name": "python",
   "nbconvert_exporter": "python",
   "pygments_lexer": "ipython3",
   "version": "3.9.2"
  },
  "orig_nbformat": 4
 },
 "nbformat": 4,
 "nbformat_minor": 2
}
