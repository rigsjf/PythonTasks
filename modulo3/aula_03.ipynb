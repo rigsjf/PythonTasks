{
 "cells": [
  {
   "cell_type": "markdown",
   "metadata": {},
   "source": [
    "# Complexidade\n",
    "---"
   ]
  },
  {
   "cell_type": "markdown",
   "metadata": {},
   "source": [
    "## Recursos Computacionais"
   ]
  },
  {
   "cell_type": "markdown",
   "metadata": {},
   "source": [
    "Quando criamos um programa, o que o computador faz para rodá-lo?\n",
    "1. carrega na memória (RAM)\n",
    "2. envia as instruções para o processador (CPU), que as executa\n",
    "\n",
    "Mas será que carregar o programa na memória e executá-lo no processador são processos \"de graça\"?\n",
    "\n",
    "Se não, o que é gasto nesses processos?\n",
    "* "
   ]
  },
  {
   "cell_type": "markdown",
   "metadata": {},
   "source": [
    "Além disso, será que quando criamos uma variável, uma lista, um dicionário, isso tem algum tipo de \"custo\" para o computador?\n",
    "\n",
    "Se sim, qual?\n",
    "* "
   ]
  },
  {
   "cell_type": "markdown",
   "metadata": {},
   "source": [
    "Considerando que é importante sabermos gerir recursos computacionais, há algumas estratégias que podemos adotar para tornar nossos programas mais **eficientes**"
   ]
  },
  {
   "cell_type": "markdown",
   "metadata": {},
   "source": [
    "## Complexidade"
   ]
  },
  {
   "cell_type": "markdown",
   "metadata": {},
   "source": [
    "Maneira de medir a eficiência de um algoritmo matematicamente! \n",
    "\n",
    "A complexidade é uma **aproximação** da eficiência do algoritmo, representada por uma função matemática"
   ]
  },
  {
   "cell_type": "markdown",
   "metadata": {},
   "source": [
    "Mediremos a complexidade em *tempo de execução*, ou seja, quanto tempo uma tarefa leva para ser executada por completo"
   ]
  },
  {
   "cell_type": "markdown",
   "metadata": {},
   "source": [
    "**Exemplo**: calculando o tempo de execução de um programa em Python com a biblioteca `time`"
   ]
  },
  {
   "cell_type": "code",
   "execution_count": null,
   "metadata": {},
   "outputs": [],
   "source": [
    "import time\n",
    "\n",
    "inicio = time.time()\n",
    "\n",
    "frutas = ['maçã', 'pêra', 'banana', 'mamão']\n",
    "for fruta in frutas:\n",
    "    print(fruta)\n",
    "\n",
    "final = time.time()\n",
    "\n",
    "print(f'o programa acima levou {final - inicio} segundos pra ser executado')"
   ]
  },
  {
   "cell_type": "markdown",
   "metadata": {},
   "source": [
    "Mas aí nos deparamos com um problema: o tempo de execução acima **só é válido para uma lista com até 4 elementos!**"
   ]
  },
  {
   "cell_type": "markdown",
   "metadata": {},
   "source": [
    "E se a lista tiver **10** itens? E que tal **20**? E quando trabalhamos com ciência de dados, em que por vezes precisaremos processar **milhares** de dados? Como podemos *prever* quanto tempo o programa irá levar?"
   ]
  },
  {
   "cell_type": "markdown",
   "metadata": {},
   "source": [
    "Para analisarmos o tempo de execução, teremos que tomar algumas precauções\n",
    "\n",
    "Vamos pensar:: quanto tempo leva pra se criar uma variável chamada `cachorro` que tem o valor `3`?\n",
    "\n",
    "Além disso, será que interessa qual o comprimento do nome da variável? Ou seja, se criarmos `x` com o valor `3`, será que isso leva mais tempo ou menos tempo pro processador executar?"
   ]
  },
  {
   "cell_type": "markdown",
   "metadata": {},
   "source": [
    "Pra responder essas perguntas, precisaríamos analisar **muitas** variáveis! Por exemplo:\n",
    "* Frequência do processador\n",
    "* Eficiência do processador\n",
    "* Eficiência da memória RAM\n",
    "* etc.\n",
    "\n",
    "Isso **não é nada prático**! Mas se soubéssemos de tudo isso poderíamos dizer, *exatamente*, quais seriam os recursos gastos pra executar o código.\n",
    "\n",
    "Como não temos essas informações, vamos utilizar uma *aproximação* para termos uma estimativa de quanto tempo o programa vai levar pra ser executado, a depender de suas entradas\n",
    "\n",
    "E é exatamente disso que trata a análise de complexidade!"
   ]
  },
  {
   "cell_type": "markdown",
   "metadata": {},
   "source": [
    "A partir de agora não vamos mais nos preocupar com o valor exato do tempo de execução, mas sim modelar **matematicamente** como o tempo de execução para um determinado programa vai ser afetado pelas suas entradas ou, mais especificamente, pela **quantidade** das suas entradas."
   ]
  },
  {
   "cell_type": "markdown",
   "metadata": {},
   "source": [
    "### Análise de Complexidade"
   ]
  },
  {
   "cell_type": "markdown",
   "metadata": {},
   "source": [
    "#### Noção Intuitiva"
   ]
  },
  {
   "cell_type": "markdown",
   "metadata": {},
   "source": [
    "Examinando o programa abaixo, que soma os valores de um `range` a uma variável `soma`, vamos pensar em *quantas vezes* cada tarefa é executada."
   ]
  },
  {
   "cell_type": "code",
   "execution_count": null,
   "metadata": {},
   "outputs": [],
   "source": []
  },
  {
   "cell_type": "markdown",
   "metadata": {},
   "source": [
    "Se somarmos a quantidade de vezes que cada tarefa é executada, temos que ao todo o programa realiza `` operações"
   ]
  },
  {
   "cell_type": "markdown",
   "metadata": {},
   "source": [
    "No entanto, novamente estamos lidando com um número **fixo** de operações no loop\n",
    "\n",
    "Vamos criar uma função com o código acima, que nos permita ter um número **variável** de operações no loop"
   ]
  },
  {
   "cell_type": "code",
   "execution_count": null,
   "metadata": {},
   "outputs": [],
   "source": []
  },
  {
   "cell_type": "markdown",
   "metadata": {},
   "source": [
    "Dessa maneira, tornamos o número de operações realizadas no código acima ``"
   ]
  },
  {
   "cell_type": "markdown",
   "metadata": {},
   "source": [
    "Tendo isso em mente, vamos refletir: quanto maior for o valor de `num`, a função levará **mais** ou **menos** tempo?"
   ]
  },
  {
   "cell_type": "markdown",
   "metadata": {},
   "source": [
    "A análise de complexidade vai servir pra nos dizer *o quanto* mais ou menos tempos um algoritmo leva para um número maior ou menor de entradas\n",
    "\n",
    "Ou seja: a análise de complexidade nos permite responder a perguntas como: \"quando eu dobro o número de entradas, o tempo de execução do algoritmo dobra? Ou triplica? Ou quadruplica?\""
   ]
  },
  {
   "cell_type": "markdown",
   "metadata": {},
   "source": [
    "#### Operações Fundamentais"
   ]
  },
  {
   "cell_type": "markdown",
   "metadata": {},
   "source": [
    "Uma delicadeza a que devemos nos atentar na análise de complexidade é o conceito de *operação fundamental*\n",
    "\n",
    "Uma *operação fundamental* é uma maneira de simplificarmos uma operação que potencialmente tem muitos passos (operações) dentro de si, mas esses passos são executados um número constante de vezes\n"
   ]
  },
  {
   "cell_type": "markdown",
   "metadata": {},
   "source": [
    "Exemplo: amarrar o cadarço de um sapato\n",
    "\n",
    "Quando amarramos o cadarço de um sapato, há diversos passos que precisamos fazer: pegar um cadarço com a mão esquerda, pegar o outro com a mão direita, torcer um dos cadarços ao redor do outro, etc.\n",
    "\n",
    "Mas se alguém nos perguntasse o que estávamos fazendo nesse momento, responderíamos simplesmente \"estou amarrando o cadarço\"\n",
    "\n",
    "Ou seja, não nos interessa quantos passos estão sendo executados para o ato de amarrar o cadarço; só nos interessa que a ação \"macro\" sendo feita é amarrar o cadarço\n",
    "\n",
    "Se amarrássemos o cadarço de 5 sapatos, não diríamos que executamos o passo de segurar o cadarço 5 vezes, amarramos um cadarço ao redor do outro 5 vezes, etc. mas sim que amarramos o cadarço 5 vezes"
   ]
  },
  {
   "cell_type": "markdown",
   "metadata": {},
   "source": [
    "##### Exemplo Prático"
   ]
  },
  {
   "cell_type": "markdown",
   "metadata": {},
   "source": [
    "Vamos analisar a função `inverte_lista`, que aceita uma lista como argumento e a inverte"
   ]
  },
  {
   "cell_type": "code",
   "execution_count": 1,
   "metadata": {},
   "outputs": [],
   "source": [
    "def inverter_lista(lista):\n",
    "        tamanho = len(lista)\n",
    "        limite = tamanho//2\n",
    "        \n",
    "        for i in range(limite):\n",
    "                aux = lista[i]\n",
    "                lista[i] = lista[tamanho - i]\n",
    "                lista[tamanho - i] = aux"
   ]
  },
  {
   "cell_type": "markdown",
   "metadata": {},
   "source": [
    "Quantas operações são realizadas na função acima?\n",
    "\n",
    "Quantas *operações fundamentais* são realizadas na função acima?"
   ]
  },
  {
   "cell_type": "markdown",
   "metadata": {},
   "source": [
    "Lembrando que esse valor é **aproximado**! Mas na prática é só dessa aproximação que iremos precisar"
   ]
  },
  {
   "cell_type": "markdown",
   "metadata": {},
   "source": [
    "Agora vamos ver a seguinte função `inverter_lista2`, que faz a mesma coisa que a função anterior mas é escrita de maneira diferente"
   ]
  },
  {
   "cell_type": "code",
   "execution_count": 2,
   "metadata": {},
   "outputs": [],
   "source": [
    "def inverter_lista2(lista):\n",
    "        nova_lista = []\n",
    "        tamanho = len(lista)\n",
    "\n",
    "        for i in range(tamanho):\n",
    "                nova_lista.append(lista[tamanho - i])\n",
    "\n",
    "        return nova_lista"
   ]
  },
  {
   "cell_type": "markdown",
   "metadata": {},
   "source": [
    "Quantas *operações fundamentais* a função acima realiza?"
   ]
  },
  {
   "cell_type": "markdown",
   "metadata": {},
   "source": [
    "#### Notação de O grande (*big O notation*)"
   ]
  },
  {
   "cell_type": "markdown",
   "metadata": {},
   "source": [
    "Agora que temos a noção intuitiva da análise de complexidade, vamos aprender como expressar tudo isso **matematicamente**"
   ]
  },
  {
   "cell_type": "markdown",
   "metadata": {},
   "source": [
    "A *notação de O grande*, ou *big O notation* em inglês, é a expressão matemática da complexidade de um algoritmo, representada através de uma função matemática `O(n)`, sendo `n` a quantidade de entradas do algoritmo"
   ]
  },
  {
   "cell_type": "markdown",
   "metadata": {},
   "source": [
    "Na notação de O grande faremos novamente uma *aproximação* do valor da complexidade, discartando os termos **menos relevantes** para valores de `n` muito elevados"
   ]
  },
  {
   "cell_type": "markdown",
   "metadata": {},
   "source": [
    "Complexidade: `2 + 4*n`\n",
    "\n",
    "Para valor muito grande de `n` o valor de `2` se torna irrelevante, então simplificamos a expressão como:\n",
    "\n",
    "`4*n`"
   ]
  },
  {
   "cell_type": "markdown",
   "metadata": {},
   "source": [
    "Exemplo:\n",
    "\n",
    "A diferença entre **um milhão de reais** ou **um milhão e dois reais**, ou seja, de **2 reais**, é relevante considerando a quantia total? Não! Pois comparado a um milhão, dois reais praticamente não fazem diferença\n",
    "\n",
    "A mesma lógica será usada na notação de O grande"
   ]
  },
  {
   "cell_type": "markdown",
   "metadata": {},
   "source": [
    "Ou seja, para a primeira função temos:\n",
    "\n",
    "Complexidade = `` -> `O()`\n",
    "\n",
    "E para a segunda função:\n",
    "\n",
    "Complexidade = `` -> `O()`"
   ]
  },
  {
   "cell_type": "markdown",
   "metadata": {},
   "source": [
    "##### Expressando a complexidade com O grande"
   ]
  },
  {
   "cell_type": "markdown",
   "metadata": {},
   "source": [
    "Vamos aplicar a notação na prática! Voltemos a analisar as funções de inverter listas feitas acima"
   ]
  },
  {
   "cell_type": "code",
   "execution_count": null,
   "metadata": {},
   "outputs": [],
   "source": [
    "def inverter_lista(lista):\n",
    "        tamanho = len(lista)\n",
    "        limite = tamanho//2\n",
    "        \n",
    "        for i in range(limite):\n",
    "                aux = lista[i]\n",
    "                lista[i] = lista[tamanho - i]\n",
    "                lista[tamanho - i] = aux"
   ]
  },
  {
   "cell_type": "code",
   "execution_count": null,
   "metadata": {},
   "outputs": [],
   "source": [
    "def inverter_lista2(lista):\n",
    "        nova_lista = []\n",
    "        tamanho = len(lista)\n",
    "\n",
    "        for i in range(tamanho):\n",
    "                nova_lista.append(lista[tamanho - i])\n",
    "\n",
    "        return nova_lista"
   ]
  },
  {
   "cell_type": "markdown",
   "metadata": {},
   "source": [
    "Analisando as *operações fundamentais* de ambas as funções de inverter listas, qual delas parece mais **rápida**?"
   ]
  },
  {
   "cell_type": "markdown",
   "metadata": {},
   "source": [
    "Lembre-se que a notação de O grande trata-se de uma tremenda aproximação! O que nos interessa é o *comportamento* do algoritmo para valores crescentes de `n`; se dois algoritmos se comportam como **retas**, então independente de seus coeficientes (números que multiplicam ou somam) vamos dizer que se comportam de maneira *linear* (ou têm *complexidade linear*)"
   ]
  },
  {
   "cell_type": "markdown",
   "metadata": {},
   "source": [
    "Vamos agora analisar outro algoritmo, representado por uma função que recebe uma lista e verifica se algum item está duplicado"
   ]
  },
  {
   "cell_type": "code",
   "execution_count": null,
   "metadata": {},
   "outputs": [],
   "source": [
    "def tem_duplicados(lista):\n",
    "        for i in range(len(lista)-1):\n",
    "                for j in range(i+1, len(lista)):\n",
    "                        if lista[i] == lista[j]:\n",
    "                                return True\n",
    "\n",
    "        return False"
   ]
  },
  {
   "cell_type": "markdown",
   "metadata": {},
   "source": [
    "#### Valores de O grande"
   ]
  },
  {
   "cell_type": "markdown",
   "metadata": {},
   "source": [
    "Os valores de O grande a seguir estão em ordem de eficiência, ou seja, da **pior** à **melhor** eficiência"
   ]
  },
  {
   "cell_type": "markdown",
   "metadata": {},
   "source": [
    "| Notação | Nome |\n",
    "|---------|------|\n",
    "| O(n!) | Fatorial |\n",
    "| O(2**n) | Exponencial |\n",
    "| O(n**2) | Polinominal ou Quadrática |\n",
    "| O(n*log(n)) | Logarítmica |\n",
    "| O(n) | Linear |\n",
    "| O(log(n)) | Logarítmica |\n",
    "| O(1) | Constante | "
   ]
  },
  {
   "cell_type": "markdown",
   "metadata": {},
   "source": []
  }
 ],
 "metadata": {
  "interpreter": {
   "hash": "e7370f93d1d0cde622a1f8e1c04877d8463912d04d973331ad4851f04de6915a"
  },
  "kernelspec": {
   "display_name": "Python 3.10.2 64-bit",
   "language": "python",
   "name": "python3"
  },
  "language_info": {
   "codemirror_mode": {
    "name": "ipython",
    "version": 3
   },
   "file_extension": ".py",
   "mimetype": "text/x-python",
   "name": "python",
   "nbconvert_exporter": "python",
   "pygments_lexer": "ipython3",
   "version": "3.10.2"
  },
  "orig_nbformat": 4
 },
 "nbformat": 4,
 "nbformat_minor": 2
}
