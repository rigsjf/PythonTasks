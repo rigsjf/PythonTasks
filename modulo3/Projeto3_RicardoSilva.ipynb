{
 "cells": [
  {
   "cell_type": "markdown",
   "metadata": {},
   "source": [
    "Projeto Módulo 3\n",
    "Você irá receber uma lista bi-dimensional com altura e largura não necessáriamente iguais contendo apenas 0's e 1's. Cada 1 representa um pedaço de rio, enquanto os 0's representam terra. Rios são compostos por 1's adjacentes horizontalmente ou verticalmente (mas não diagonalmente). O número de 1's adjacentes representa o tamanho do rio.\n",
    "\n",
    "Note que o rio pode fazer curvas, isto é, rios podem ter formato de L ou até mesmo de cruz e são considerados um rio só.\n",
    "\n",
    "Crie um algoritmo que receba esta lista bi-dimensional e retorne uma lista com os tamanhos dos rios dentro dessa estrutura, os tamanhos de rios dentro da lista resposta não precisam ter uma ordem específica.\n",
    "\n",
    "Exemplo de entrada:\n",
    "\n",
    "matrix = [\n",
    "    [1, 0, 0, 1, 0],\n",
    "    [1, 0, 1, 0, 0],\n",
    "    [0, 0, 1, 0, 1],\n",
    "    [1, 0, 1, 0, 1],\n",
    "    [1, 0, 1, 1, 0],\n",
    "]\n",
    "Saída esperada:\n",
    "\n",
    "[1, 2, 2, 2, 5] # Note que os números poderiam estar em qualquer ordem dentro da lista"
   ]
  },
  {
   "cell_type": "code",
   "execution_count": 8,
   "metadata": {},
   "outputs": [],
   "source": [
    "class Rio:\n",
    "    def __init__ (self,tamanho,coordX,coordY):\n",
    "        self.tamanho = tamanho\n",
    "        self.nascente = (coordX, coordY)\n",
    "        self.leito = []\n",
    "\n",
    "    def verifica_nascente(self, coordX, coordY):\n",
    "        if self.nascente[0]==coordX and self.nascente[1]== coordY:\n",
    "            return True\n",
    "        else:\n",
    "            return False\n",
    "\n",
    "    def adiciona_trecho(self,coordX,coordY):\n",
    "        trecho = (coordX,coordY)\n",
    "        self.leito.append(trecho)\n",
    "\n",
    "    def verifica_trecho(trecho,coordX,coordY):\n",
    "        if trecho[0]==coordX and trecho[1]==coordY:\n",
    "            return True\n",
    "        else:\n",
    "            return False\n",
    "     \n",
    "    def verifica_leito(self, coordX, coordY):\n",
    "        hipotese = False\n",
    "        for i in range(len(self.leito)):\n",
    "            if self.leito[i].verifica_trecho():\n",
    "                hipotese = True\n",
    "        return hipotese\n",
    "\n",
    "\n",
    "class bacia_hidrografica(Rio):\n",
    "    def __init__(self,nome):\n",
    "        self.nome = nome\n",
    "        self.leito = []\n",
    "        self.bacia = []\n",
    "    \n",
    "    def adiciona_rio(self,Rio):\n",
    "        self.bacia.append(Rio)\n",
    "        print('Rio adicionado')\n",
    "\n",
    "    def consulta_rio(self,coordX,coordY):\n",
    "        if self.bacia.len() == 0:\n",
    "            return False\n",
    "        else:\n",
    "            hipotese = False\n",
    "            for i in range(len(self.bacia)):\n",
    "                if self.bacia[i].verifica_nascente():\n",
    "                    hipotese = True\n",
    "                elif self.bacia[i].verifica_trecho():\n",
    "                    hipotese = True\n",
    "\n",
    "    def localiza_trechos_rio(self, matrix):\n",
    "        for i in range(len(matrix)):\n",
    "            for j in range(len(matrix[i])):\n",
    "                if matrix[i][j] == 1:\n",
    "                    self.adiciona_trecho(i,j)\n",
    "                    print(f'Trecho {i},{j} adiconado à bacia!')\n",
    "\n",
    "    def mapeia_rios(self):\n",
    "        pass\n"
   ]
  },
  {
   "cell_type": "code",
   "execution_count": 9,
   "metadata": {},
   "outputs": [
    {
     "name": "stdout",
     "output_type": "stream",
     "text": [
      "Trecho 0,0 adiconado à bacia!\n",
      "Trecho 0,3 adiconado à bacia!\n",
      "Trecho 1,0 adiconado à bacia!\n",
      "Trecho 1,2 adiconado à bacia!\n",
      "Trecho 2,2 adiconado à bacia!\n",
      "Trecho 2,4 adiconado à bacia!\n",
      "Trecho 3,0 adiconado à bacia!\n",
      "Trecho 3,2 adiconado à bacia!\n",
      "Trecho 3,4 adiconado à bacia!\n",
      "Trecho 4,0 adiconado à bacia!\n",
      "Trecho 4,2 adiconado à bacia!\n",
      "Trecho 4,3 adiconado à bacia!\n"
     ]
    },
    {
     "data": {
      "text/plain": [
       "{'nome': 'Tietê',\n",
       " 'leito': [(0, 0),\n",
       "  (0, 3),\n",
       "  (1, 0),\n",
       "  (1, 2),\n",
       "  (2, 2),\n",
       "  (2, 4),\n",
       "  (3, 0),\n",
       "  (3, 2),\n",
       "  (3, 4),\n",
       "  (4, 0),\n",
       "  (4, 2),\n",
       "  (4, 3)],\n",
       " 'bacia': []}"
      ]
     },
     "execution_count": 9,
     "metadata": {},
     "output_type": "execute_result"
    }
   ],
   "source": [
    "matrix = [\n",
    "    [1, 0, 0, 1, 0],\n",
    "    [1, 0, 1, 0, 0],\n",
    "    [0, 0, 1, 0, 1],\n",
    "    [1, 0, 1, 0, 1],\n",
    "    [1, 0, 1, 1, 0],\n",
    "]\n",
    "\n",
    "bacia_1 = bacia_hidrografica('Tietê')\n",
    "bacia_1.__dict__\n",
    "bacia_1.localiza_trechos_rio(matrix)\n",
    "bacia_1.__dict__\n",
    "    \n"
   ]
  },
  {
   "cell_type": "code",
   "execution_count": null,
   "metadata": {},
   "outputs": [],
   "source": []
  }
 ],
 "metadata": {
  "interpreter": {
   "hash": "a8c1520f453d7cff471ea5e0d33f58822f289c9ba004cd8db46aceed877cb5de"
  },
  "kernelspec": {
   "display_name": "Python 3.10.1 64-bit",
   "language": "python",
   "name": "python3"
  },
  "language_info": {
   "codemirror_mode": {
    "name": "ipython",
    "version": 3
   },
   "file_extension": ".py",
   "mimetype": "text/x-python",
   "name": "python",
   "nbconvert_exporter": "python",
   "pygments_lexer": "ipython3",
   "version": "3.10.1"
  },
  "orig_nbformat": 4
 },
 "nbformat": 4,
 "nbformat_minor": 2
}
