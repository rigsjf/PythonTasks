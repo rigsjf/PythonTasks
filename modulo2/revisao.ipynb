{
 "cells": [
  {
   "cell_type": "code",
   "execution_count": null,
   "metadata": {},
   "outputs": [],
   "source": [
    "class Pessoa"
   ]
  },
  {
   "cell_type": "markdown",
   "metadata": {},
   "source": [
    "\n",
    "- Dentro da classe, primeiramente criamos o **método construtor** para definir seus atributos; este método é definido pelo identificador `__init__` (note que são dois \"_\", antes e depois!). Não esqueça de passar o `self` como primeiro argumento!\n",
    "\t- No geral, vamos passar como argumentos no método construtor os atributos **dinâmicos** da classe, ou seja, aqueles que mudam de acordo com cada objeto (no caso, o nome da pessoa e sua idade)  "
   ]
  },
  {
   "cell_type": "code",
   "execution_count": null,
   "metadata": {},
   "outputs": [],
   "source": [
    "class Pessoa:\n",
    "\tdef __init__(self, nome, idade, estado_civil):\n",
    "\t\tself.nome = nome\n",
    "\t\tself.idade = idade\n",
    "\t\tself.estado_civil = estado_civil\n",
    "\n",
    "pessoa1 = Pessoa('matheus', 21, 'solteiro')"
   ]
  },
  {
   "cell_type": "markdown",
   "metadata": {},
   "source": [
    "### Atributos Estáticos\n",
    "\n",
    "- Feito isso, vamos assumir que além dos dados específicos do objeto (o que chamamos de atributos **dinâmicos**) também queremos que cada objeto da classe Pessoa guarde sua espécie, ou seja, 'Homo Sapiens Sapiens'\n",
    "\t- Vamos refletir: por acaso a espécie do ser humano muda para cada pessoa? Não! Assim, é um atributo que tem o **mesmo** valor para qualquer objeto da classe. Denominamos esse tipo de atributo de **atributo estático**, e o definimos fora do escopo do construtor:"
   ]
  },
  {
   "cell_type": "code",
   "execution_count": null,
   "metadata": {},
   "outputs": [],
   "source": [
    "class Pessoa:\n",
    "\tespecie = 'Homo Sapiens Sapiens'\n",
    "\t\n",
    "\tdef __init__(self, nome, idade):\n",
    "\t\tself.nome = nome\n",
    "\t\tself.idade = idade\n",
    "\n",
    "pessoa1 = Pessoa('matheus', 21)\n",
    "pessoa1.especie"
   ]
  },
  {
   "cell_type": "markdown",
   "metadata": {},
   "source": [
    "- Lembremos que métodos nada mais são que funções no escopo de uma classe, ou seja, tudo que vale para funções vale para métodos. No entanto, há algumas peculiariedades quanto falamos de métodos em relação a funções\n",
    "\t- A mais óbvia é que, para métodos *em geral*, precisaremos sempre passar o argumento `self` na primeira posição, **mesmo que** não acesse nenhum atributo do objeto (como em `self.nome`). Assim, o código acima corrigido fica da seguinte maneira:"
   ]
  },
  {
   "cell_type": "code",
   "execution_count": null,
   "metadata": {},
   "outputs": [],
   "source": [
    "class Pessoa: \n",
    "\tespecie = 'Homo Sapiens Sapiens'\n",
    "\t\n",
    "\tdef __init__(self, nome, idade):\n",
    "\t\tself.nome = nome\n",
    "\t\tself.idade = idade\n",
    "\t\t\n",
    "\tdef comer(self):\n",
    "\t\tprint('estou comendo')"
   ]
  },
  {
   "cell_type": "markdown",
   "metadata": {},
   "source": [
    "- E se quisermos imprimir *o que* a pessoa está comendo? Como vimos em funções, basta passar a \"comida\" como argumento e passá-la como parâmetro para a função `print()`, sempre lembrando de manter o `self` na primeira posição.\n"
   ]
  },
  {
   "cell_type": "code",
   "execution_count": null,
   "metadata": {},
   "outputs": [],
   "source": [
    "class Pessoa: \n",
    "\tespecie = 'Homo Sapiens Sapiens'\n",
    "\t\n",
    "\tdef __init__(self, nome, idade):  \n",
    "\t\tself.nome = nome\n",
    "\t\tself.idade = idade\n",
    "\t\t\n",
    "\tdef comer(self, comida):\n",
    "\t\tprint('estou comendo', comida)"
   ]
  },
  {
   "cell_type": "markdown",
   "metadata": {},
   "source": [
    "### Acessando atributos\n",
    "\n",
    "- Agora, vamos pensar na seguinte situação: uma pessoa quer se apresentar, e para isso precisa dizer seus próprio nome. Sabemos que na nossa classe há um atributo, `nome` que guarda o nome da pessoa. Então, podemos utilizar esse valor com a sintaxe `<nome do objeto>.<nome do atributo>`"
   ]
  },
  {
   "cell_type": "code",
   "execution_count": null,
   "metadata": {},
   "outputs": [],
   "source": [
    "class Pessoa: \n",
    "\tespecie = 'Homo Sapiens Sapiens'\n",
    "\t\n",
    "\tdef __init__(self, nome, idade):\n",
    "\t\tself.nome = nome\n",
    "\t\tself.idade = idade\n",
    "\t\t\n",
    "\tdef comer(self, comida):\n",
    "\t\tprint('estou comendo', comida)\n",
    "\t\t\n",
    "\tdef apresentar(self):\n",
    "\t\tprint('olá! meu nome é', self.nome)"
   ]
  },
  {
   "cell_type": "markdown",
   "metadata": {},
   "source": [
    "### Passando objetos como parâmetro\n",
    "\n",
    "- Agora, vamos pensar na seguinte situação: uma pessoa quer dar bom dia para outra pessoa, chamando-a pelo nome. Vamos implementar isso usando orientação a objetos!\n",
    "- Lembremos do seguinte: os argumentos de a uma função podem ser de qualquer *tipo*, num primeiro momento. Como criar uma classe é equivalente, em Python, a criar um **novo** tipo, podemos também passar objetos como argumentos de uma função!\n",
    "\t- Assim, definiríamos o método `dar_bom_dia` da seguinte maneira, sendo `outra_pessoa` um objeto da classe `Pessoa` a ser passado como argumento:"
   ]
  },
  {
   "cell_type": "code",
   "execution_count": null,
   "metadata": {},
   "outputs": [],
   "source": [
    "def dar_bom_dia(self, outra_pessoa):"
   ]
  },
  {
   "cell_type": "markdown",
   "metadata": {},
   "source": [
    "\n",
    "- Tendo isso em mente, podemos então acessar os atributos da outra pessoa utilizando a mesma sintaxe de `<objeto>.<atributo>`:"
   ]
  },
  {
   "cell_type": "code",
   "execution_count": null,
   "metadata": {},
   "outputs": [],
   "source": [
    "def dar_bom_dia(self, outra_pessoa):\n",
    "\tprint('bom dia,', outra_pessoa.nome)"
   ]
  },
  {
   "cell_type": "markdown",
   "metadata": {},
   "source": [
    "- Adicionando o método na classe, temos:\n"
   ]
  },
  {
   "cell_type": "code",
   "execution_count": null,
   "metadata": {},
   "outputs": [],
   "source": [
    "class Pessoa: \n",
    "\tespecie = 'Homo Sapiens Sapiens'\n",
    "\t\n",
    "\tdef __init__(self, nome, idade):  \n",
    "\t\tself.nome = nome\n",
    "\t\tself.idade = idade\n",
    "\t\t\n",
    "\tdef comer(self, comida):\n",
    "\t\tprint('estou comendo', comida)\n",
    "\t\t\n",
    "\tdef apresentar(self):\n",
    "\t\tprint('olá! meu nome é', self.nome)\n",
    "\t\t\n",
    "\tdef dar_bom_dia(self, outra_pessoa):\n",
    "\t\tprint('bom dia,', outra_pessoa.nome)"
   ]
  },
  {
   "cell_type": "markdown",
   "metadata": {},
   "source": [
    "### Métodos Estáticos\n",
    "\n",
    "- Mas, e se por exemplo quisermos imprimir o valor da `especie` da classe `Pessoa`?\n",
    "\t- Vamos refletir: o atributo `especie` é **estático**, portanto *não muda de objeto para objeto*. Assim sendo, será que faz sentido usarmos um *objeto*, por exemplo, `objeto_pessoa.especie` para acessar seu valor? \n",
    "\t\t- Para acessar atributos estáticos, ao invés de utilizar *objetos*, vamos utilizar *a classe como um todo*. Portanto, a sintaxe seria: `<Classe>.<atributo_estatico>` ou, no nosso caso:"
   ]
  },
  {
   "cell_type": "code",
   "execution_count": null,
   "metadata": {},
   "outputs": [],
   "source": [
    "Pessoa.especie"
   ]
  },
  {
   "cell_type": "markdown",
   "metadata": {},
   "source": [
    "- Tendo isso em mente, vamos criar um método dentro da classe `Pessoa` que imprima qual a espécie associada ao ser humano.\n",
    "- Vamos tentar, num primeiro momento, a mesma abordagem que utilizamos para qualquer método:"
   ]
  },
  {
   "cell_type": "code",
   "execution_count": null,
   "metadata": {},
   "outputs": [],
   "source": [
    "\n",
    "def imprime_especie(self):\n",
    "\tprint('a espécie da classe Pessoa é', self.especie)"
   ]
  },
  {
   "cell_type": "markdown",
   "metadata": {},
   "source": [
    "- Mas note o que fizemos acima! Estamos utilizando o `self`, que diz respeito ao *objeto*, para acessar um atributo *da classe*! Ou seja, utilizar o `self` como fazemos em outros métodos, é contraditório com o que acabamos de comentar sobre atributos estáticos\n",
    "- Tentemos, então, simplesmente retirar o `self` da função, e chamar o atributo espécie na sintaxe que vimos mais acima, utilizando a *classe*:"
   ]
  },
  {
   "cell_type": "code",
   "execution_count": null,
   "metadata": {},
   "outputs": [],
   "source": [
    "class Pessoa: \n",
    "\tespecie = 'Homo Sapiens Sapiens'\n",
    "\t\n",
    "\tdef __init__(self, nome, idade):  \n",
    "\t\tself.nome = nome\n",
    "\t\tself.idade = idade\n",
    "\t\t\n",
    "\tdef comer(self, comida):\n",
    "\t\tprint('estou comendo', comida)\n",
    "\t\t\n",
    "\tdef apresentar(self):\n",
    "\t\tprint('olá! meu nome é', self.nome)\n",
    "\t\t\n",
    "\tdef dar_bom_dia(self, outra_pessoa):\n",
    "\t\tprint('bom dia,', outra_pessoa.nome)\n",
    "\n",
    "\tdef imprime_especie():\n",
    "\t\tprint('a espécie da classe Pessoa é', Pessoa.especie)\n",
    "\n",
    "pessoa2 = Pessoa('otavio', 26)\n",
    "\n",
    "Pessoa.imprime_especie()\n",
    "pessoa2.imprime_especie()"
   ]
  },
  {
   "cell_type": "markdown",
   "metadata": {},
   "source": [
    "- Tente adicionar o método acima na classe e chamá-lo no código, usando a sintaxe `objeto.metodo()`\n",
    "- Lembremos que o motivo pelo qual sempre passamos o `self` como argumento na primeira posição de um método é porque, por padrão, ao utilizarmos a sintaxe `objeto.metodo()` o interpretador do Python já passa o **próprio objeto** como parâmetro na primeira posição do método que está chamando!\n",
    "- Portanto para consertar o método acima, de maneira que possa ser chamado através da sintaxe `Classe.imprime_especie()`, precisamos adicionar um último detalhe: `@staticmethod` na linha imediatamente acima do cabeçalho da função (a linha com `def`)"
   ]
  },
  {
   "cell_type": "code",
   "execution_count": null,
   "metadata": {},
   "outputs": [],
   "source": [
    "@staticmethod\n",
    "def imprime_especie():\n",
    "\tprint('a espécie da classe Pessoa é', Pessoa.especie)"
   ]
  },
  {
   "cell_type": "markdown",
   "metadata": {},
   "source": [
    "- E pronto! Adicionando o método acima no escopo da classe `Pessoa` podemos fazer com que esse método **só possa ser chamado** pela *classe*, ou seja, `Pessoa.imprime_especie()`, e não pelo *objeto*"
   ]
  },
  {
   "cell_type": "code",
   "execution_count": null,
   "metadata": {},
   "outputs": [],
   "source": [
    "class Pessoa: \n",
    "\tespecie = 'Homo Sapiens Sapiens'\n",
    "\t\n",
    "\tdef __init__(self, nome, idade):  \n",
    "\t\tself.nome = nome\n",
    "\t\tself.idade = idade\n",
    "\t\t\n",
    "\tdef comer(self, comida):\n",
    "\t\tprint('estou comendo', comida)\n",
    "\t\t\n",
    "\tdef apresentar(self):\n",
    "\t\tprint('olá! meu nome é', self.nome)\n",
    "\t\t\n",
    "\tdef dar_bom_dia(self, outra_pessoa):\n",
    "\t\tprint('bom dia,', outra_pessoa.nome)\n",
    "\n",
    "\tdef chama_estatico(self):\n",
    "\t\tprint('eu sou um objeto da classe Pessoa e')\n",
    "\t\tPessoa.imprime_especie()\n",
    "\t\t\n",
    "\t@staticmethod\n",
    "\tdef imprime_especie():\n",
    "\t\tprint('a espécie da classe Pessoa é', Pessoa.especie)\n",
    "\n",
    "andre = Pessoa('andre', 24)\n",
    "Pessoa.imprime_especie()"
   ]
  },
  {
   "cell_type": "markdown",
   "metadata": {},
   "source": [
    "Agora, vamos pensar na seguinte situação: considerando a classe `Pessoa` acima, queremos criar uma nova classe, `Trabalhador`, que nada mais é que uma pessoa que trabalha. Assim, um objeto da classe `Trabalhador` terá todas as características de um objeto da classe `Pessoa`, mas com algumas peculiaridades\n",
    "\n",
    "Abordagem inicial: criar uma nova classe chamada `Trabalhador` que é uma cópia exata da classe `Pessoa`, mas adiciona atributos e métodos específicos para seu funcionamento\n",
    "\t- Mas e se tivermos, posteriormente, que alterar alguma coisa na classe `Pessoa`? Decidimos, por exemplo, criar um novo método ou adicionamos algum atributo que vai nos ajudar a solucionar um problema. Se quisermos que essas mudanças sejam traduzidas também à classe `Trabalhador`, precisaríamos alterar todas as linhas diferentes da classe `Pessoa` em seu código!\n",
    "\n",
    "Abordagem recomendada: **Herança**"
   ]
  },
  {
   "cell_type": "markdown",
   "metadata": {},
   "source": [
    "### Herança \n",
    "\n",
    "- A partir de agora utilizaremos o seguinte jargão: no nosso exemplo, queremos que a classe `Trabalhador` tenha como base a classe `Pessoa`. Assim, estabeleceremos as seguintes relações:\n",
    "\t- `Pessoa` é a **classe mãe** de `Trabalhador`\n",
    "\t- `Trabalhador` é **classe filha** de `Pessoa`\n",
    "- Assim, se quisermos criar uma nova classe `Trabalhador` que seja **filha** de `Pessoa`, podemos usar a seguinte sintaxe:"
   ]
  },
  {
   "cell_type": "code",
   "execution_count": null,
   "metadata": {},
   "outputs": [],
   "source": [
    "class ClasseFilha(ClasseMae)"
   ]
  },
  {
   "cell_type": "markdown",
   "metadata": {},
   "source": [
    "- Mas o que isso significa na prática? Agora que temos uma classe filha derivada de uma classe mãe, a classe filha **herda** os atributos e métodos da classe mãe. Ou seja, a classe `Trabalhador` já tem os atributos `nome`, `idade` e `especie`, além dos métodos `comer()`, `apresentar()`, `dar_bom_dia()` e `imprime_especie()`, assim como a classe `Pessoa`. Portanto, não precisamos definir nada disso novamente!\n",
    "\t- Tente criar um objeto do tipo `Trabalhador` e imprimir atributos como `nome` ou `idade`, e chamar métodos como `apresentar()`\n",
    "- Em contrapartida, agora podemos criar métodos específicos da classe `Trabalhador` que levem em conta as informações herdadas de `Pessoa`, como por exemplo um método que imprime o nome e a idade de um objeto da classe `Trabalhador`"
   ]
  },
  {
   "cell_type": "code",
   "execution_count": null,
   "metadata": {},
   "outputs": [],
   "source": [
    "class Trabalhador(Pessoa):\n",
    "    pass\n",
    "\n",
    "trabalhador = Trabalhador('matheus', 21)"
   ]
  },
  {
   "cell_type": "code",
   "execution_count": null,
   "metadata": {},
   "outputs": [],
   "source": [
    "class Trabalhador(Pessoa):\n",
    "\tdef info(self):\n",
    "\t\tprint(f'meu nome é {self.nome}, e minha idade é {self.idade}')\n",
    "\n",
    "trabalhador = Trabalhador('matheus', 21)\n",
    "\n",
    "trabalhador.info()"
   ]
  },
  {
   "cell_type": "markdown",
   "metadata": {},
   "source": [
    "#### A função super()\n",
    "\n",
    "Consideremos o seguinte: uma pessoa que trabalha provavelmente está empregada em uma empresa. Além disso, pode ser que dentro da empresa essa pessoa tenha algum registro específico, usado para identificação e indexação nos sistemas da empresa.\n",
    "\n",
    "- Vamos pensar em como implementar isso: queremos criar dois atributos novos para a classe `Trabalhador`, mas ao mesmo tempo queremos manter os atributos que a classe já têm, derivados da classe `Pessoa`. Ou seja, queremos que a classe `Trabalhador` tenha um construtor próprio, mas sem interferir no construtor de `Pessoa`\n",
    "\t- Estratégia: receber como parâmetros os parâmetros do construtor da classe mãe, mas adicionar argumentos para o nome da empresa e registro do trabalhador"
   ]
  },
  {
   "cell_type": "code",
   "execution_count": null,
   "metadata": {},
   "outputs": [],
   "source": [
    "class Trabalhador(Pessoa):\n",
    "\tdef __init__(self, nome, idade, cargo):\n",
    "\t\tself.cargo = cargo\n",
    "\t\n",
    "\tdef info(self):\n",
    "\t\tprint(f'meu nome é {self.nome}, e minha idade é {self.idade}, e meu cargo é {self.cargo}')\n",
    "\n",
    "trabalha = Trabalhador('matheus', 21, 'professor')\n",
    "#trabalha.info()"
   ]
  },
  {
   "cell_type": "markdown",
   "metadata": {},
   "source": [
    "- Isso funciona pra criar os atributos `empresa` e `registro`, mas será que o construtor da classe mãe, que utilizaria os argumentos `nome` e `idade`, será chamado normalmente?\n",
    "- **Solução:** chamar diretamente o construtor da classe mãe, através da função `super()`\n",
    "\t- A sintaxe genérica é a seguinte: `super().<método da classe mãe>`\n",
    "\t- Dessa maneira, podemos chamar o método construtor da classe mãe dentro do construtor da classe filha!\n",
    "\t\t- Obs.: é boa prática colocar o construtor da classe mãe ao final do construtor da classe filha, depois de quaisquer novos atributos adicionados"
   ]
  },
  {
   "cell_type": "code",
   "execution_count": null,
   "metadata": {},
   "outputs": [],
   "source": [
    "class Trabalhador(Pessoa):\n",
    "\tdef __init__(self, nome, idade, cargo):\n",
    "\t\tself.cargo = cargo\n",
    "\t\t\n",
    "\t\tsuper().__init__(nome, idade)\n",
    "\t\n",
    "\tdef info(self):\n",
    "\t\tprint(f'meu nome é {self.nome}, e minha idade é {self.idade}')\n"
   ]
  },
  {
   "cell_type": "markdown",
   "metadata": {},
   "source": [
    "### Polimorfismo\n",
    "\n",
    "Um dos fundamentos da programação orientada a objetos é o chamado *Princípio da Substituição* (ou *Princípio da Substituição de Liskov*). O princípio diz que, tendo-se duas classes, uma classe mãe e a outra classe filha da primeira, em todas as situações em que um objeto da classe mãe é utilizado uma classe filha pode ser usada em seu lugar."
   ]
  },
  {
   "cell_type": "markdown",
   "metadata": {},
   "source": [
    "#### Exemplo prático\n",
    "\n",
    "A função `isinstance()` recebe como argumentos um objeto e uma classe e retorna `True` caso o objeto seja pertencente à aquela classe, e `False` caso contrário.\n",
    "\n",
    "Sendo `Pessoa` classe mãe e `Trabalhador` classe filha de `Pessoa`, vamos criar os seguintes objetos:"
   ]
  },
  {
   "cell_type": "code",
   "execution_count": null,
   "metadata": {},
   "outputs": [],
   "source": [
    "pessoa = Pessoa('felipe', 27)\n",
    "trabalhador = Trabalhador('marcelo', 40, 'analista')"
   ]
  },
  {
   "cell_type": "markdown",
   "metadata": {},
   "source": [
    "Se imprimirmos o valor de `isistance()` para os seguintes casos, qual será o resultado?"
   ]
  },
  {
   "cell_type": "code",
   "execution_count": null,
   "metadata": {},
   "outputs": [],
   "source": [
    "print(isinstance(pessoa, Pessoa))\n",
    "print(isinstance(pessoa, Trabalhador))"
   ]
  },
  {
   "cell_type": "code",
   "execution_count": null,
   "metadata": {},
   "outputs": [],
   "source": [
    "print(isinstance(trabalhador, Trabalhador))\n",
    "print(isinstance(trabalhador, Pessoa))"
   ]
  },
  {
   "cell_type": "markdown",
   "metadata": {},
   "source": [
    "#### Como isso é útil?"
   ]
  },
  {
   "cell_type": "markdown",
   "metadata": {},
   "source": [
    "Vamos imaginar o seguinte: temos uma classe `Passaro` que tem as características básicas de um pássaro: duas asas, cor das penas. Além disso, o pássaro consegue cantar com o método `cantar()`"
   ]
  },
  {
   "cell_type": "code",
   "execution_count": null,
   "metadata": {},
   "outputs": [],
   "source": [
    "class Passaro:\n",
    "    def __init__(self, cores, especie):\n",
    "        self.cores = cores\n",
    "        self.especie = especie\n",
    "\n",
    "    def voa(self):\n",
    "        print('estou voando')\n",
    "\n",
    "    def canta(self):\n",
    "        print('piu piu piu')"
   ]
  },
  {
   "cell_type": "markdown",
   "metadata": {},
   "source": [
    "Agora, vamos criar dois objetos da classe `Passaro`, bem_te_vi e maritaca"
   ]
  },
  {
   "cell_type": "code",
   "execution_count": null,
   "metadata": {},
   "outputs": [],
   "source": [
    "bem_te_vi = Passaro('amarelo e branco', 'bem-te-vi')\n",
    "maritaca = Passaro('verde e amarelo', 'maritaca')\n",
    "\n",
    "print(bem_te_vi.canta())\n",
    "print(maritaca.canta())"
   ]
  },
  {
   "cell_type": "markdown",
   "metadata": {},
   "source": [
    "O código funciona, mas... um bem-te-vi e uma maritaca não têm o mesmo canto! Como podemos resolver?"
   ]
  },
  {
   "cell_type": "markdown",
   "metadata": {},
   "source": [
    "**Sugestão:** criar duas classes derivadas, `BemTeVi` e `Maritaca`, e redefinir o método `cantar()` nelas"
   ]
  },
  {
   "cell_type": "code",
   "execution_count": null,
   "metadata": {},
   "outputs": [],
   "source": [
    "class BemTeVi(Passaro):\n",
    "    def canta(self):\n",
    "        print('bem-te-vi')\n",
    "\n",
    "class Maritaca(Passaro):\n",
    "    def canta(self):\n",
    "        print('maritaaaca')\n",
    "\n",
    "bem_te_vi = BemTeVi('amarelo e branco', 'bem-te-vi')\n",
    "maritaca = Maritaca('verde e amarelo', 'maritaca')\n",
    "\n",
    "bem_te_vi.canta()\n",
    "maritaca.canta()"
   ]
  },
  {
   "cell_type": "markdown",
   "metadata": {},
   "source": [
    "### Métodos Mágicos"
   ]
  },
  {
   "cell_type": "markdown",
   "metadata": {},
   "source": [
    "Você já se perguntou por que o seguinte exemplo dá certo?"
   ]
  },
  {
   "cell_type": "code",
   "execution_count": null,
   "metadata": {},
   "outputs": [],
   "source": [
    "str1 = 'olá '\n",
    "str2 = 'marilene'\n",
    "\n",
    "frase = str1 + str2\n",
    "\n",
    "print(frase)"
   ]
  },
  {
   "cell_type": "markdown",
   "metadata": {},
   "source": [
    "Vamos pensar assim: a operação `+` soma dois números, como em"
   ]
  },
  {
   "cell_type": "code",
   "execution_count": null,
   "metadata": {},
   "outputs": [],
   "source": [
    "soma = 1 + 2\n",
    "\n",
    "print(soma)"
   ]
  },
  {
   "cell_type": "markdown",
   "metadata": {},
   "source": [
    "Mas strings não são números! Então o que está acontecendo? Como o interpretador do Python sabe que somar duas strings nos fornece uma nova string que é a concatenação de ambas?"
   ]
  },
  {
   "cell_type": "markdown",
   "metadata": {},
   "source": [
    "A resposta é a seguinte: o operador `+` na verdade é a chamada para uma função. Não só qualquer função, mas sim um método. E o que esse método retorna depende de quais objetos o estão chamando.\n",
    "\n",
    "Confuso? Vamos tentar entender melhor o que está acontecendo."
   ]
  },
  {
   "cell_type": "markdown",
   "metadata": {},
   "source": [
    "Voltando aos exemplos anteriores, quando nós observamos o seguinte código:"
   ]
  },
  {
   "cell_type": "code",
   "execution_count": null,
   "metadata": {},
   "outputs": [],
   "source": [
    "soma = 1 + 2\n",
    "\n",
    "print(soma)"
   ]
  },
  {
   "cell_type": "markdown",
   "metadata": {},
   "source": [
    "Pense que, pro interpretador do Python, o que está acontecendo é o seguinte:"
   ]
  },
  {
   "cell_type": "code",
   "execution_count": null,
   "metadata": {},
   "outputs": [],
   "source": [
    "soma = 1.somar(2)\n",
    "\n",
    "print(soma)"
   ]
  },
  {
   "cell_type": "markdown",
   "metadata": {},
   "source": [
    "No entanto, se rodamos o código acima um **erro** ocorre. Isso porque a função `somar()` não existe de fato, foi apenas um exemplo didático. O que acontece, na verdade, é que a função \"somar\" em Python é chamada de `__add__()`"
   ]
  },
  {
   "cell_type": "markdown",
   "metadata": {},
   "source": [
    "Portanto, o que o interpretador **realmente** veria é:"
   ]
  },
  {
   "cell_type": "code",
   "execution_count": null,
   "metadata": {},
   "outputs": [],
   "source": [
    "soma = 1.__add__(2)\n",
    "\n",
    "print(soma)"
   ]
  },
  {
   "cell_type": "markdown",
   "metadata": {},
   "source": [
    "Mas, novamente, o código dá **erro**! Por que isso ocorre?"
   ]
  },
  {
   "cell_type": "markdown",
   "metadata": {},
   "source": [
    "**Resposta:** o método `__add__()` não deve ser chamado da maneira acima!\n",
    "\n",
    "E, se refletirmos nos conteúdos anteriores, há outro método que vimos que também é escrito com \"__\" e não é chamado da maneira que esperamos. É o método `__init__()`!"
   ]
  },
  {
   "cell_type": "markdown",
   "metadata": {},
   "source": [
    "Métodos que têm dois \"underlines\" à esquerda e à direita de seu identificador são chamados de *Métodos Mágicos*. Esses métodos são implementados no código-fonte do Python, portanto têm algumas peculiaridades. No caso dos métodos `__add__()` e `__init__()`, podemos chamá-los de maneiras **especiais**."
   ]
  },
  {
   "cell_type": "markdown",
   "metadata": {},
   "source": [
    "No caso de `__init__()`, já sabemos! Embora seja possível, Ao invés de chamarmos"
   ]
  },
  {
   "cell_type": "code",
   "execution_count": null,
   "metadata": {},
   "outputs": [],
   "source": [
    "objeto = Classe.__init__(objeto)"
   ]
  },
  {
   "cell_type": "markdown",
   "metadata": {},
   "source": [
    "Podemos chamar:"
   ]
  },
  {
   "cell_type": "code",
   "execution_count": 72,
   "metadata": {},
   "outputs": [],
   "source": [
    "objeto = Classe()"
   ]
  },
  {
   "cell_type": "markdown",
   "metadata": {},
   "source": [
    "No caso do método `__add__()`, a maneira que utilizaremos para chamá-lo será, como você já deve imaginar, usando o operador `+`!"
   ]
  },
  {
   "cell_type": "markdown",
   "metadata": {},
   "source": [
    "A parte legal é que, ao criarmos classes novas, podemos **redefinir** o método `__add__()`! E isso faz com que possamos gerar um comportamento diferente do esperado para a soma de dois objetos. \n",
    "\n",
    "É exatamente isso que ocorre com strings: a classe `str` redefine o método `__add__()` no código-fonte do Python, de maneira que quando duas strings são somadas o método retorna a concatenação das strings."
   ]
  },
  {
   "cell_type": "markdown",
   "metadata": {},
   "source": [
    "Sabendo disso, podemos por exemplo criar uma classe `Horario`, que tem como atributos `horas`, `minutos` e `segundos` que implementa o método `__add__()` da seguinte maneira: quando dois objetos da classe `Horario` são somados, um **novo** `Horario` contendo a soma entre os atributos `horas`, `minutos` e `segundos` dos dois horários somados é retornada."
   ]
  },
  {
   "cell_type": "code",
   "execution_count": 74,
   "metadata": {},
   "outputs": [],
   "source": [
    "class Horario:\n",
    "    def __init__(self, horas, minutos, segundos):\n",
    "        self.horas = horas\n",
    "        self.minutos = minutos\n",
    "        self.segundos = segundos\n",
    "\n",
    "    def __add__(self, outro_horario):\n",
    "        horas = self.horas + outro_horario.horas\n",
    "        minutos = self.minutos + outro_horario.minutos\n",
    "        segundos = self.segundos + outro_horario.segundos\n",
    "\n",
    "        novo_horario = Horario(horas, minutos, segundos)\n",
    "        \n",
    "        return novo_horario"
   ]
  },
  {
   "cell_type": "markdown",
   "metadata": {},
   "source": [
    "Vamos testar a classe acima!"
   ]
  },
  {
   "cell_type": "code",
   "execution_count": 80,
   "metadata": {},
   "outputs": [
    {
     "name": "stdout",
     "output_type": "stream",
     "text": [
      "13h7m0s\n"
     ]
    }
   ],
   "source": [
    "cinco_em_ponto = Horario(5, 0, 0)\n",
    "oito_e_sete = Horario(8, 7, 0)\n",
    "\n",
    "treze_e_sete = cinco_em_ponto + oito_e_sete\n",
    "print(f'{treze_e_sete.horas}h{treze_e_sete.minutos}m{treze_e_sete.segundos}s')"
   ]
  },
  {
   "cell_type": "markdown",
   "metadata": {},
   "source": [
    "#### O método mágico `__repr__()`"
   ]
  },
  {
   "cell_type": "markdown",
   "metadata": {},
   "source": [
    "A lista completa de métodos mágicos para cada classe em Python é **vasta**. Assim, não há como lembrarmos de todos a todo o tempo. No entanto, há alguns métodos que usaremos o tempo todo a partir de agora. Um deles é o `__add__()`, que já mostramos. Outro é o método `__repr__()`."
   ]
  },
  {
   "cell_type": "markdown",
   "metadata": {},
   "source": [
    "No exemplo acima, com a soma dos horários, precisamos utilizar uma função `print()` para imprimir as informações do objeto do tipo `Horario`. \n",
    "\n",
    "Mas seria mais prático se pudéssemos imprimirmos o objeto em si com essas informações, como em `print(treze_e_sete)`.\n",
    "\n",
    "O método `__repr__()` nos ajudará com isso!"
   ]
  },
  {
   "cell_type": "code",
   "execution_count": 85,
   "metadata": {},
   "outputs": [],
   "source": [
    "class Horario:\n",
    "    def __init__(self, horas, minutos, segundos):\n",
    "        self.horas = horas\n",
    "        self.minutos = minutos\n",
    "        self.segundos = segundos\n",
    "\n",
    "    def __add__(self, outro_horario):\n",
    "        horas = self.horas + outro_horario.horas\n",
    "        minutos = self.minutos + outro_horario.minutos\n",
    "        segundos = self.segundos + outro_horario.segundos\n",
    "\n",
    "        novo_horario = Horario(horas, minutos, segundos)\n",
    "        \n",
    "        return novo_horario\n",
    "\n",
    "    def __repr__(self):\n",
    "        return f'{self.horas}h{self.minutos}m{self.segundos}s'"
   ]
  },
  {
   "cell_type": "markdown",
   "metadata": {},
   "source": [
    "Agora, podemos imprimir o objeto da classe `Horario` diretamente na formatação que definimos!"
   ]
  },
  {
   "cell_type": "code",
   "execution_count": 86,
   "metadata": {},
   "outputs": [
    {
     "name": "stdout",
     "output_type": "stream",
     "text": [
      "13h7m0s\n"
     ]
    }
   ],
   "source": [
    "cinco_em_ponto = Horario(5, 0, 0)\n",
    "oito_e_sete = Horario(8, 7, 0)\n",
    "\n",
    "treze_e_sete = cinco_em_ponto + oito_e_sete\n",
    "print(treze_e_sete)"
   ]
  },
  {
   "cell_type": "markdown",
   "metadata": {},
   "source": [
    "A lista completa dos métodos mágicos do Python junto com uma explicação sobre o que fazem pode ser encontrada [neste link (em inglês)](https://rszalski.github.io/magicmethods/)."
   ]
  },
  {
   "cell_type": "markdown",
   "metadata": {},
   "source": [
    "### Herança Múltipla"
   ]
  },
  {
   "cell_type": "markdown",
   "metadata": {},
   "source": [
    "Há situações em que é vantajoso entender uma classe como filha de **mais de uma classe**. \n",
    "\n",
    "Assim, a classe `C` pode ser classe filha das classes `A` e `B` **ao mesmo tempo.**"
   ]
  },
  {
   "cell_type": "markdown",
   "metadata": {},
   "source": [
    "#### Como implementar isso?"
   ]
  },
  {
   "cell_type": "markdown",
   "metadata": {},
   "source": [
    "Primeiro vamos criar as classes mães `A` e `B`"
   ]
  },
  {
   "cell_type": "code",
   "execution_count": null,
   "metadata": {},
   "outputs": [],
   "source": [
    "class A:\n",
    "    def __init__(self, a, b):\n",
    "        self.a = a\n",
    "        self.b = b\n",
    "\n",
    "class B:\n",
    "    def __init__(self, c, d):\n",
    "        self.c = c\n",
    "        self.d = d"
   ]
  },
  {
   "cell_type": "markdown",
   "metadata": {},
   "source": [
    "Até agora lidamos com situaçoes de herança simples, ou seja, uma classe era filha de somente uma outra classe ao mesmo tempo. Quando lidamos com herança múltipla, uma mesma classe filha é filha de duas ou mais classes mães. \n",
    "\n",
    "Assim sendo, como podemos chamar o construtor da classe C, de maneira que ele chame o construtor tanto da classe `A` quanto da classe `B`? "
   ]
  },
  {
   "cell_type": "markdown",
   "metadata": {},
   "source": [
    "#### Resposta possível\n",
    "\n",
    "Função `super()`, utilizando a seguinte sintaxe:\n",
    "\n",
    "`super(ClasseMae, self).__init__(argumento1, argumento2, ...)`"
   ]
  },
  {
   "cell_type": "markdown",
   "metadata": {},
   "source": [
    "##### Contraindicação\n",
    "\n",
    "Embora seja possível, utilizar o método super para herança múltipla pode gerar alguns problemas de ambiguidade para o interpretador."
   ]
  },
  {
   "cell_type": "markdown",
   "metadata": {},
   "source": [
    "#### Resposta recomendada\n",
    "\n",
    "`ClasseMae.__init__(self, argumento1, argumento2, ...)`\n",
    "\n",
    "Dessa maneira chamamos explicitamente o contrutor da classe mãe!"
   ]
  },
  {
   "cell_type": "code",
   "execution_count": null,
   "metadata": {},
   "outputs": [],
   "source": [
    "class C(A, B):\n",
    "    def __init__(self, a , b, c, d):\n",
    "        A.__init__(a,b)\n",
    "        B.__init__(c,d)"
   ]
  },
  {
   "cell_type": "markdown",
   "metadata": {},
   "source": [
    "Mas isso não vale só para o construtor! Podemos chamar quaisquer funções diretamente das classes mães através da sintaxe\n",
    "\n",
    "`ClasseMae.metodo(self)`\n",
    "\n",
    "Retornando ao nosso exemplo com as classes `A` e `B`, vamos criar um novo método `quem()` em cada uma"
   ]
  },
  {
   "cell_type": "code",
   "execution_count": null,
   "metadata": {},
   "outputs": [],
   "source": [
    "class A:\n",
    "    def __init__(self, a, b):\n",
    "        self.a = a\n",
    "        self.b = b\n",
    "\n",
    "    def quem(self):\n",
    "        print('sou da classe A')\n",
    "\n",
    "class B:\n",
    "    def __init__(self, c, d):\n",
    "        self.c = c\n",
    "        self.d = d\n",
    "\n",
    "    def quem(self):\n",
    "        print('sou da classe B')"
   ]
  },
  {
   "cell_type": "markdown",
   "metadata": {},
   "source": [
    "Feito isso, vamos criar um método `quem()` também na classe C, que imprime tanto a classe do objeto quanto suas classes mães!"
   ]
  },
  {
   "cell_type": "code",
   "execution_count": null,
   "metadata": {},
   "outputs": [],
   "source": [
    "class C(A, B):\n",
    "    def __init__(self, a , b, c, d):\n",
    "        A.__init__(self, a,b)\n",
    "        B.__init__(self, c,d)\n",
    "\n",
    "    def quem(self):\n",
    "        print('sou da classe C')\n",
    "        A.quem(self)\n",
    "        B.quem(self)"
   ]
  },
  {
   "cell_type": "markdown",
   "metadata": {},
   "source": [
    "Por fim, vamos ver se funciona:"
   ]
  },
  {
   "cell_type": "code",
   "execution_count": null,
   "metadata": {},
   "outputs": [],
   "source": [
    "objeto = C(1, 2, 3, 4)\n",
    "\n",
    "objeto.quem()"
   ]
  }
 ],
 "metadata": {
  "interpreter": {
   "hash": "e7370f93d1d0cde622a1f8e1c04877d8463912d04d973331ad4851f04de6915a"
  },
  "kernelspec": {
   "display_name": "Python 3.10.2 64-bit",
   "language": "python",
   "name": "python3"
  },
  "language_info": {
   "codemirror_mode": {
    "name": "ipython",
    "version": 3
   },
   "file_extension": ".py",
   "mimetype": "text/x-python",
   "name": "python",
   "nbconvert_exporter": "python",
   "pygments_lexer": "ipython3",
   "version": "3.10.2"
  },
  "orig_nbformat": 4
 },
 "nbformat": 4,
 "nbformat_minor": 2
}
